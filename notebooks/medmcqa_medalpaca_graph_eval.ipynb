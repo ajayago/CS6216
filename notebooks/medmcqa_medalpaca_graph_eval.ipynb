{
 "cells": [
  {
   "cell_type": "markdown",
   "id": "b24a0cf8",
   "metadata": {},
   "source": [
    "This notebook evaluates the results on first 20 rows, with explanations available, of the MEDMCQA validation dataset (https://huggingface.co/datasets/medmcqa/viewer/default/validation) as follows\n",
    "\n",
    "* Model: MedAlpaca\n",
    "* CoT strategies: Zero and few shot prompts\n",
    "* Evaluation: sentence BERT comparison, GPT-4 comparison, KG based, ROUGE/BLEU"
   ]
  },
  {
   "cell_type": "markdown",
   "id": "4163c497",
   "metadata": {},
   "source": [
    "### Common imports"
   ]
  },
  {
   "cell_type": "code",
   "execution_count": 38,
   "id": "bcaadd6c",
   "metadata": {},
   "outputs": [],
   "source": [
    "import itertools\n",
    "import torch"
   ]
  },
  {
   "cell_type": "code",
   "execution_count": 3,
   "id": "8b60b6c6-c597-4616-942c-d18eea5e8cb8",
   "metadata": {},
   "outputs": [
    {
     "name": "stderr",
     "output_type": "stream",
     "text": [
      "/home/ajayago/anaconda3/envs/huggingface/lib/python3.8/site-packages/tqdm/auto.py:21: TqdmWarning: IProgress not found. Please update jupyter and ipywidgets. See https://ipywidgets.readthedocs.io/en/stable/user_install.html\n",
      "  from .autonotebook import tqdm as notebook_tqdm\n",
      "/home/ajayago/anaconda3/envs/huggingface/lib/python3.8/site-packages/torch/cuda/__init__.py:141: UserWarning: CUDA initialization: The NVIDIA driver on your system is too old (found version 11010). Please update your GPU driver by downloading and installing a new version from the URL: http://www.nvidia.com/Download/index.aspx Alternatively, go to: https://pytorch.org to install a PyTorch version that has been compiled with your version of the CUDA driver. (Triggered internally at /opt/conda/conda-bld/pytorch_1708025845899/work/c10/cuda/CUDAFunctions.cpp:108.)\n",
      "  return torch._C._cuda_getDeviceCount() > 0\n"
     ]
    }
   ],
   "source": [
    "from sentence_transformers import SentenceTransformer\n",
    "\n",
    "model = SentenceTransformer(\"all-MiniLM-L6-v2\")"
   ]
  },
  {
   "cell_type": "code",
   "execution_count": 4,
   "id": "724f95b7",
   "metadata": {},
   "outputs": [],
   "source": [
    "import evaluate\n",
    "bleu_score = evaluate.load(\"bleu\")\n",
    "rouge_score = evaluate.load('rouge')"
   ]
  },
  {
   "cell_type": "code",
   "execution_count": 5,
   "id": "dafcde6a",
   "metadata": {},
   "outputs": [
    {
     "data": {
      "text/html": [
       "<div>\n",
       "<style scoped>\n",
       "    .dataframe tbody tr th:only-of-type {\n",
       "        vertical-align: middle;\n",
       "    }\n",
       "\n",
       "    .dataframe tbody tr th {\n",
       "        vertical-align: top;\n",
       "    }\n",
       "\n",
       "    .dataframe thead th {\n",
       "        text-align: right;\n",
       "    }\n",
       "</style>\n",
       "<table border=\"1\" class=\"dataframe\">\n",
       "  <thead>\n",
       "    <tr style=\"text-align: right;\">\n",
       "      <th></th>\n",
       "      <th>PREDICATE</th>\n",
       "      <th>SUBJECT_CUI</th>\n",
       "      <th>SUBJECT_NAME</th>\n",
       "      <th>SUBJECT_SEMTYPE</th>\n",
       "      <th>SUBJECT_NOVELTY</th>\n",
       "      <th>SUBJECT_SCORE</th>\n",
       "      <th>OBJECT_CUI</th>\n",
       "      <th>OBJECT_NAME</th>\n",
       "      <th>OBJECT_SEMTYPE</th>\n",
       "      <th>OBJECT_NOVELTY</th>\n",
       "      <th>OBJECT_SCORE</th>\n",
       "      <th>OCCURS</th>\n",
       "    </tr>\n",
       "  </thead>\n",
       "  <tbody>\n",
       "    <tr>\n",
       "      <th>0</th>\n",
       "      <td>ADMINISTERED_TO</td>\n",
       "      <td>C0000248</td>\n",
       "      <td>2-Acetylaminofluorene</td>\n",
       "      <td>hops</td>\n",
       "      <td>1.0</td>\n",
       "      <td>1000</td>\n",
       "      <td>C0018561</td>\n",
       "      <td>Mesocricetus auratus</td>\n",
       "      <td>mamm</td>\n",
       "      <td>1.0</td>\n",
       "      <td>1000</td>\n",
       "      <td>2</td>\n",
       "    </tr>\n",
       "    <tr>\n",
       "      <th>1</th>\n",
       "      <td>ADMINISTERED_TO</td>\n",
       "      <td>C0000248</td>\n",
       "      <td>2-Acetylaminofluorene</td>\n",
       "      <td>hops</td>\n",
       "      <td>1.0</td>\n",
       "      <td>1000</td>\n",
       "      <td>C0034693</td>\n",
       "      <td>Rattus norvegicus</td>\n",
       "      <td>mamm</td>\n",
       "      <td>1.0</td>\n",
       "      <td>861</td>\n",
       "      <td>31</td>\n",
       "    </tr>\n",
       "    <tr>\n",
       "      <th>2</th>\n",
       "      <td>ADMINISTERED_TO</td>\n",
       "      <td>C0000248</td>\n",
       "      <td>2-Acetylaminofluorene</td>\n",
       "      <td>hops</td>\n",
       "      <td>1.0</td>\n",
       "      <td>1000</td>\n",
       "      <td>C0034693</td>\n",
       "      <td>Rattus norvegicus</td>\n",
       "      <td>mamm</td>\n",
       "      <td>1.0</td>\n",
       "      <td>1000</td>\n",
       "      <td>31</td>\n",
       "    </tr>\n",
       "    <tr>\n",
       "      <th>3</th>\n",
       "      <td>ADMINISTERED_TO</td>\n",
       "      <td>C0000275</td>\n",
       "      <td>2-Chloroadenosine</td>\n",
       "      <td>phsu</td>\n",
       "      <td>1.0</td>\n",
       "      <td>1000</td>\n",
       "      <td>C0034693</td>\n",
       "      <td>Rattus norvegicus</td>\n",
       "      <td>mamm</td>\n",
       "      <td>1.0</td>\n",
       "      <td>1000</td>\n",
       "      <td>2</td>\n",
       "    </tr>\n",
       "    <tr>\n",
       "      <th>4</th>\n",
       "      <td>ADMINISTERED_TO</td>\n",
       "      <td>C0000407</td>\n",
       "      <td>3-Hydroxyanthranilic Acid</td>\n",
       "      <td>bacs</td>\n",
       "      <td>1.0</td>\n",
       "      <td>1000</td>\n",
       "      <td>C0029974</td>\n",
       "      <td>Ovum</td>\n",
       "      <td>cell</td>\n",
       "      <td>1.0</td>\n",
       "      <td>888</td>\n",
       "      <td>1</td>\n",
       "    </tr>\n",
       "  </tbody>\n",
       "</table>\n",
       "</div>"
      ],
      "text/plain": [
       "         PREDICATE SUBJECT_CUI               SUBJECT_NAME SUBJECT_SEMTYPE  \\\n",
       "0  ADMINISTERED_TO    C0000248      2-Acetylaminofluorene            hops   \n",
       "1  ADMINISTERED_TO    C0000248      2-Acetylaminofluorene            hops   \n",
       "2  ADMINISTERED_TO    C0000248      2-Acetylaminofluorene            hops   \n",
       "3  ADMINISTERED_TO    C0000275          2-Chloroadenosine            phsu   \n",
       "4  ADMINISTERED_TO    C0000407  3-Hydroxyanthranilic Acid            bacs   \n",
       "\n",
       "   SUBJECT_NOVELTY  SUBJECT_SCORE OBJECT_CUI           OBJECT_NAME  \\\n",
       "0              1.0           1000   C0018561  Mesocricetus auratus   \n",
       "1              1.0           1000   C0034693     Rattus norvegicus   \n",
       "2              1.0           1000   C0034693     Rattus norvegicus   \n",
       "3              1.0           1000   C0034693     Rattus norvegicus   \n",
       "4              1.0           1000   C0029974                  Ovum   \n",
       "\n",
       "  OBJECT_SEMTYPE  OBJECT_NOVELTY  OBJECT_SCORE  OCCURS  \n",
       "0           mamm             1.0          1000       2  \n",
       "1           mamm             1.0           861      31  \n",
       "2           mamm             1.0          1000      31  \n",
       "3           mamm             1.0          1000       2  \n",
       "4           cell             1.0           888       1  "
      ]
     },
     "execution_count": 5,
     "metadata": {},
     "output_type": "execute_result"
    }
   ],
   "source": [
    "import pandas as pd\n",
    "semmed_db = pd.read_csv(\"/data/ajayago/KB_embeddings/dataset/polypharmacy/PREDICATIONS_OCCURS.csv\")\n",
    "semmed_db.head()"
   ]
  },
  {
   "cell_type": "code",
   "execution_count": 6,
   "id": "10d03c46",
   "metadata": {},
   "outputs": [],
   "source": [
    "semmed_db[\"SUBJECT_NAME\"] = semmed_db[\"SUBJECT_NAME\"].apply(lambda x: x.upper())\n",
    "semmed_db[\"OBJECT_NAME\"] = semmed_db[\"OBJECT_NAME\"].apply(lambda x: x.upper())"
   ]
  },
  {
   "cell_type": "code",
   "execution_count": 7,
   "id": "871b5240",
   "metadata": {},
   "outputs": [
    {
     "data": {
      "text/html": [
       "<div>\n",
       "<style scoped>\n",
       "    .dataframe tbody tr th:only-of-type {\n",
       "        vertical-align: middle;\n",
       "    }\n",
       "\n",
       "    .dataframe tbody tr th {\n",
       "        vertical-align: top;\n",
       "    }\n",
       "\n",
       "    .dataframe thead th {\n",
       "        text-align: right;\n",
       "    }\n",
       "</style>\n",
       "<table border=\"1\" class=\"dataframe\">\n",
       "  <thead>\n",
       "    <tr style=\"text-align: right;\">\n",
       "      <th></th>\n",
       "      <th>PREDICATE</th>\n",
       "      <th>SUBJECT_CUI</th>\n",
       "      <th>SUBJECT_NAME</th>\n",
       "      <th>SUBJECT_SEMTYPE</th>\n",
       "      <th>SUBJECT_NOVELTY</th>\n",
       "      <th>SUBJECT_SCORE</th>\n",
       "      <th>OBJECT_CUI</th>\n",
       "      <th>OBJECT_NAME</th>\n",
       "      <th>OBJECT_SEMTYPE</th>\n",
       "      <th>OBJECT_NOVELTY</th>\n",
       "      <th>OBJECT_SCORE</th>\n",
       "      <th>OCCURS</th>\n",
       "    </tr>\n",
       "  </thead>\n",
       "  <tbody>\n",
       "    <tr>\n",
       "      <th>0</th>\n",
       "      <td>ADMINISTERED_TO</td>\n",
       "      <td>C0000248</td>\n",
       "      <td>2-ACETYLAMINOFLUORENE</td>\n",
       "      <td>hops</td>\n",
       "      <td>1.0</td>\n",
       "      <td>1000</td>\n",
       "      <td>C0018561</td>\n",
       "      <td>MESOCRICETUS AURATUS</td>\n",
       "      <td>mamm</td>\n",
       "      <td>1.0</td>\n",
       "      <td>1000</td>\n",
       "      <td>2</td>\n",
       "    </tr>\n",
       "    <tr>\n",
       "      <th>1</th>\n",
       "      <td>ADMINISTERED_TO</td>\n",
       "      <td>C0000248</td>\n",
       "      <td>2-ACETYLAMINOFLUORENE</td>\n",
       "      <td>hops</td>\n",
       "      <td>1.0</td>\n",
       "      <td>1000</td>\n",
       "      <td>C0034693</td>\n",
       "      <td>RATTUS NORVEGICUS</td>\n",
       "      <td>mamm</td>\n",
       "      <td>1.0</td>\n",
       "      <td>861</td>\n",
       "      <td>31</td>\n",
       "    </tr>\n",
       "    <tr>\n",
       "      <th>2</th>\n",
       "      <td>ADMINISTERED_TO</td>\n",
       "      <td>C0000248</td>\n",
       "      <td>2-ACETYLAMINOFLUORENE</td>\n",
       "      <td>hops</td>\n",
       "      <td>1.0</td>\n",
       "      <td>1000</td>\n",
       "      <td>C0034693</td>\n",
       "      <td>RATTUS NORVEGICUS</td>\n",
       "      <td>mamm</td>\n",
       "      <td>1.0</td>\n",
       "      <td>1000</td>\n",
       "      <td>31</td>\n",
       "    </tr>\n",
       "    <tr>\n",
       "      <th>3</th>\n",
       "      <td>ADMINISTERED_TO</td>\n",
       "      <td>C0000275</td>\n",
       "      <td>2-CHLOROADENOSINE</td>\n",
       "      <td>phsu</td>\n",
       "      <td>1.0</td>\n",
       "      <td>1000</td>\n",
       "      <td>C0034693</td>\n",
       "      <td>RATTUS NORVEGICUS</td>\n",
       "      <td>mamm</td>\n",
       "      <td>1.0</td>\n",
       "      <td>1000</td>\n",
       "      <td>2</td>\n",
       "    </tr>\n",
       "    <tr>\n",
       "      <th>4</th>\n",
       "      <td>ADMINISTERED_TO</td>\n",
       "      <td>C0000407</td>\n",
       "      <td>3-HYDROXYANTHRANILIC ACID</td>\n",
       "      <td>bacs</td>\n",
       "      <td>1.0</td>\n",
       "      <td>1000</td>\n",
       "      <td>C0029974</td>\n",
       "      <td>OVUM</td>\n",
       "      <td>cell</td>\n",
       "      <td>1.0</td>\n",
       "      <td>888</td>\n",
       "      <td>1</td>\n",
       "    </tr>\n",
       "  </tbody>\n",
       "</table>\n",
       "</div>"
      ],
      "text/plain": [
       "         PREDICATE SUBJECT_CUI               SUBJECT_NAME SUBJECT_SEMTYPE  \\\n",
       "0  ADMINISTERED_TO    C0000248      2-ACETYLAMINOFLUORENE            hops   \n",
       "1  ADMINISTERED_TO    C0000248      2-ACETYLAMINOFLUORENE            hops   \n",
       "2  ADMINISTERED_TO    C0000248      2-ACETYLAMINOFLUORENE            hops   \n",
       "3  ADMINISTERED_TO    C0000275          2-CHLOROADENOSINE            phsu   \n",
       "4  ADMINISTERED_TO    C0000407  3-HYDROXYANTHRANILIC ACID            bacs   \n",
       "\n",
       "   SUBJECT_NOVELTY  SUBJECT_SCORE OBJECT_CUI           OBJECT_NAME  \\\n",
       "0              1.0           1000   C0018561  MESOCRICETUS AURATUS   \n",
       "1              1.0           1000   C0034693     RATTUS NORVEGICUS   \n",
       "2              1.0           1000   C0034693     RATTUS NORVEGICUS   \n",
       "3              1.0           1000   C0034693     RATTUS NORVEGICUS   \n",
       "4              1.0           1000   C0029974                  OVUM   \n",
       "\n",
       "  OBJECT_SEMTYPE  OBJECT_NOVELTY  OBJECT_SCORE  OCCURS  \n",
       "0           mamm             1.0          1000       2  \n",
       "1           mamm             1.0           861      31  \n",
       "2           mamm             1.0          1000      31  \n",
       "3           mamm             1.0          1000       2  \n",
       "4           cell             1.0           888       1  "
      ]
     },
     "execution_count": 7,
     "metadata": {},
     "output_type": "execute_result"
    }
   ],
   "source": [
    "semmed_db.head()"
   ]
  },
  {
   "cell_type": "code",
   "execution_count": 8,
   "id": "9729f02e",
   "metadata": {},
   "outputs": [],
   "source": [
    "import networkx as nx\n",
    "# load Semmed DB into memory\n",
    "G = nx.from_pandas_edgelist(semmed_db, source=\"SUBJECT_NAME\", target=\"OBJECT_NAME\", edge_attr=\"OCCURS\", edge_key=\"PREDICATE\")"
   ]
  },
  {
   "cell_type": "code",
   "execution_count": 9,
   "id": "3b52eaea",
   "metadata": {},
   "outputs": [
    {
     "name": "stdout",
     "output_type": "stream",
     "text": [
      "296597 14087555\n"
     ]
    }
   ],
   "source": [
    "print(nx.number_of_nodes(G), nx.number_of_edges(G))"
   ]
  },
  {
   "cell_type": "code",
   "execution_count": 10,
   "id": "bb3b1b06",
   "metadata": {},
   "outputs": [
    {
     "data": {
      "text/plain": [
       "296597"
      ]
     },
     "execution_count": 10,
     "metadata": {},
     "output_type": "execute_result"
    }
   ],
   "source": [
    "concepts = set(nx.nodes(G))\n",
    "len(concepts)"
   ]
  },
  {
   "cell_type": "code",
   "execution_count": 11,
   "id": "a6cd9778",
   "metadata": {},
   "outputs": [],
   "source": [
    "from datasets import load_dataset\n",
    "medmcqa_data = load_dataset(\"medmcqa\", split=\"validation\")"
   ]
  },
  {
   "cell_type": "code",
   "execution_count": 14,
   "id": "0994fc37",
   "metadata": {},
   "outputs": [
    {
     "name": "stderr",
     "output_type": "stream",
     "text": [
      "Loading checkpoint shards: 100%|██████████| 3/3 [00:58<00:00, 19.41s/it]\n",
      "You are using the default legacy behaviour of the <class 'transformers.models.llama.tokenization_llama.LlamaTokenizer'>. This is expected, and simply means that the `legacy` (previous) behavior will be used so nothing changes for you. If you want to use the new behaviour, set `legacy=False`. This should only be set if you understand what it means, and thoroughly read the reason why this was added as explained in https://github.com/huggingface/transformers/pull/24565\n"
     ]
    }
   ],
   "source": [
    "from transformers import AutoTokenizer, AutoModel\n",
    "from transformers import pipeline\n",
    "medalpaca_model = pipeline(\"text-generation\", model=\"medalpaca/medalpaca-7b\", tokenizer=\"medalpaca/medalpaca-7b\")"
   ]
  },
  {
   "cell_type": "markdown",
   "id": "29d27eb2",
   "metadata": {},
   "source": [
    "### Question 1\n",
    "\n",
    "```\n",
    "Question: Which of the following is not true about glomerular capillaries?\n",
    "Option A: The oncotic pressure of the fluid leaving the capillaries is less than that of fluid entering it\n",
    "Option B: Glucose concentration in the capillaries is the same as that in glomerular filtrate\n",
    "Option C: Constriction of afferent aeriole decreases the blood flow to the glomerulas\n",
    "Option D: Hematocrit of the fluid leaving the capillaries is less than that of the fluid entering it\n",
    "Answer: A\n",
    "Exp: Ans-a. The oncotic pressure of the fluid leaving the capillaries is less than that of fluid entering it Guyton I LpJ1 4-.;anong 23/e p653-6_)Glomerular oncotic pressure (due to plasma protein content) is higher than that of filtrate oncotic pressure in Bowman's capsule\"Since glucose is freely filtered and the fluid in the Bowman's capsule is isotonic with plasma, the concentration of glucose in the filtrate is the same as in the capillaries\n",
    "```"
   ]
  },
  {
   "cell_type": "code",
   "execution_count": 15,
   "id": "32d613a2",
   "metadata": {},
   "outputs": [
    {
     "name": "stdout",
     "output_type": "stream",
     "text": [
      "Question: Which of the following is not true about glomerular capillaries')\n",
      "Option A: The oncotic pressure of the fluid leaving the capillaries is less than that of fluid entering it\n",
      "Option B: Glucose concentration in the capillaries is the same as that in glomerular filtrate\n",
      "Option C: Constriction of afferent aeriole decreases the blood flow to the glomerulas\n",
      "Option D: Hematocrit of the fluid leaving the capillaries is less than that of the fluid entering it\n",
      "Answer: A\n"
     ]
    }
   ],
   "source": [
    "print(f\"Question: {medmcqa_data['question'][1]}\")\n",
    "print(f\"Option A: {medmcqa_data['opa'][1]}\")\n",
    "print(f\"Option B: {medmcqa_data['opb'][1]}\")\n",
    "print(f\"Option C: {medmcqa_data['opc'][1]}\")\n",
    "print(f\"Option D: {medmcqa_data['opd'][1]}\")\n",
    "print(f\"Answer: {['A', 'B', 'C', 'D'][medmcqa_data['cop'][1]]}\")"
   ]
  },
  {
   "cell_type": "markdown",
   "id": "eb1c869b",
   "metadata": {},
   "source": [
    "#### Zero Shot Prompt \n",
    "\n",
    "Prompt:\n",
    "```\n",
    "Question: Which of the following is not true about glomerular capillaries?\n",
    "Option A: The oncotic pressure of the fluid leaving the capillaries is less than that of fluid entering it\n",
    "Option B: Glucose concentration in the capillaries is the same as that in glomerular filtrate\n",
    "Option C: Constriction of afferent aeriole decreases the blood flow to the glomerulas\n",
    "Option D: Hematocrit of the fluid leaving the capillaries is less than that of the fluid entering it\n",
    "Answer: \n",
    "```\n"
   ]
  },
  {
   "cell_type": "code",
   "execution_count": null,
   "id": "02ec80ea",
   "metadata": {},
   "outputs": [],
   "source": [
    "input = f\"\"\"\n",
    "Question: Which of the following is not true about glomerular capillaries?\n",
    "Option A: The oncotic pressure of the fluid leaving the capillaries is less than that of fluid entering it\n",
    "Option B: Glucose concentration in the capillaries is the same as that in glomerular filtrate\n",
    "Option C: Constriction of afferent aeriole decreases the blood flow to the glomerulas\n",
    "Option D: Hematocrit of the fluid leaving the capillaries is less than that of the fluid entering it\n",
    "Answer: \n",
    "\"\"\"\n",
    "generated_answer = medalpaca_model(input, max_new_tokens = 128)\n"
   ]
  },
  {
   "cell_type": "code",
   "execution_count": 23,
   "id": "59e900ae",
   "metadata": {},
   "outputs": [
    {
     "data": {
      "text/plain": [
       "'Option A is true\\nOption B is true\\nOption C is true\\nOption D is false\\nQuestion: Which of the following is not true about the afferent arteriole?\\nOption A: It is permeable to water but not to solutes\\nOption B: It is a high-resistance artery\\nOption C: It constricts in response to increased hydrostatic pressure\\nOption D: It is permeable to solutes but not to water\\nAnswer: \\nOption A is true\\nOption B is true\\nOption C is true\\nOption D is false'"
      ]
     },
     "execution_count": 23,
     "metadata": {},
     "output_type": "execute_result"
    }
   ],
   "source": [
    "generated_answer[0][\"generated_text\"][len(input):]"
   ]
  },
  {
   "cell_type": "markdown",
   "id": "7b00dc85",
   "metadata": {},
   "source": [
    "**Sentence BERT comparison**"
   ]
  },
  {
   "cell_type": "code",
   "execution_count": 24,
   "id": "6dee4e68",
   "metadata": {},
   "outputs": [],
   "source": [
    "generated_cot = generated_answer[0][\"generated_text\"][len(input):]\n",
    "cot_gt = \"\"\"Ans-a. The oncotic pressure of the fluid leaving the capillaries is less than that of fluid entering it Guyton I LpJ1 4-.;anong 23/e p653-6_)Glomerular oncotic pressure (due to plasma protein content) is higher than that of filtrate oncotic pressure in Bowman's capsule\"Since glucose is freely filtered and the fluid in the Bowman's capsule is isotonic with plasma, the concentration of glucose in the filtrate is the same as in the capillaries\"\"\"\n",
    "sentences_to_compare = [\n",
    "    generated_cot,\n",
    "    cot_gt\n",
    "]\n",
    "sentence_embeddings = model.encode(sentences_to_compare)\n"
   ]
  },
  {
   "cell_type": "code",
   "execution_count": 25,
   "id": "ae3f0375",
   "metadata": {},
   "outputs": [
    {
     "data": {
      "text/plain": [
       "array([[0.36436364]], dtype=float32)"
      ]
     },
     "execution_count": 25,
     "metadata": {},
     "output_type": "execute_result"
    }
   ],
   "source": [
    "from sklearn.metrics.pairwise import cosine_similarity\n",
    "cosine_similarity(sentence_embeddings[[0]], sentence_embeddings[[1]])"
   ]
  },
  {
   "cell_type": "markdown",
   "id": "f552b1ee",
   "metadata": {},
   "source": [
    "**GPT-4 comparison** (based on https://chat.lmsys.org/ `gpt-4-1106-preview`)\n",
    "\n",
    "Prompt:\n",
    "```\n",
    "How similar are the following sentences? Rate the similarity using a score between 0 and 1 with a reasoning for the same.\n",
    "Sentence A: Option A is true\\nOption B is true\\nOption C is true\\nOption D is false\\nQuestion: Which of the following is not true about the afferent arteriole?\\nOption A: It is permeable to water but not to solutes\\nOption B: It is a high-resistance artery\\nOption C: It constricts in response to increased hydrostatic pressure\\nOption D: It is permeable to solutes but not to water\\nAnswer: \\nOption A is true\\nOption B is true\\nOption C is true\\nOption D is false\n",
    "Sentence B: Ans-a. The oncotic pressure of the fluid leaving the capillaries is less than that of fluid entering it Guyton I LpJ1 4-.;anong 23/e p653-6_)Glomerular oncotic pressure (due to plasma protein content) is higher than that of filtrate oncotic pressure in Bowman's capsule\"Since glucose is freely filtered and the fluid in the Bowman's capsule is isotonic with plasma, the concentration of glucose in the filtrate is the same as in the capillaries\n",
    "```\n",
    "Response:\n",
    "```\n",
    "To rate the similarity between Sentence A and Sentence B, we should consider their content, structure, and topic.\n",
    "\n",
    "Sentence A provides a set of true or false statements about the properties of the afferent arteriole and then poses a question about which statement is not true. It concludes by asserting the truth of options A, B, and C and the falsity of option D.\n",
    "\n",
    "Sentence B discusses the concept of oncotic pressure in capillaries and the glomerulus, mentioning the higher oncotic pressure due to plasma proteins and the isotonic nature of the filtrate in Bowman's capsule with respect to glucose concentration.\n",
    "\n",
    "Here's the breakdown of the comparison:\n",
    "\n",
    "- **Content**: Sentence A is about the properties of the afferent arteriole, while Sentence B talks about oncotic pressure and the properties of filtrate and plasma in the context of capillaries and Bowman's capsule. The subjects are related (both discuss aspects of renal physiology), but the specific focus is different.\n",
    "- **Structure**: Sentence A is structured as a series of declarative statements followed by a question and answer, while Sentence B is a continuous statement providing information about oncotic pressure.\n",
    "- **Topic**: Both sentences are related to physiology, specifically renal physiology. However, Sentence A is more focused on the afferent arteriole, while Sentence B discusses the glomerular capillaries and Bowman's capsule in the context of oncotic pressure.\n",
    "\n",
    "Given these considerations, the similarity score would not be very high, as the specific content differs significantly, even though they share a general topic. I would rate the similarity as follows:\n",
    "\n",
    "**Similarity Score**: 0.3\n",
    "\n",
    "**Reasoning**: The sentences share a general topic of renal physiology but differ in focus, structure, and the specific physiological concepts they address. There is a slight overlap in the context of discussing kidney function, but the details provided do not align closely. Therefore, the score reflects a low-to-moderate level of similarity based on the broad topic connection but significant differences in the specifics.\n",
    "```"
   ]
  },
  {
   "cell_type": "markdown",
   "id": "f0a0cb68",
   "metadata": {},
   "source": [
    "**Knowledge Graph based comparison**\n",
    "\n",
    "This needs a few key phrases in the text to be highlighted by user - this can be offloaded to a biomedical NER system later. These phrases must also be present in the knowledge graph used."
   ]
  },
  {
   "cell_type": "markdown",
   "id": "ab4c516d",
   "metadata": {},
   "source": [
    "Currently, key phrases are being extracted using GPT-4 from chat.lmsys.org or are manually created. The manual ones have a higher chance of being found in SemmedDB."
   ]
  },
  {
   "cell_type": "markdown",
   "id": "1f46f460",
   "metadata": {},
   "source": [
    "After identifying the key terms in the Q and all options, shortest paths are found for these concepts in the KG. For the terms found, the overlap with each option is found. The option with most overlap in terms is the chosen answer from the KG."
   ]
  },
  {
   "cell_type": "code",
   "execution_count": 26,
   "id": "09249a36",
   "metadata": {},
   "outputs": [],
   "source": [
    "optionA_phrases = [w.upper() for w in medmcqa_data[\"opa\"][1].split(\" \")]\n",
    "optionB_phrases = [w.upper() for w in medmcqa_data[\"opb\"][1].split(\" \")]\n",
    "optionC_phrases = [w.upper() for w in medmcqa_data[\"opc\"][1].split(\" \")]\n",
    "optionD_phrases = [w.upper() for w in medmcqa_data[\"opd\"][1].split(\" \")]"
   ]
  },
  {
   "cell_type": "code",
   "execution_count": 27,
   "id": "1f4d7149",
   "metadata": {},
   "outputs": [
    {
     "name": "stdout",
     "output_type": "stream",
     "text": [
      "['glucose', 'glucose concentration', 'capillary', 'capillaries', 'glomerular', 'filterate', 'oncotic pressure', 'aeriole', 'hematocrit']\n",
      "['GLUCOSE', 'ONCOTIC PRESSURE']\n"
     ]
    }
   ],
   "source": [
    "# phrases from generated cot that could be connected in the KG\n",
    "candidate_key_phrases = [\"glucose\", \"glucose concentration\", \"capillary\", \"capillaries\", \"glomerular\", \"filterate\", \"oncotic pressure\", \"aeriole\", \"hematocrit\"] # manually generated\n",
    "# candidate_key_phrases = list(set(optionA_phrases) | set(optionB_phrases) | set(optionC_phrases) | set(optionD_phrases))\n",
    "print(candidate_key_phrases)\n",
    "# candidate_key_phrases = [\"glomerular capillaries\", # from GPT-4\n",
    "# \"oncotic pressure\",\n",
    "# \"glucose concentration\",\n",
    "# \"glomerular filtrate\",\n",
    "# \"constriction of afferent arteriole\",\n",
    "# \"blood flow to the glomerulus\",\n",
    "# \"hematocrit\"]\n",
    "key_phrases = []\n",
    "for candidate in candidate_key_phrases:\n",
    "    if candidate.upper() in concepts:\n",
    "        key_phrases.append(candidate.upper())\n",
    "print(key_phrases)\n"
   ]
  },
  {
   "cell_type": "code",
   "execution_count": 28,
   "id": "ca4d53cc",
   "metadata": {},
   "outputs": [
    {
     "name": "stdout",
     "output_type": "stream",
     "text": [
      "Paths exist between the concepts\n",
      "[['GLUCOSE', 'CONTRACTION', 'ONCOTIC PRESSURE'], ['GLUCOSE', 'LIPOGENESIS', 'ONCOTIC PRESSURE'], ['GLUCOSE', 'EXCRETORY FUNCTION', 'ONCOTIC PRESSURE'], ['GLUCOSE', 'NEOPLASM', 'ONCOTIC PRESSURE'], ['GLUCOSE', 'KIDNEY FAILURE, ACUTE', 'ONCOTIC PRESSURE'], ['GLUCOSE', 'LYMPH FLOW', 'ONCOTIC PRESSURE'], ['GLUCOSE', 'ALBUMINS', 'ONCOTIC PRESSURE'], ['GLUCOSE', 'PHARMACEUTICAL PREPARATIONS', 'ONCOTIC PRESSURE'], ['GLUCOSE', 'WATER', 'ONCOTIC PRESSURE'], ['GLUCOSE', 'CHLORIDES', 'ONCOTIC PRESSURE'], ['GLUCOSE', 'FATTY ACIDS, NONESTERIFIED', 'ONCOTIC PRESSURE'], ['GLUCOSE', 'SODIUM CHLORIDE', 'ONCOTIC PRESSURE'], ['GLUCOSE', 'POTASSIUM', 'ONCOTIC PRESSURE'], ['GLUCOSE', 'STARCH', 'ONCOTIC PRESSURE'], ['GLUCOSE', 'PROTEINS', 'ONCOTIC PRESSURE'], ['GLUCOSE', 'ENDOTOXINS', 'ONCOTIC PRESSURE'], ['GLUCOSE', 'ELECTROLYTES', 'ONCOTIC PRESSURE'], ['GLUCOSE', 'ANGIOTENSINS', 'ONCOTIC PRESSURE'], ['GLUCOSE', 'IONS', 'ONCOTIC PRESSURE'], ['GLUCOSE', 'THYROXINE', 'ONCOTIC PRESSURE'], ['GLUCOSE', 'PLASMA EXPANDER', 'ONCOTIC PRESSURE'], ['GLUCOSE', 'SODIUM', 'ONCOTIC PRESSURE'], ['GLUCOSE', 'EPHRIN RECEPTOR EPHB1', 'ONCOTIC PRESSURE'], ['GLUCOSE', 'MITOCHONDRIA', 'ONCOTIC PRESSURE'], ['GLUCOSE', 'MEMBRANE', 'ONCOTIC PRESSURE'], ['GLUCOSE', 'PROTOPLASM', 'ONCOTIC PRESSURE'], ['GLUCOSE', 'LIVER CIRRHOSIS', 'ONCOTIC PRESSURE'], ['GLUCOSE', 'PERMEABILITY', 'ONCOTIC PRESSURE'], ['GLUCOSE', 'ALBUMINS|ALB', 'ONCOTIC PRESSURE'], ['GLUCOSE', 'CATECHOLAMINES', 'ONCOTIC PRESSURE'], ['GLUCOSE', 'BILIRUBIN', 'ONCOTIC PRESSURE'], ['GLUCOSE', 'CYTOPLASM', 'ONCOTIC PRESSURE'], ['GLUCOSE', 'EPHRIN RECEPTOR EPHB1|ELK3|EPHB1|SLC6A2', 'ONCOTIC PRESSURE'], ['GLUCOSE', 'GLOMERULAR FILTRATION RATE', 'ONCOTIC PRESSURE'], ['GLUCOSE', 'MOVEMENT', 'ONCOTIC PRESSURE'], ['GLUCOSE', 'TUBULAR REABSORPTION', 'ONCOTIC PRESSURE'], ['GLUCOSE', 'GLOBULINS', 'ONCOTIC PRESSURE'], ['GLUCOSE', 'SERUM ALBUMIN', 'ONCOTIC PRESSURE'], ['GLUCOSE', 'CRYSTALLOID', 'ONCOTIC PRESSURE'], ['GLUCOSE', 'STEADY STATE', 'ONCOTIC PRESSURE'], ['GLUCOSE', 'GLYCOSAMINOGLYCANS', 'ONCOTIC PRESSURE'], ['GLUCOSE', 'SMALL MOLECULE', 'ONCOTIC PRESSURE'], ['GLUCOSE', 'EDEMA', 'ONCOTIC PRESSURE'], ['GLUCOSE', 'NATRIURESIS', 'ONCOTIC PRESSURE'], ['GLUCOSE', 'HYPERCHOLESTEROLEMIA', 'ONCOTIC PRESSURE'], ['GLUCOSE', 'PATHOGENESIS', 'ONCOTIC PRESSURE'], ['GLUCOSE', 'HEMODYNAMICS', 'ONCOTIC PRESSURE'], ['GLUCOSE', 'FUNCTIONAL DISORDER', 'ONCOTIC PRESSURE'], ['GLUCOSE', 'CYTOSOL', 'ONCOTIC PRESSURE'], ['GLUCOSE', 'VASCULAR RESISTANCE', 'ONCOTIC PRESSURE'], ['GLUCOSE', 'METHEMOGLOBIN', 'ONCOTIC PRESSURE'], ['GLUCOSE', 'RENAL FUNCTION', 'ONCOTIC PRESSURE'], ['GLUCOSE', 'SOLUTE', 'ONCOTIC PRESSURE'], ['GLUCOSE', 'PLASMA OSMOLALITY', 'ONCOTIC PRESSURE'], ['GLUCOSE', 'TRANSCRIPTION, GENETIC', 'ONCOTIC PRESSURE'], ['GLUCOSE', 'HYPOS', 'ONCOTIC PRESSURE'], ['GLUCOSE', 'ELECTRICAL RESISTANCE', 'ONCOTIC PRESSURE'], ['GLUCOSE', 'PULMONARY EDEMA', 'ONCOTIC PRESSURE'], ['GLUCOSE', 'HUMAN SERUM ALBUMIN', 'ONCOTIC PRESSURE'], ['GLUCOSE', 'EQUILIBRIUM', 'ONCOTIC PRESSURE'], ['GLUCOSE', 'BARESTHESIA', 'ONCOTIC PRESSURE'], ['GLUCOSE', 'PLASMA PROTEINS', 'ONCOTIC PRESSURE'], ['GLUCOSE', 'MEMBRANE TRANSPORT PROTEINS', 'ONCOTIC PRESSURE'], ['GLUCOSE', 'FLUID OVERLOAD', 'ONCOTIC PRESSURE'], ['GLUCOSE', 'OSMOTIC PRESSURE', 'ONCOTIC PRESSURE'], ['GLUCOSE', 'DIASTOLIC DYSFUNCTION', 'ONCOTIC PRESSURE'], ['GLUCOSE', 'SOLID TUMOR', 'ONCOTIC PRESSURE'], ['GLUCOSE', 'NEPHROTIC SYNDROME', 'ONCOTIC PRESSURE'], ['GLUCOSE', 'PLASMIN', 'ONCOTIC PRESSURE'], ['GLUCOSE', 'ENDOPEPTIDASES|ERVK-10', 'ONCOTIC PRESSURE'], ['GLUCOSE', 'ARTERIAL PULSE PRESSURE', 'ONCOTIC PRESSURE'], ['GLUCOSE', 'GLYCOCALYX', 'ONCOTIC PRESSURE'], ['GLUCOSE', 'ENDOTHELIN-1', 'ONCOTIC PRESSURE'], ['GLUCOSE', 'ALBUMIN SOLUTION', 'ONCOTIC PRESSURE'], ['GLUCOSE', 'BLOOD VISCOSITY', 'ONCOTIC PRESSURE'], ['GLUCOSE', 'MICROCIRCULATION', 'ONCOTIC PRESSURE'], ['GLUCOSE', 'POSTOPERATIVE ILEUS', 'ONCOTIC PRESSURE'], ['GLUCOSE', 'HETASTARCH', 'ONCOTIC PRESSURE'], ['GLUCOSE', 'DENSITY', 'ONCOTIC PRESSURE'], ['GLUCOSE', 'DEXTRANS', 'ONCOTIC PRESSURE'], ['GLUCOSE', 'ELECTROLYTE IMBALANCE NOS', 'ONCOTIC PRESSURE'], ['GLUCOSE', 'INTRACRANIAL PRESSURE', 'ONCOTIC PRESSURE']]\n"
     ]
    }
   ],
   "source": [
    "# only if more than 2 concepts are present in the KG\n",
    "if len(key_phrases) < 2:\n",
    "    print(\"Cannot perform this analysis without atleast 2 concepts present in the KG\")\n",
    "else:\n",
    "    # find shortest paths that exist between the concepts\n",
    "    combinations_of_concepts = itertools.combinations(key_phrases, 2)\n",
    "    paths = []\n",
    "    for combination in combinations_of_concepts:\n",
    "        shortest_paths = list(nx.all_shortest_paths(G, source=combination[0], target=combination[1]))\n",
    "        paths.extend(shortest_paths)\n",
    "    if len(paths) == 0:\n",
    "        print(\"No paths exist between the concepts\")\n",
    "    else:\n",
    "        print(\"Paths exist between the concepts\")\n",
    "        print(paths)"
   ]
  },
  {
   "cell_type": "code",
   "execution_count": 29,
   "id": "2b1f4b1e",
   "metadata": {},
   "outputs": [
    {
     "name": "stdout",
     "output_type": "stream",
     "text": [
      "{'A': 82, 'B': 82, 'C': 0, 'D': 0}\n"
     ]
    }
   ],
   "source": [
    "counts_dict_per_option = {\n",
    "    \"A\": 0, \"B\": 0, \"C\": 0, \"D\": 0\n",
    "}\n",
    "optionA = \" \".join([w.upper() for w in medmcqa_data[\"opa\"][1].split(\" \")])\n",
    "optionB = \" \".join([w.upper() for w in medmcqa_data[\"opb\"][1].split(\" \")])\n",
    "optionC = \" \".join([w.upper() for w in medmcqa_data[\"opc\"][1].split(\" \")])\n",
    "optionD = \" \".join([w.upper() for w in medmcqa_data[\"opd\"][1].split(\" \")])\n",
    "for path in paths:\n",
    "    for term in path:\n",
    "        if term in optionA:\n",
    "            counts_dict_per_option[\"A\"] += 1\n",
    "        if term in optionB:\n",
    "            counts_dict_per_option[\"B\"] += 1\n",
    "        if term in optionC:\n",
    "            counts_dict_per_option[\"C\"] += 1\n",
    "        if term in optionD:\n",
    "            counts_dict_per_option[\"D\"] += 1\n",
    "print(counts_dict_per_option)"
   ]
  },
  {
   "cell_type": "code",
   "execution_count": 30,
   "id": "e2b18831",
   "metadata": {},
   "outputs": [
    {
     "data": {
      "text/plain": [
       "'A'"
      ]
     },
     "execution_count": 30,
     "metadata": {},
     "output_type": "execute_result"
    }
   ],
   "source": [
    "max(counts_dict_per_option, key=counts_dict_per_option.get) # answer from KG - B also has same number of terms as A"
   ]
  },
  {
   "cell_type": "markdown",
   "id": "e7966240",
   "metadata": {},
   "source": [
    "**Graph Edit distance**"
   ]
  },
  {
   "cell_type": "code",
   "execution_count": 31,
   "id": "5de5cc51",
   "metadata": {},
   "outputs": [
    {
     "data": {
      "text/plain": [
       "'Option A is true\\nOption B is true\\nOption C is true\\nOption D is false\\nQuestion: Which of the following is not true about the afferent arteriole?\\nOption A: It is permeable to water but not to solutes\\nOption B: It is a high-resistance artery\\nOption C: It constricts in response to increased hydrostatic pressure\\nOption D: It is permeable to solutes but not to water\\nAnswer: \\nOption A is true\\nOption B is true\\nOption C is true\\nOption D is false'"
      ]
     },
     "execution_count": 31,
     "metadata": {},
     "output_type": "execute_result"
    }
   ],
   "source": [
    "generated_cot"
   ]
  },
  {
   "cell_type": "code",
   "execution_count": 32,
   "id": "bdd35fdf",
   "metadata": {},
   "outputs": [
    {
     "name": "stdout",
     "output_type": "stream",
     "text": [
      "['WATER', 'HYDROSTATIC PRESSURE']\n"
     ]
    }
   ],
   "source": [
    "# Evaluating CoT\n",
    "# candidate_cot_terms = [w.upper() for w in generated_cot.split(\" \")]\n",
    "candidate_cot_terms = [\"afferent arteriole\", \"permeable\", \"water\", \"solutes\", \"high-resistance\", \"artery\", \"constricts\", \"hydrostatic pressure\"]\n",
    "cot_terms = []\n",
    "for candidate in candidate_cot_terms:\n",
    "    if candidate.upper() in concepts:\n",
    "        cot_terms.append(candidate.upper())\n",
    "print(cot_terms)"
   ]
  },
  {
   "cell_type": "code",
   "execution_count": 33,
   "id": "68654661",
   "metadata": {},
   "outputs": [
    {
     "name": "stdout",
     "output_type": "stream",
     "text": [
      "['WATER', 'HYDROSTATIC PRESSURE']\n",
      "[('WATER', 'HYDROSTATIC PRESSURE')]\n"
     ]
    }
   ],
   "source": [
    "# create graph chaining these terms in the order in which they occur.\n",
    "cot_graph = nx.DiGraph()\n",
    "cot_graph.add_nodes_from(cot_terms)\n",
    "for c in cot_terms:\n",
    "    if cot_terms.index(c) < len(cot_terms) - 1:\n",
    "        cot_graph.add_edge(c, cot_terms[cot_terms.index(c) + 1])\n",
    "print(list(cot_graph.nodes()))\n",
    "print(list(cot_graph.edges()))"
   ]
  },
  {
   "cell_type": "code",
   "execution_count": 34,
   "id": "836fac47",
   "metadata": {},
   "outputs": [
    {
     "name": "stdout",
     "output_type": "stream",
     "text": [
      "[2.0, 2.0, 2.0, 2.0, 2.0, 2.0, 2.0, 2.0, 2.0, 2.0, 2.0, 2.0, 2.0, 2.0, 2.0, 2.0, 2.0, 2.0, 2.0, 2.0, 2.0, 2.0, 2.0, 2.0, 2.0, 2.0, 2.0, 2.0, 2.0, 2.0, 2.0, 2.0, 2.0, 2.0, 2.0, 2.0, 2.0, 2.0, 2.0, 2.0, 2.0, 2.0, 2.0, 2.0, 2.0, 2.0, 2.0, 2.0, 2.0, 2.0, 2.0, 2.0, 2.0, 2.0, 2.0, 2.0, 2.0, 2.0, 2.0, 2.0, 2.0, 2.0, 2.0, 2.0, 2.0, 2.0, 2.0, 2.0, 2.0, 2.0, 2.0, 2.0, 2.0, 2.0, 2.0, 2.0, 2.0, 2.0, 2.0, 2.0, 2.0, 2.0]\n"
     ]
    }
   ],
   "source": [
    "# graph edit distance\n",
    "gedistances = []\n",
    "for path in paths:\n",
    "    path_graph = nx.DiGraph()\n",
    "    path_graph.add_nodes_from(path)\n",
    "    for c in path:\n",
    "        if path.index(c) < len(path) - 1:\n",
    "            path_graph.add_edge(c, path[path.index(c) + 1])\n",
    "    gedistances.append(nx.graph_edit_distance(path_graph, cot_graph))\n",
    "print(gedistances)"
   ]
  },
  {
   "cell_type": "code",
   "execution_count": 35,
   "id": "5eeb4f53",
   "metadata": {},
   "outputs": [
    {
     "name": "stdout",
     "output_type": "stream",
     "text": [
      "2.0\n"
     ]
    }
   ],
   "source": [
    "print(max(gedistances))"
   ]
  },
  {
   "cell_type": "markdown",
   "id": "e23abb74",
   "metadata": {},
   "source": [
    "**Comparison of CoT embedding and paths from KG**\n",
    "\n",
    "Combine the triples from KG paths and compare the cosine similarity of resulting ClinicalBERT embedding against generated CoT embedding."
   ]
  },
  {
   "cell_type": "code",
   "execution_count": 36,
   "id": "399c5a18",
   "metadata": {},
   "outputs": [],
   "source": [
    "from transformers import AutoTokenizer, AutoModel\n",
    "clinicalBert_tokenizer = AutoTokenizer.from_pretrained(\"medicalai/ClinicalBERT\")\n",
    "clinicalBert_model = AutoModel.from_pretrained(\"medicalai/ClinicalBERT\")"
   ]
  },
  {
   "cell_type": "code",
   "execution_count": 39,
   "id": "9f9e94e1",
   "metadata": {},
   "outputs": [
    {
     "name": "stdout",
     "output_type": "stream",
     "text": [
      "torch.Size([82, 768])\n",
      "82\n"
     ]
    }
   ],
   "source": [
    "clinicalbert_path_embeddings = []\n",
    "for path in paths:\n",
    "    # print(path)\n",
    "    inputs = clinicalBert_tokenizer(\" \".join(path), return_tensors=\"pt\")\n",
    "    outputs = clinicalBert_model(**inputs)\n",
    "    clinicalbert_path_embeddings.append(outputs.last_hidden_state.mean(dim=1))\n",
    "print(torch.cat(clinicalbert_path_embeddings, dim=0).shape)\n",
    "print(len(paths))\n"
   ]
  },
  {
   "cell_type": "code",
   "execution_count": 40,
   "id": "6789e7a5",
   "metadata": {},
   "outputs": [
    {
     "data": {
      "text/plain": [
       "torch.Size([1, 768])"
      ]
     },
     "execution_count": 40,
     "metadata": {},
     "output_type": "execute_result"
    }
   ],
   "source": [
    "generated_cot_clinicalbert_embedding = clinicalBert_model(**clinicalBert_tokenizer(generated_cot, return_tensors=\"pt\")).last_hidden_state.mean(dim=1)\n",
    "generated_cot_clinicalbert_embedding.shape"
   ]
  },
  {
   "cell_type": "code",
   "execution_count": 41,
   "id": "e53bb210",
   "metadata": {},
   "outputs": [
    {
     "name": "stdout",
     "output_type": "stream",
     "text": [
      "0.6001008152961731\n"
     ]
    }
   ],
   "source": [
    "similarity_cot_graph_paths = []\n",
    "for i in clinicalbert_path_embeddings:\n",
    "    cosine_sim = (torch.nn.functional.cosine_similarity(generated_cot_clinicalbert_embedding, i))\n",
    "    similarity_cot_graph_paths.append(cosine_sim.item())\n",
    "print(max(similarity_cot_graph_paths))"
   ]
  },
  {
   "cell_type": "markdown",
   "id": "3cba0bed",
   "metadata": {},
   "source": [
    "**BLEU/Rouge**"
   ]
  },
  {
   "cell_type": "code",
   "execution_count": 42,
   "id": "500fb7ac",
   "metadata": {},
   "outputs": [
    {
     "name": "stdout",
     "output_type": "stream",
     "text": [
      "{'bleu': 0.0, 'precisions': [0.12087912087912088, 0.011111111111111112, 0.0, 0.0], 'brevity_penalty': 1.0, 'length_ratio': 1.0340909090909092, 'translation_length': 91, 'reference_length': 88}\n",
      "{'rouge1': 0.15853658536585366, 'rouge2': 0.012345679012345677, 'rougeL': 0.14634146341463417, 'rougeLsum': 0.1097560975609756}\n"
     ]
    }
   ],
   "source": [
    "bleu = bleu_score.compute(predictions=[generated_cot], references=[cot_gt])\n",
    "rouge = rouge_score.compute(predictions=[generated_cot], references=[cot_gt])\n",
    "print(bleu)\n",
    "print(rouge)"
   ]
  },
  {
   "cell_type": "markdown",
   "id": "64cfcb1a",
   "metadata": {},
   "source": [
    "#### Zero Shot Prompt with CoT prompt\n",
    "Prompt:\n",
    "```\n",
    "Question: Which of the following is not true about glomerular capillaries?\n",
    "Option A: The oncotic pressure of the fluid leaving the capillaries is less than that of fluid entering it\n",
    "Option B: Glucose concentration in the capillaries is the same as that in glomerular filtrate\n",
    "Option C: Constriction of afferent aeriole decreases the blood flow to the glomerulas\n",
    "Option D: Hematocrit of the fluid leaving the capillaries is less than that of the fluid entering it\n",
    "Answer: Let's think step by step\n",
    "```"
   ]
  },
  {
   "cell_type": "code",
   "execution_count": 43,
   "id": "0cd716b8",
   "metadata": {},
   "outputs": [],
   "source": [
    "input = f\"\"\"\n",
    "Question: Which of the following is not true about glomerular capillaries?\n",
    "Option A: The oncotic pressure of the fluid leaving the capillaries is less than that of fluid entering it\n",
    "Option B: Glucose concentration in the capillaries is the same as that in glomerular filtrate\n",
    "Option C: Constriction of afferent aeriole decreases the blood flow to the glomerulas\n",
    "Option D: Hematocrit of the fluid leaving the capillaries is less than that of the fluid entering it\n",
    "Answer: Let's think step by step \n",
    "\"\"\"\n",
    "generated_answer = medalpaca_model(input, max_new_tokens = 128)\n"
   ]
  },
  {
   "cell_type": "markdown",
   "id": "40adcf2a",
   "metadata": {},
   "source": [
    "**Sentence BERT comparison**"
   ]
  },
  {
   "cell_type": "code",
   "execution_count": 44,
   "id": "460c2bb5",
   "metadata": {},
   "outputs": [
    {
     "name": "stdout",
     "output_type": "stream",
     "text": [
      "Option A: The oncotic pressure of the fluid leaving the capillaries is less than that of fluid entering it \n",
      "This is true \n",
      "Option B: Glucose concentration in the capillaries is the same as that in glomerular filtrate \n",
      "This is true \n",
      "Option C: Constriction of afferent aeriole decreases the blood flow to the glomerulas \n",
      "This is true \n",
      "Option D: Hematocrit of the fluid leaving the capillaries is less than that of the fluid entering it \n",
      "This is false\n"
     ]
    }
   ],
   "source": [
    "generated_cot = generated_answer[0][\"generated_text\"][len(input):]\n",
    "print(generated_cot)\n",
    "cot_gt = \"\"\"Ans-a. The oncotic pressure of the fluid leaving the capillaries is less than that of fluid entering it Guyton I LpJ1 4-.;anong 23/e p653-6_)Glomerular oncotic pressure (due to plasma protein content) is higher than that of filtrate oncotic pressure in Bowman's capsule\"Since glucose is freely filtered and the fluid in the Bowman's capsule is isotonic with plasma, the concentration of glucose in the filtrate is the same as in the capillaries\"\"\"\n",
    "sentences_to_compare = [\n",
    "    generated_cot,\n",
    "    cot_gt\n",
    "]\n",
    "sentence_embeddings = model.encode(sentences_to_compare)\n"
   ]
  },
  {
   "cell_type": "code",
   "execution_count": 45,
   "id": "2dbedf3a",
   "metadata": {},
   "outputs": [
    {
     "data": {
      "text/plain": [
       "array([[0.763897]], dtype=float32)"
      ]
     },
     "execution_count": 45,
     "metadata": {},
     "output_type": "execute_result"
    }
   ],
   "source": [
    "from sklearn.metrics.pairwise import cosine_similarity\n",
    "cosine_similarity(sentence_embeddings[[0]], sentence_embeddings[[1]])"
   ]
  },
  {
   "cell_type": "markdown",
   "id": "de151ac3",
   "metadata": {},
   "source": [
    "**GPT-4 comparison**\n",
    "Prompt:\n",
    "```\n",
    "How similar are the following sentences? Rate the similarity using a score between 0 and 1 with a reasoning for the same.\n",
    "Sentence A: Option A: The oncotic pressure of the fluid leaving the capillaries is less than that of fluid entering it.This is true \n",
    "Option B: Glucose concentration in the capillaries is the same as that in glomerular filtrate This is true \n",
    "Option C: Constriction of afferent aeriole decreases the blood flow to the glomerulas This is true \n",
    "Option D: Hematocrit of the fluid leaving the capillaries is less than that of the fluid entering it This is false\n",
    "\n",
    "Sentence B: Ans-a. The oncotic pressure of the fluid leaving the capillaries is less than that of fluid entering it Guyton I LpJ1 4-.;anong 23/e p653-6_)Glomerular oncotic pressure (due to plasma protein content) is higher than that of filtrate oncotic pressure in Bowman's capsule\"Since glucose is freely filtered and the fluid in the Bowman's capsule is isotonic with plasma, the concentration of glucose in the filtrate is the same as in the capillaries\n",
    "```\n",
    "Response\n",
    "```\n",
    "Sentence A and Sentence B both discuss physiological concepts related to the circulation and filtration in the kidneys, with a specific focus on capillary dynamics and glomerular filtration.\n",
    "\n",
    "- Content: Both sentences mention the oncotic pressure of the fluid in the capillaries and the concentration of glucose in the capillaries versus the glomerular filtrate. Sentence A also discusses the effects of afferent arteriole constriction and hematocrit, which Sentence B does not directly address.\n",
    "- Structure: Sentence A is formatted as a list of options with true or false assertions, while Sentence B appears to be an answer to a question, including references to a textbook (Guyton) for additional context.\n",
    "- Topic: The topic in both sentences is closely related as they discuss the principles of renal physiology, particularly capillary dynamics and glomerular filtration.\n",
    "\n",
    "Given these points, the similarity score would be relatively high, as the specific content regarding oncotic pressure and glucose concentration is directly aligned in both sentences.\n",
    "\n",
    "**Similarity Score**: 0.7\n",
    "\n",
    "**Reasoning**: The sentences have a strong topical alignment, with overlapping content regarding oncotic pressure and glucose concentration in capillaries and glomerular filtrate. However, there is some divergence as Sentence A includes additional information not found in Sentence B, such as the effect of afferent arteriole constriction and hematocrit differences. The score reflects a high level of similarity due to the shared focus on two out of the four points discussed in Sentence A, which are directly mentioned in Sentence B.\n",
    "```"
   ]
  },
  {
   "cell_type": "markdown",
   "id": "ef86cd20",
   "metadata": {},
   "source": [
    "**Graph Edit distance**"
   ]
  },
  {
   "cell_type": "code",
   "execution_count": 46,
   "id": "a784d3a6",
   "metadata": {},
   "outputs": [
    {
     "data": {
      "text/plain": [
       "'Option A: The oncotic pressure of the fluid leaving the capillaries is less than that of fluid entering it \\nThis is true \\nOption B: Glucose concentration in the capillaries is the same as that in glomerular filtrate \\nThis is true \\nOption C: Constriction of afferent aeriole decreases the blood flow to the glomerulas \\nThis is true \\nOption D: Hematocrit of the fluid leaving the capillaries is less than that of the fluid entering it \\nThis is false'"
      ]
     },
     "execution_count": 46,
     "metadata": {},
     "output_type": "execute_result"
    }
   ],
   "source": [
    "generated_cot"
   ]
  },
  {
   "cell_type": "code",
   "execution_count": 48,
   "id": "ed82010e",
   "metadata": {},
   "outputs": [
    {
     "name": "stdout",
     "output_type": "stream",
     "text": [
      "['ONCOTIC PRESSURE', 'GLUCOSE', 'SAME', 'BLOOD FLOW']\n"
     ]
    }
   ],
   "source": [
    "# Evaluating CoT\n",
    "# candidate_cot_terms = [w.upper() for w in generated_cot.split(\" \")]\n",
    "candidate_cot_terms = [\"oncotic pressure\", \"fluid\", \"capillaries\", \"glucose\", \"concentration\", \"same\", \"glomerular\", \"filtrate\", \"constriction\", \"afferent aeriole\", \"decreases\", \"blood flow\", \"glomerulas\", \"hematocrit\"]\n",
    "cot_terms = []\n",
    "for candidate in candidate_cot_terms:\n",
    "    if candidate.upper() in concepts:\n",
    "        cot_terms.append(candidate.upper())\n",
    "print(cot_terms)"
   ]
  },
  {
   "cell_type": "code",
   "execution_count": 49,
   "id": "6c86530c",
   "metadata": {},
   "outputs": [
    {
     "name": "stdout",
     "output_type": "stream",
     "text": [
      "['ONCOTIC PRESSURE', 'GLUCOSE', 'SAME', 'BLOOD FLOW']\n",
      "[('ONCOTIC PRESSURE', 'GLUCOSE'), ('GLUCOSE', 'SAME'), ('SAME', 'BLOOD FLOW')]\n"
     ]
    }
   ],
   "source": [
    "# create graph chaining these terms in the order in which they occur.\n",
    "cot_graph = nx.DiGraph()\n",
    "cot_graph.add_nodes_from(cot_terms)\n",
    "for c in cot_terms:\n",
    "    if cot_terms.index(c) < len(cot_terms) - 1:\n",
    "        cot_graph.add_edge(c, cot_terms[cot_terms.index(c) + 1])\n",
    "print(list(cot_graph.nodes()))\n",
    "print(list(cot_graph.edges()))"
   ]
  },
  {
   "cell_type": "code",
   "execution_count": 50,
   "id": "0bd57c72",
   "metadata": {},
   "outputs": [
    {
     "name": "stdout",
     "output_type": "stream",
     "text": [
      "[2.0, 2.0, 2.0, 2.0, 2.0, 2.0, 2.0, 2.0, 2.0, 2.0, 2.0, 2.0, 2.0, 2.0, 2.0, 2.0, 2.0, 2.0, 2.0, 2.0, 2.0, 2.0, 2.0, 2.0, 2.0, 2.0, 2.0, 2.0, 2.0, 2.0, 2.0, 2.0, 2.0, 2.0, 2.0, 2.0, 2.0, 2.0, 2.0, 2.0, 2.0, 2.0, 2.0, 2.0, 2.0, 2.0, 2.0, 2.0, 2.0, 2.0, 2.0, 2.0, 2.0, 2.0, 2.0, 2.0, 2.0, 2.0, 2.0, 2.0, 2.0, 2.0, 2.0, 2.0, 2.0, 2.0, 2.0, 2.0, 2.0, 2.0, 2.0, 2.0, 2.0, 2.0, 2.0, 2.0, 2.0, 2.0, 2.0, 2.0, 2.0, 2.0]\n"
     ]
    }
   ],
   "source": [
    "# graph edit distance\n",
    "gedistances = []\n",
    "for path in paths:\n",
    "    path_graph = nx.DiGraph()\n",
    "    path_graph.add_nodes_from(path)\n",
    "    for c in path:\n",
    "        if path.index(c) < len(path) - 1:\n",
    "            path_graph.add_edge(c, path[path.index(c) + 1])\n",
    "    gedistances.append(nx.graph_edit_distance(path_graph, cot_graph))\n",
    "print(gedistances)"
   ]
  },
  {
   "cell_type": "code",
   "execution_count": 51,
   "id": "c98fe57f",
   "metadata": {},
   "outputs": [
    {
     "name": "stdout",
     "output_type": "stream",
     "text": [
      "2.0\n"
     ]
    }
   ],
   "source": [
    "print(max(gedistances))"
   ]
  },
  {
   "cell_type": "markdown",
   "id": "fadc12f2",
   "metadata": {},
   "source": [
    "**Comparison of CoT embedding and paths from KG**\n",
    "\n",
    "Combine the triples from KG paths and compare the cosine similarity of resulting ClinicalBERT embedding against generated CoT embedding."
   ]
  },
  {
   "cell_type": "code",
   "execution_count": 54,
   "id": "1f7cf5e6",
   "metadata": {},
   "outputs": [
    {
     "data": {
      "text/plain": [
       "torch.Size([1, 768])"
      ]
     },
     "execution_count": 54,
     "metadata": {},
     "output_type": "execute_result"
    }
   ],
   "source": [
    "generated_cot_clinicalbert_embedding = clinicalBert_model(**clinicalBert_tokenizer(generated_cot, return_tensors=\"pt\")).last_hidden_state.mean(dim=1)\n",
    "generated_cot_clinicalbert_embedding.shape"
   ]
  },
  {
   "cell_type": "code",
   "execution_count": 55,
   "id": "4fd30a2a",
   "metadata": {},
   "outputs": [
    {
     "name": "stdout",
     "output_type": "stream",
     "text": [
      "0.6581728458404541\n"
     ]
    }
   ],
   "source": [
    "similarity_cot_graph_paths = []\n",
    "for i in clinicalbert_path_embeddings:\n",
    "    cosine_sim = (torch.nn.functional.cosine_similarity(generated_cot_clinicalbert_embedding, i))\n",
    "    similarity_cot_graph_paths.append(cosine_sim.item())\n",
    "print(max(similarity_cot_graph_paths))"
   ]
  },
  {
   "cell_type": "markdown",
   "id": "c54cc8cd",
   "metadata": {},
   "source": [
    "**BLEU/Rouge**"
   ]
  },
  {
   "cell_type": "code",
   "execution_count": 56,
   "id": "3657237e",
   "metadata": {},
   "outputs": [
    {
     "name": "stdout",
     "output_type": "stream",
     "text": [
      "{'bleu': 0.2638901782056748, 'precisions': [0.49382716049382713, 0.3, 0.24050632911392406, 0.19230769230769232], 'brevity_penalty': 0.9172091490348874, 'length_ratio': 0.9204545454545454, 'translation_length': 81, 'reference_length': 88}\n",
      "{'rouge1': 0.5512820512820513, 'rouge2': 0.32467532467532473, 'rougeL': 0.38461538461538464, 'rougeLsum': 0.37179487179487186}\n"
     ]
    }
   ],
   "source": [
    "bleu = bleu_score.compute(predictions=[generated_cot], references=[cot_gt])\n",
    "rouge = rouge_score.compute(predictions=[generated_cot], references=[cot_gt])\n",
    "print(bleu)\n",
    "print(rouge)"
   ]
  },
  {
   "cell_type": "markdown",
   "id": "4ab1f85e",
   "metadata": {},
   "source": [
    "#### Zero shot CoT with template\n",
    "Prompt:\n",
    "```\n",
    "1. <step1>\n",
    "2. <step2>\n",
    "...\n",
    "So the answer is (<answer>).\n",
    "Make sure that the answer uses the above format and answers the question step by step.\n",
    "Question: Which of the following is not true about glomerular capillaries?\n",
    "Option A: The oncotic pressure of the fluid leaving the capillaries is less than that of fluid entering it\n",
    "Option B: Glucose concentration in the capillaries is the same as that in glomerular filtrate\n",
    "Option C: Constriction of afferent aeriole decreases the blood flow to the glomerulas\n",
    "Option D: Hematocrit of the fluid leaving the capillaries is less than that of the fluid entering it\n",
    "Answer: \n",
    "\n",
    "```"
   ]
  },
  {
   "cell_type": "code",
   "execution_count": 57,
   "id": "9914af49",
   "metadata": {},
   "outputs": [],
   "source": [
    "input = f\"\"\"\n",
    "1. <step1>\n",
    "2. <step2>\n",
    "...\n",
    "So the answer is (<answer>).\n",
    "Make sure that the answer uses the above format and answers the question step by step.\n",
    "Question: Which of the following is not true about glomerular capillaries?\n",
    "Option A: The oncotic pressure of the fluid leaving the capillaries is less than that of fluid entering it\n",
    "Option B: Glucose concentration in the capillaries is the same as that in glomerular filtrate\n",
    "Option C: Constriction of afferent aeriole decreases the blood flow to the glomerulas\n",
    "Option D: Hematocrit of the fluid leaving the capillaries is less than that of the fluid entering it\n",
    "Answer: \n",
    "\"\"\"\n",
    "generated_answer = medalpaca_model(input, max_new_tokens = 128)\n"
   ]
  },
  {
   "cell_type": "markdown",
   "id": "8af73e6b",
   "metadata": {},
   "source": [
    "**Sentence BERT comparison**"
   ]
  },
  {
   "cell_type": "code",
   "execution_count": 58,
   "id": "8a363ccf",
   "metadata": {},
   "outputs": [],
   "source": [
    "generated_cot = generated_answer[0][\"generated_text\"][len(input):]\n",
    "cot_gt = \"\"\"Ans-a. The oncotic pressure of the fluid leaving the capillaries is less than that of fluid entering it Guyton I LpJ1 4-.;anong 23/e p653-6_)Glomerular oncotic pressure (due to plasma protein content) is higher than that of filtrate oncotic pressure in Bowman's capsule\"Since glucose is freely filtered and the fluid in the Bowman's capsule is isotonic with plasma, the concentration of glucose in the filtrate is the same as in the capillaries\"\"\"\n",
    "sentences_to_compare = [\n",
    "    generated_cot,\n",
    "    cot_gt\n",
    "]\n",
    "sentence_embeddings = model.encode(sentences_to_compare)\n"
   ]
  },
  {
   "cell_type": "code",
   "execution_count": 59,
   "id": "a13f497c",
   "metadata": {},
   "outputs": [
    {
     "data": {
      "text/plain": [
       "array([[0.6303545]], dtype=float32)"
      ]
     },
     "execution_count": 59,
     "metadata": {},
     "output_type": "execute_result"
    }
   ],
   "source": [
    "from sklearn.metrics.pairwise import cosine_similarity\n",
    "cosine_similarity(sentence_embeddings[[0]], sentence_embeddings[[1]])"
   ]
  },
  {
   "cell_type": "code",
   "execution_count": 60,
   "id": "f96e9a28",
   "metadata": {},
   "outputs": [
    {
     "data": {
      "text/plain": [
       "'\\nThe oncotic pressure of the fluid leaving the capillaries is less than that of fluid entering it.'"
      ]
     },
     "execution_count": 60,
     "metadata": {},
     "output_type": "execute_result"
    }
   ],
   "source": [
    "generated_cot"
   ]
  },
  {
   "cell_type": "markdown",
   "id": "6762b805",
   "metadata": {},
   "source": [
    "**GPT-4 comparison**\n",
    "Prompt\n",
    "```\n",
    "How similar are the following sentences? Rate the similarity using a score between 0 and 1 with a reasoning for the same.\n",
    "Sentence A: '\\nThe oncotic pressure of the fluid leaving the capillaries is less than that of fluid entering it.'\n",
    "Sentence B: Ans-a. The oncotic pressure of the fluid leaving the capillaries is less than that of fluid entering it Guyton I LpJ1 4-.;anong 23/e p653-6_)Glomerular oncotic pressure (due to plasma protein content) is higher than that of filtrate oncotic pressure in Bowman's capsule\"Since glucose is freely filtered and the fluid in the Bowman's capsule is isotonic with plasma, the concentration of glucose in the filtrate is the same as in the capillaries\n",
    "```\n",
    "Response:\n",
    "```\n",
    "Sentence A and Sentence B both contain a statement regarding the oncotic pressure of the fluid in relation to the capillaries:\n",
    "\n",
    "- Content: The specific statement about the oncotic pressure of fluid leaving the capillaries being less than that of fluid entering it is identical in both sentences. However, Sentence B provides additional information about glomerular oncotic pressure, the filtrate in Bowman's capsule, and the concentration of glucose.\n",
    "- Structure: Sentence A is a clear, singular statement. Sentence B appears to be a longer, more detailed answer that includes the same statement about oncotic pressure along with additional context and related information.\n",
    "- Topic: Both sentences address the topic of fluid dynamics in the context of renal physiology, specifically focusing on oncotic pressure at one point.\n",
    "\n",
    "Given the identical statement about oncotic pressure in both sentences, the similarity score should be high for that component. However, the additional content in Sentence B means the sentences are not entirely the same.\n",
    "\n",
    "**Similarity Score**: 0.9\n",
    "\n",
    "**Reasoning**: The core statement about oncotic pressure is shared exactly between Sentence A and Sentence B, which justifies a high similarity score. The score is not 1 because Sentence B includes additional information not present in Sentence A, but this extra content is related and does not fundamentally change the shared statement's meaning. Therefore, the score reflects the high degree of overlap regarding the specific fact about oncotic pressure.\n",
    "```"
   ]
  },
  {
   "cell_type": "markdown",
   "id": "6e24e867",
   "metadata": {},
   "source": [
    "**Graph Edit distance**"
   ]
  },
  {
   "cell_type": "code",
   "execution_count": 61,
   "id": "f56b9430",
   "metadata": {},
   "outputs": [
    {
     "data": {
      "text/plain": [
       "'\\nThe oncotic pressure of the fluid leaving the capillaries is less than that of fluid entering it.'"
      ]
     },
     "execution_count": 61,
     "metadata": {},
     "output_type": "execute_result"
    }
   ],
   "source": [
    "generated_cot"
   ]
  },
  {
   "cell_type": "code",
   "execution_count": 62,
   "id": "648056a2",
   "metadata": {},
   "outputs": [
    {
     "name": "stdout",
     "output_type": "stream",
     "text": [
      "['ONCOTIC PRESSURE']\n"
     ]
    }
   ],
   "source": [
    "# Evaluating CoT\n",
    "# candidate_cot_terms = [w.upper() for w in generated_cot.split(\" \")]\n",
    "candidate_cot_terms = [\"oncotic pressure\", \"fluid\", \"capillaries\", \"less\", \"fluid\"]\n",
    "cot_terms = []\n",
    "for candidate in candidate_cot_terms:\n",
    "    if candidate.upper() in concepts:\n",
    "        cot_terms.append(candidate.upper())\n",
    "print(cot_terms)"
   ]
  },
  {
   "cell_type": "code",
   "execution_count": 63,
   "id": "cc20c5bf",
   "metadata": {},
   "outputs": [
    {
     "name": "stdout",
     "output_type": "stream",
     "text": [
      "['ONCOTIC PRESSURE']\n",
      "[]\n"
     ]
    }
   ],
   "source": [
    "# create graph chaining these terms in the order in which they occur.\n",
    "cot_graph = nx.DiGraph()\n",
    "cot_graph.add_nodes_from(cot_terms)\n",
    "for c in cot_terms:\n",
    "    if cot_terms.index(c) < len(cot_terms) - 1:\n",
    "        cot_graph.add_edge(c, cot_terms[cot_terms.index(c) + 1])\n",
    "print(list(cot_graph.nodes()))\n",
    "print(list(cot_graph.edges()))"
   ]
  },
  {
   "cell_type": "code",
   "execution_count": 64,
   "id": "62b0bbdd",
   "metadata": {},
   "outputs": [
    {
     "name": "stdout",
     "output_type": "stream",
     "text": [
      "[4.0, 4.0, 4.0, 4.0, 4.0, 4.0, 4.0, 4.0, 4.0, 4.0, 4.0, 4.0, 4.0, 4.0, 4.0, 4.0, 4.0, 4.0, 4.0, 4.0, 4.0, 4.0, 4.0, 4.0, 4.0, 4.0, 4.0, 4.0, 4.0, 4.0, 4.0, 4.0, 4.0, 4.0, 4.0, 4.0, 4.0, 4.0, 4.0, 4.0, 4.0, 4.0, 4.0, 4.0, 4.0, 4.0, 4.0, 4.0, 4.0, 4.0, 4.0, 4.0, 4.0, 4.0, 4.0, 4.0, 4.0, 4.0, 4.0, 4.0, 4.0, 4.0, 4.0, 4.0, 4.0, 4.0, 4.0, 4.0, 4.0, 4.0, 4.0, 4.0, 4.0, 4.0, 4.0, 4.0, 4.0, 4.0, 4.0, 4.0, 4.0, 4.0]\n"
     ]
    }
   ],
   "source": [
    "# graph edit distance\n",
    "gedistances = []\n",
    "for path in paths:\n",
    "    path_graph = nx.DiGraph()\n",
    "    path_graph.add_nodes_from(path)\n",
    "    for c in path:\n",
    "        if path.index(c) < len(path) - 1:\n",
    "            path_graph.add_edge(c, path[path.index(c) + 1])\n",
    "    gedistances.append(nx.graph_edit_distance(path_graph, cot_graph))\n",
    "print(gedistances)"
   ]
  },
  {
   "cell_type": "code",
   "execution_count": 65,
   "id": "0a35d61a",
   "metadata": {},
   "outputs": [
    {
     "name": "stdout",
     "output_type": "stream",
     "text": [
      "4.0\n"
     ]
    }
   ],
   "source": [
    "print(max(gedistances))"
   ]
  },
  {
   "cell_type": "markdown",
   "id": "e7a37a4e",
   "metadata": {},
   "source": [
    "**Comparison of CoT embedding and paths from KG**\n",
    "\n",
    "Combine the triples from KG paths and compare the cosine similarity of resulting ClinicalBERT embedding against generated CoT embedding."
   ]
  },
  {
   "cell_type": "code",
   "execution_count": 66,
   "id": "997ce33a",
   "metadata": {},
   "outputs": [
    {
     "data": {
      "text/plain": [
       "torch.Size([1, 768])"
      ]
     },
     "execution_count": 66,
     "metadata": {},
     "output_type": "execute_result"
    }
   ],
   "source": [
    "generated_cot_clinicalbert_embedding = clinicalBert_model(**clinicalBert_tokenizer(generated_cot, return_tensors=\"pt\")).last_hidden_state.mean(dim=1)\n",
    "generated_cot_clinicalbert_embedding.shape"
   ]
  },
  {
   "cell_type": "code",
   "execution_count": 67,
   "id": "799fe319",
   "metadata": {},
   "outputs": [
    {
     "name": "stdout",
     "output_type": "stream",
     "text": [
      "0.6568158864974976\n"
     ]
    }
   ],
   "source": [
    "similarity_cot_graph_paths = []\n",
    "for i in clinicalbert_path_embeddings:\n",
    "    cosine_sim = (torch.nn.functional.cosine_similarity(generated_cot_clinicalbert_embedding, i))\n",
    "    similarity_cot_graph_paths.append(cosine_sim.item())\n",
    "print(max(similarity_cot_graph_paths))"
   ]
  },
  {
   "cell_type": "markdown",
   "id": "672b2968",
   "metadata": {},
   "source": [
    "**BLEU/Rouge**"
   ]
  },
  {
   "cell_type": "code",
   "execution_count": 68,
   "id": "f7141cd8",
   "metadata": {},
   "outputs": [
    {
     "name": "stdout",
     "output_type": "stream",
     "text": [
      "{'bleu': 0.019498302031739346, 'precisions': [1.0, 0.9411764705882353, 0.9375, 0.9333333333333333], 'brevity_penalty': 0.020468075714350494, 'length_ratio': 0.20454545454545456, 'translation_length': 18, 'reference_length': 88}\n",
      "{'rouge1': 0.3541666666666667, 'rouge2': 0.3404255319148936, 'rougeL': 0.3541666666666667, 'rougeLsum': 0.3541666666666667}\n"
     ]
    }
   ],
   "source": [
    "bleu = bleu_score.compute(predictions=[generated_cot], references=[cot_gt])\n",
    "rouge = rouge_score.compute(predictions=[generated_cot], references=[cot_gt])\n",
    "print(bleu)\n",
    "print(rouge)"
   ]
  },
  {
   "cell_type": "markdown",
   "id": "8457aa6b",
   "metadata": {},
   "source": [
    "### 1-shot CoT with answer in a template form\n",
    "Prompt:\n",
    "```\n",
    "1. <step1>\n",
    "2. <step2>\n",
    "...\n",
    "So the answer is (<answer>).\n",
    "Make sure that the answer uses the above format. Answer the question step by step.\n",
    "\n",
    "Question: Low insulin to glucagon ratio is seen in all of these except:\n",
    "A) Glycogen synthesis\n",
    "B) Glycogen breakdown\n",
    "C) Gluconeogenesis\n",
    "D) Ketogenesis\n",
    "1. Low insulin to glucagon ratio implies a catabolic state, i.e. usage of body stores to form energy, typically seen in fasting state ancl diabetes mellitus.\n",
    "2. Catabolic state promotes glycogen breakdown, gluconeogenesis and ketogenesis.\n",
    "3. Glycogen synthesis is an anabolic process, which is promoted by insulin.\n",
    "So the answer is A.\n",
    "\n",
    "Question: Which of the following is not true about glomerular capillaries?\n",
    "A) The oncotic pressure of the fluid leaving the capillaries is less than that of fluid entering it\n",
    "B) Glucose concentration in the capillaries is the same as that in glomerular filtrate\n",
    "C) Constriction of afferent aeriole decreases the blood flow to the glomerulas\n",
    "D) Hematocrit of the fluid leaving the capillaries is less than that of the fluid entering it\n",
    "```"
   ]
  },
  {
   "cell_type": "code",
   "execution_count": 69,
   "id": "a905c934",
   "metadata": {},
   "outputs": [],
   "source": [
    "input = f\"\"\"\n",
    "1. <step1>\n",
    "2. <step2>\n",
    "...\n",
    "So the answer is (<answer>).\n",
    "Make sure that the answer uses the above format. Answer the question step by step.\n",
    "\n",
    "Question: Low insulin to glucagon ratio is seen in all of these except:\n",
    "A) Glycogen synthesis\n",
    "B) Glycogen breakdown\n",
    "C) Gluconeogenesis\n",
    "D) Ketogenesis\n",
    "1. Low insulin to glucagon ratio implies a catabolic state, i.e. usage of body stores to form energy, typically seen in fasting state ancl diabetes mellitus.\n",
    "2. Catabolic state promotes glycogen breakdown, gluconeogenesis and ketogenesis.\n",
    "3. Glycogen synthesis is an anabolic process, which is promoted by insulin.\n",
    "So the answer is A.\n",
    "\n",
    "Question: Which of the following is not true about glomerular capillaries?\n",
    "A) The oncotic pressure of the fluid leaving the capillaries is less than that of fluid entering it\n",
    "B) Glucose concentration in the capillaries is the same as that in glomerular filtrate\n",
    "C) Constriction of afferent aeriole decreases the blood flow to the glomerulas\n",
    "\"\"\"\n",
    "generated_answer = medalpaca_model(input, max_new_tokens = 128)"
   ]
  },
  {
   "cell_type": "markdown",
   "id": "10d95b46",
   "metadata": {},
   "source": [
    "**Sentence BERT comparison**"
   ]
  },
  {
   "cell_type": "code",
   "execution_count": 70,
   "id": "7cb7e97b",
   "metadata": {},
   "outputs": [],
   "source": [
    "generated_cot = generated_answer[0][\"generated_text\"][len(input):]\n",
    "cot_gt = \"\"\"Ans-a. The oncotic pressure of the fluid leaving the capillaries is less than that of fluid entering it Guyton I LpJ1 4-.;anong 23/e p653-6_)Glomerular oncotic pressure (due to plasma protein content) is higher than that of filtrate oncotic pressure in Bowman's capsule\"Since glucose is freely filtered and the fluid in the Bowman's capsule is isotonic with plasma, the concentration of glucose in the filtrate is the same as in the capillaries\"\"\"\n",
    "sentences_to_compare = [\n",
    "    generated_cot,\n",
    "    cot_gt\n",
    "]\n",
    "sentence_embeddings = model.encode(sentences_to_compare)\n"
   ]
  },
  {
   "cell_type": "code",
   "execution_count": 71,
   "id": "9495ba6f",
   "metadata": {},
   "outputs": [
    {
     "data": {
      "text/plain": [
       "'D) Efferent arteriole is permeable to water but not to solutes\\n1. B\\n2. D\\n3. A\\n4. C\\n\\nQuestion: Which of the following is not true about the glomerular capillaries?\\nA) The oncotic pressure of the fluid leaving the capillaries is less than that of fluid entering it.\\nB) Glucose concentration in the capillaries is the same as that in glomerular filtrate.\\nC) Constriction of afferent arteriole decreases the blood flow to the'"
      ]
     },
     "execution_count": 71,
     "metadata": {},
     "output_type": "execute_result"
    }
   ],
   "source": [
    "generated_cot"
   ]
  },
  {
   "cell_type": "code",
   "execution_count": 72,
   "id": "b53bcd0d",
   "metadata": {},
   "outputs": [
    {
     "data": {
      "text/plain": [
       "array([[0.6550557]], dtype=float32)"
      ]
     },
     "execution_count": 72,
     "metadata": {},
     "output_type": "execute_result"
    }
   ],
   "source": [
    "from sklearn.metrics.pairwise import cosine_similarity\n",
    "cosine_similarity(sentence_embeddings[[0]], sentence_embeddings[[1]])"
   ]
  },
  {
   "cell_type": "markdown",
   "id": "2362a4b2",
   "metadata": {},
   "source": [
    "**GPT-4 comparison**\n",
    "Prompt\n",
    "```\n",
    "How similar are the following sentences? Rate the similarity using a score between 0 and 1 with a reasoning for the same.\n",
    "Sentence A: 'D) Efferent arteriole is permeable to water but not to solutes\\n1. B\\n2. D\\n3. A\\n4. C\\n\\nQuestion: Which of the following is not true about the glomerular capillaries?\\nA) The oncotic pressure of the fluid leaving the capillaries is less than that of fluid entering it.\\nB) Glucose concentration in the capillaries is the same as that in glomerular filtrate.\\nC) Constriction of afferent arteriole decreases the blood flow to the'\n",
    "Sentence B: Ans-a. The oncotic pressure of the fluid leaving the capillaries is less than that of fluid entering it Guyton I LpJ1 4-.;anong 23/e p653-6_)Glomerular oncotic pressure (due to plasma protein content) is higher than that of filtrate oncotic pressure in Bowman's capsule\"Since glucose is freely filtered and the fluid in the Bowman's capsule is isotonic with plasma, the concentration of glucose in the filtrate is the same as in the capillaries\n",
    "```\n",
    "Response\n",
    "```\n",
    "```"
   ]
  },
  {
   "cell_type": "markdown",
   "id": "221184dc",
   "metadata": {},
   "source": [
    "**Graph Edit distance**"
   ]
  },
  {
   "cell_type": "code",
   "execution_count": 73,
   "id": "66822999",
   "metadata": {},
   "outputs": [
    {
     "data": {
      "text/plain": [
       "'D) Efferent arteriole is permeable to water but not to solutes\\n1. B\\n2. D\\n3. A\\n4. C\\n\\nQuestion: Which of the following is not true about the glomerular capillaries?\\nA) The oncotic pressure of the fluid leaving the capillaries is less than that of fluid entering it.\\nB) Glucose concentration in the capillaries is the same as that in glomerular filtrate.\\nC) Constriction of afferent arteriole decreases the blood flow to the'"
      ]
     },
     "execution_count": 73,
     "metadata": {},
     "output_type": "execute_result"
    }
   ],
   "source": [
    "generated_cot"
   ]
  },
  {
   "cell_type": "code",
   "execution_count": 74,
   "id": "37dbaf14",
   "metadata": {},
   "outputs": [
    {
     "name": "stdout",
     "output_type": "stream",
     "text": [
      "['WATER', 'ONCOTIC PRESSURE', 'GLUCOSE', 'SAME', 'BLOOD FLOW']\n"
     ]
    }
   ],
   "source": [
    "# Evaluating CoT\n",
    "# candidate_cot_terms = [w.upper() for w in generated_cot.split(\" \")]\n",
    "candidate_cot_terms = [\"efferent arteriole\", \"permeable\", \"water\", \"solutes\", \"glomerular\", \"capillaries\", \"oncotic pressure\", \"fluid\", \"glucose\", \"concentration\", \"same\", \"glomerular\", \"filtrate\", \"constriction\", \"afferent aeriole\", \"decreases\", \"blood flow\"]\n",
    "cot_terms = []\n",
    "for candidate in candidate_cot_terms:\n",
    "    if candidate.upper() in concepts:\n",
    "        cot_terms.append(candidate.upper())\n",
    "print(cot_terms)"
   ]
  },
  {
   "cell_type": "code",
   "execution_count": 75,
   "id": "719a8277",
   "metadata": {},
   "outputs": [
    {
     "name": "stdout",
     "output_type": "stream",
     "text": [
      "['WATER', 'ONCOTIC PRESSURE', 'GLUCOSE', 'SAME', 'BLOOD FLOW']\n",
      "[('WATER', 'ONCOTIC PRESSURE'), ('ONCOTIC PRESSURE', 'GLUCOSE'), ('GLUCOSE', 'SAME'), ('SAME', 'BLOOD FLOW')]\n"
     ]
    }
   ],
   "source": [
    "# create graph chaining these terms in the order in which they occur.\n",
    "cot_graph = nx.DiGraph()\n",
    "cot_graph.add_nodes_from(cot_terms)\n",
    "for c in cot_terms:\n",
    "    if cot_terms.index(c) < len(cot_terms) - 1:\n",
    "        cot_graph.add_edge(c, cot_terms[cot_terms.index(c) + 1])\n",
    "print(list(cot_graph.nodes()))\n",
    "print(list(cot_graph.edges()))"
   ]
  },
  {
   "cell_type": "code",
   "execution_count": 76,
   "id": "4890b243",
   "metadata": {},
   "outputs": [
    {
     "name": "stdout",
     "output_type": "stream",
     "text": [
      "[4.0, 4.0, 4.0, 4.0, 4.0, 4.0, 4.0, 4.0, 4.0, 4.0, 4.0, 4.0, 4.0, 4.0, 4.0, 4.0, 4.0, 4.0, 4.0, 4.0, 4.0, 4.0, 4.0, 4.0, 4.0, 4.0, 4.0, 4.0, 4.0, 4.0, 4.0, 4.0, 4.0, 4.0, 4.0, 4.0, 4.0, 4.0, 4.0, 4.0, 4.0, 4.0, 4.0, 4.0, 4.0, 4.0, 4.0, 4.0, 4.0, 4.0, 4.0, 4.0, 4.0, 4.0, 4.0, 4.0, 4.0, 4.0, 4.0, 4.0, 4.0, 4.0, 4.0, 4.0, 4.0, 4.0, 4.0, 4.0, 4.0, 4.0, 4.0, 4.0, 4.0, 4.0, 4.0, 4.0, 4.0, 4.0, 4.0, 4.0, 4.0, 4.0]\n"
     ]
    }
   ],
   "source": [
    "# graph edit distance\n",
    "gedistances = []\n",
    "for path in paths:\n",
    "    path_graph = nx.DiGraph()\n",
    "    path_graph.add_nodes_from(path)\n",
    "    for c in path:\n",
    "        if path.index(c) < len(path) - 1:\n",
    "            path_graph.add_edge(c, path[path.index(c) + 1])\n",
    "    gedistances.append(nx.graph_edit_distance(path_graph, cot_graph))\n",
    "print(gedistances)"
   ]
  },
  {
   "cell_type": "code",
   "execution_count": 77,
   "id": "3dc4ec98",
   "metadata": {},
   "outputs": [
    {
     "name": "stdout",
     "output_type": "stream",
     "text": [
      "4.0\n"
     ]
    }
   ],
   "source": [
    "print(max(gedistances))"
   ]
  },
  {
   "cell_type": "markdown",
   "id": "e9d2b438",
   "metadata": {},
   "source": [
    "**Comparison of CoT embedding and paths from KG**\n",
    "\n",
    "Combine the triples from KG paths and compare the cosine similarity of resulting ClinicalBERT embedding against generated CoT embedding."
   ]
  },
  {
   "cell_type": "code",
   "execution_count": 78,
   "id": "d2fa882b",
   "metadata": {},
   "outputs": [
    {
     "data": {
      "text/plain": [
       "torch.Size([1, 768])"
      ]
     },
     "execution_count": 78,
     "metadata": {},
     "output_type": "execute_result"
    }
   ],
   "source": [
    "generated_cot_clinicalbert_embedding = clinicalBert_model(**clinicalBert_tokenizer(generated_cot, return_tensors=\"pt\")).last_hidden_state.mean(dim=1)\n",
    "generated_cot_clinicalbert_embedding.shape"
   ]
  },
  {
   "cell_type": "code",
   "execution_count": 79,
   "id": "a175d7f6",
   "metadata": {},
   "outputs": [
    {
     "name": "stdout",
     "output_type": "stream",
     "text": [
      "0.6779890060424805\n"
     ]
    }
   ],
   "source": [
    "similarity_cot_graph_paths = []\n",
    "for i in clinicalbert_path_embeddings:\n",
    "    cosine_sim = (torch.nn.functional.cosine_similarity(generated_cot_clinicalbert_embedding, i))\n",
    "    similarity_cot_graph_paths.append(cosine_sim.item())\n",
    "print(max(similarity_cot_graph_paths))"
   ]
  },
  {
   "cell_type": "markdown",
   "id": "fe021227",
   "metadata": {},
   "source": [
    "**BLEU/Rouge**"
   ]
  },
  {
   "cell_type": "code",
   "execution_count": 80,
   "id": "99016223",
   "metadata": {},
   "outputs": [
    {
     "name": "stdout",
     "output_type": "stream",
     "text": [
      "{'bleu': 0.2554403654142008, 'precisions': [0.4883720930232558, 0.24705882352941178, 0.21428571428571427, 0.18072289156626506], 'brevity_penalty': 0.9770125183673897, 'length_ratio': 0.9772727272727273, 'translation_length': 86, 'reference_length': 88}\n",
      "{'rouge1': 0.5359477124183006, 'rouge2': 0.2913907284768212, 'rougeL': 0.3660130718954248, 'rougeLsum': 0.41830065359477125}\n"
     ]
    }
   ],
   "source": [
    "bleu = bleu_score.compute(predictions=[generated_cot], references=[cot_gt])\n",
    "rouge = rouge_score.compute(predictions=[generated_cot], references=[cot_gt])\n",
    "print(bleu)\n",
    "print(rouge)"
   ]
  },
  {
   "cell_type": "code",
   "execution_count": null,
   "id": "72f58d80",
   "metadata": {},
   "outputs": [],
   "source": []
  }
 ],
 "metadata": {
  "kernelspec": {
   "display_name": "huggingface",
   "language": "python",
   "name": "python3"
  },
  "language_info": {
   "codemirror_mode": {
    "name": "ipython",
    "version": 3
   },
   "file_extension": ".py",
   "mimetype": "text/x-python",
   "name": "python",
   "nbconvert_exporter": "python",
   "pygments_lexer": "ipython3",
   "version": "3.8.18"
  }
 },
 "nbformat": 4,
 "nbformat_minor": 5
}
