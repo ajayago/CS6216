{
 "cells": [
  {
   "cell_type": "code",
   "execution_count": 1,
   "id": "7598b282-621a-41ac-b035-337de0135629",
   "metadata": {},
   "outputs": [],
   "source": [
    "# https://medium.com/nlplanet/building-a-knowledge-base-from-texts-a-full-practical-example-8dbbffb912fa"
   ]
  },
  {
   "cell_type": "code",
   "execution_count": 1,
   "id": "8cfffdd0-0d87-41cf-bd2f-7521f41ad735",
   "metadata": {},
   "outputs": [
    {
     "name": "stderr",
     "output_type": "stream",
     "text": [
      "/home/ajayago/anaconda3/envs/huggingface/lib/python3.8/site-packages/tqdm/auto.py:21: TqdmWarning: IProgress not found. Please update jupyter and ipywidgets. See https://ipywidgets.readthedocs.io/en/stable/user_install.html\n",
      "  from .autonotebook import tqdm as notebook_tqdm\n"
     ]
    }
   ],
   "source": [
    "from transformers import AutoModelForSeq2SeqLM, AutoTokenizer\n",
    "import math\n",
    "import torch"
   ]
  },
  {
   "cell_type": "code",
   "execution_count": 2,
   "id": "b838842b-7754-4670-9dab-abf92dc0602e",
   "metadata": {},
   "outputs": [],
   "source": [
    "from pyvis.network import Network"
   ]
  },
  {
   "cell_type": "code",
   "execution_count": 44,
   "id": "f56361b9-d76b-46b9-9d18-4792509c17a7",
   "metadata": {},
   "outputs": [],
   "source": [
    "# Load model and tokenizer\n",
    "tokenizer = AutoTokenizer.from_pretrained(\"Babelscape/rebel-large\")\n",
    "model = AutoModelForSeq2SeqLM.from_pretrained(\"Babelscape/rebel-large\")"
   ]
  },
  {
   "cell_type": "code",
   "execution_count": 4,
   "id": "b64c014d-5b38-4a1b-bf30-236ee9a19035",
   "metadata": {},
   "outputs": [],
   "source": [
    "def extract_relations_from_model_output(text):\n",
    "    relations = []\n",
    "    relation, subject, relation, object_ = '', '', '', ''\n",
    "    text = text.strip()\n",
    "    current = 'x'\n",
    "    text_replaced = text.replace(\"<s>\", \"\").replace(\"<pad>\", \"\").replace(\"</s>\", \"\")\n",
    "    for token in text_replaced.split():\n",
    "        if token == \"<triplet>\":\n",
    "            current = 't'\n",
    "            if relation != '':\n",
    "                relations.append({\n",
    "                    'head': subject.strip(),\n",
    "                    'type': relation.strip(),\n",
    "                    'tail': object_.strip()\n",
    "                })\n",
    "                relation = ''\n",
    "            subject = ''\n",
    "        elif token == \"<subj>\":\n",
    "            current = 's'\n",
    "            if relation != '':\n",
    "                relations.append({\n",
    "                    'head': subject.strip(),\n",
    "                    'type': relation.strip(),\n",
    "                    'tail': object_.strip()\n",
    "                })\n",
    "            object_ = ''\n",
    "        elif token == \"<obj>\":\n",
    "            current = 'o'\n",
    "            relation = ''\n",
    "        else:\n",
    "            if current == 't':\n",
    "                subject += ' ' + token\n",
    "            elif current == 's':\n",
    "                object_ += ' ' + token\n",
    "            elif current == 'o':\n",
    "                relation += ' ' + token\n",
    "    if subject != '' and relation != '' and object_ != '':\n",
    "        relations.append({\n",
    "            'head': subject.strip(),\n",
    "            'type': relation.strip(),\n",
    "            'tail': object_.strip()\n",
    "        })\n",
    "    return relations"
   ]
  },
  {
   "cell_type": "code",
   "execution_count": 5,
   "id": "6a16a746-9854-47f2-b0ce-4a9a51ff9311",
   "metadata": {},
   "outputs": [],
   "source": [
    "class KB():\n",
    "    def __init__(self):\n",
    "        self.relations = []\n",
    "\n",
    "    def are_relations_equal(self, r1, r2):\n",
    "        return all(r1[attr] == r2[attr] for attr in [\"head\", \"type\", \"tail\"])\n",
    "\n",
    "    def exists_relation(self, r1):\n",
    "        return any(self.are_relations_equal(r1, r2) for r2 in self.relations)\n",
    "\n",
    "    def print(self):\n",
    "        print(\"Relations:\")\n",
    "        for r in self.relations:\n",
    "            print(f\"  {r}\")\n",
    "    def merge_relations(self, r1):\n",
    "        r2 = [r for r in self.relations\n",
    "              if self.are_relations_equal(r1, r)][0]\n",
    "        spans_to_add = [span for span in r1[\"meta\"][\"spans\"]\n",
    "                        if span not in r2[\"meta\"][\"spans\"]]\n",
    "        r2[\"meta\"][\"spans\"] += spans_to_add\n",
    "\n",
    "    def add_relation(self, r):\n",
    "        if not self.exists_relation(r):\n",
    "            self.relations.append(r)\n",
    "        else:\n",
    "            self.merge_relations(r)"
   ]
  },
  {
   "cell_type": "code",
   "execution_count": 6,
   "id": "617b26c4-3b8c-4ff9-9265-054d4aa594cc",
   "metadata": {},
   "outputs": [],
   "source": [
    "def from_small_text_to_kb(text, verbose=False):\n",
    "    kb = KB()\n",
    "\n",
    "    # Tokenizer text\n",
    "    model_inputs = tokenizer(text, max_length=512, padding=True, truncation=True,\n",
    "                            return_tensors='pt')\n",
    "    if verbose:\n",
    "        print(f\"Num tokens: {len(model_inputs['input_ids'][0])}\")\n",
    "\n",
    "    # Generate\n",
    "    gen_kwargs = {\n",
    "        \"max_length\": 216,\n",
    "        \"length_penalty\": 0,\n",
    "        \"num_beams\": 3,\n",
    "        \"num_return_sequences\": 3\n",
    "    }\n",
    "    generated_tokens = model.generate(\n",
    "        **model_inputs,\n",
    "        **gen_kwargs,\n",
    "    )\n",
    "    decoded_preds = tokenizer.batch_decode(generated_tokens, skip_special_tokens=False)\n",
    "\n",
    "    # create kb\n",
    "    for sentence_pred in decoded_preds:\n",
    "        relations = extract_relations_from_model_output(sentence_pred)\n",
    "        for r in relations:\n",
    "            kb.add_relation(r)\n",
    "\n",
    "    return kb"
   ]
  },
  {
   "cell_type": "code",
   "execution_count": 53,
   "id": "ef9c8db9-b5ea-487e-ba7e-e6440d5670aa",
   "metadata": {},
   "outputs": [],
   "source": [
    "def from_text_to_kb(text, span_length=128, verbose=False):\n",
    "    # tokenize whole text\n",
    "    inputs = tokenizer([text], return_tensors=\"pt\")\n",
    "\n",
    "    # compute span boundaries\n",
    "    num_tokens = len(inputs[\"input_ids\"][0])\n",
    "    if verbose:\n",
    "        print(f\"Input has {num_tokens} tokens\")\n",
    "    num_spans = math.ceil(num_tokens / span_length)\n",
    "    if verbose:\n",
    "        print(f\"Input has {num_spans} spans\")\n",
    "    overlap = math.ceil((num_spans * span_length - num_tokens) / \n",
    "                        max(num_spans - 1, 1))\n",
    "    spans_boundaries = []\n",
    "    start = 0\n",
    "    for i in range(num_spans):\n",
    "        spans_boundaries.append([start + span_length * i,\n",
    "                                 start + span_length * (i + 1)])\n",
    "        start -= overlap\n",
    "    if verbose:\n",
    "        print(f\"Span boundaries are {spans_boundaries}\")\n",
    "\n",
    "    # transform input with spans\n",
    "    tensor_ids = [inputs[\"input_ids\"][0][boundary[0]:boundary[1]]\n",
    "                  for boundary in spans_boundaries]\n",
    "    tensor_masks = [inputs[\"attention_mask\"][0][boundary[0]:boundary[1]]\n",
    "                    for boundary in spans_boundaries]\n",
    "    inputs = {\n",
    "        \"input_ids\": torch.stack(tensor_ids),\n",
    "        \"attention_mask\": torch.stack(tensor_masks)\n",
    "    }\n",
    "\n",
    "    # generate relations\n",
    "    num_return_sequences = 3\n",
    "    gen_kwargs = {\n",
    "        \"max_length\": 256,\n",
    "        \"length_penalty\": 0,\n",
    "        \"num_beams\": 3,\n",
    "        \"num_return_sequences\": num_return_sequences\n",
    "    }\n",
    "    generated_tokens = model.generate(\n",
    "        **inputs,\n",
    "        **gen_kwargs,\n",
    "    )\n",
    "\n",
    "    # decode relations\n",
    "    decoded_preds = tokenizer.batch_decode(generated_tokens,\n",
    "                                           skip_special_tokens=False)\n",
    "\n",
    "    print(decoded_preds)\n",
    "\n",
    "    # create kb\n",
    "    kb = KB()\n",
    "    i = 0\n",
    "    for sentence_pred in decoded_preds:\n",
    "        current_span_index = i // num_return_sequences\n",
    "        relations = extract_relations_from_model_output(sentence_pred)\n",
    "        for relation in relations:\n",
    "            relation[\"meta\"] = {\n",
    "                \"spans\": [spans_boundaries[current_span_index]]\n",
    "            }\n",
    "            kb.add_relation(relation)\n",
    "        i += 1\n",
    "\n",
    "    return kb"
   ]
  },
  {
   "cell_type": "code",
   "execution_count": 32,
   "id": "b18d29d0-31a8-41a6-a884-5a8d20ba3f4f",
   "metadata": {},
   "outputs": [
    {
     "name": "stdout",
     "output_type": "stream",
     "text": [
      "Input has 726 tokens\n",
      "Input has 6 spans\n",
      "Span boundaries are [[0, 128], [119, 247], [238, 366], [357, 485], [476, 604], [595, 723]]\n",
      "Relations:\n",
      "  {'head': 'Napoleon Bonaparte', 'type': 'date of birth', 'tail': '15 August 1769', 'meta': {'spans': [[0, 128]]}}\n",
      "  {'head': 'Napoleon Bonaparte', 'type': 'date of death', 'tail': '5 May 1821', 'meta': {'spans': [[0, 128]]}}\n",
      "  {'head': 'Napoleon Bonaparte', 'type': 'participant in', 'tail': 'French Revolution', 'meta': {'spans': [[0, 128]]}}\n",
      "  {'head': 'Napoleon Bonaparte', 'type': 'conflict', 'tail': 'Revolutionary Wars', 'meta': {'spans': [[0, 128]]}}\n",
      "  {'head': 'Revolutionary Wars', 'type': 'part of', 'tail': 'French Revolution', 'meta': {'spans': [[0, 128]]}}\n",
      "  {'head': 'French Revolution', 'type': 'participant', 'tail': 'Napoleon Bonaparte', 'meta': {'spans': [[0, 128]]}}\n",
      "  {'head': 'Revolutionary Wars', 'type': 'participant', 'tail': 'Napoleon Bonaparte', 'meta': {'spans': [[0, 128]]}}\n",
      "  {'head': 'French Revolution', 'type': 'country', 'tail': 'French Republic', 'meta': {'spans': [[0, 128]]}}\n",
      "  {'head': 'Napoleon', 'type': 'place of birth', 'tail': 'Corsica', 'meta': {'spans': [[119, 247]]}}\n",
      "  {'head': 'French Directory', 'type': 'facet of', 'tail': 'French Revolution', 'meta': {'spans': [[119, 247]]}}\n",
      "  {'head': 'Napoleon', 'type': 'participant in', 'tail': 'French Revolution', 'meta': {'spans': [[119, 247]]}}\n",
      "  {'head': 'Fourth Coalition', 'type': 'start time', 'tail': '1806', 'meta': {'spans': [[238, 366]]}}\n",
      "  {'head': 'Ulm Campaign', 'type': 'part of', 'tail': 'War of the Third Coalition', 'meta': {'spans': [[238, 366]]}}\n",
      "  {'head': 'Battle of Austerlitz', 'type': 'part of', 'tail': 'War of the Third Coalition', 'meta': {'spans': [[238, 366]]}}\n",
      "  {'head': 'War of the Third Coalition', 'type': 'start time', 'tail': '1805', 'meta': {'spans': [[238, 366]]}}\n",
      "  {'head': 'Battle of Wagram', 'type': 'part of', 'tail': 'War of the Fifth Coalition', 'meta': {'spans': [[357, 485]]}}\n",
      "  {'head': 'Fourth Coalition', 'type': 'followed by', 'tail': 'War of the Fifth Coalition', 'meta': {'spans': [[357, 485]]}}\n",
      "  {'head': 'Battle of Leipzig', 'type': 'part of', 'tail': 'Sixth Coalition against France', 'meta': {'spans': [[476, 604]]}}\n",
      "  {'head': 'Sixth Coalition against France', 'type': 'start time', 'tail': '1813', 'meta': {'spans': [[476, 604]]}}\n",
      "  {'head': 'Sixth Coalition', 'type': 'start time', 'tail': '1813', 'meta': {'spans': [[476, 604]]}}\n",
      "  {'head': 'Seventh Coalition', 'type': 'has part', 'tail': 'Battle of Waterloo', 'meta': {'spans': [[595, 723]]}}\n",
      "  {'head': 'Battle of Waterloo', 'type': 'part of', 'tail': 'Seventh Coalition', 'meta': {'spans': [[595, 723]]}}\n",
      "  {'head': 'Seventh Coalition', 'type': 'start time', 'tail': 'June 1815', 'meta': {'spans': [[595, 723]]}}\n"
     ]
    }
   ],
   "source": [
    "text = \"\"\"\n",
    "Napoleon Bonaparte (born Napoleone di Buonaparte; 15 August 1769 – 5 May 1821), and later known by his regnal name Napoleon I, was a French military and political leader who rose to prominence during the French Revolution and led several successful campaigns during the Revolutionary Wars. He was the de facto leader of the French Republic as First Consul from 1799 to 1804. As Napoleon I, he was Emperor of the French from 1804 until 1814 and again in 1815. Napoleon's political and cultural legacy has endured, and he has been one of the most celebrated and controversial leaders in world history. Napoleon was born on the island of Corsica not long after its annexation by the Kingdom of France.[5] He supported the French Revolution in 1789 while serving in the French army, and tried to spread its ideals to his native Corsica. He rose rapidly in the Army after he saved the governing French Directory by firing on royalist insurgents. In 1796, he began a military campaign against the Austrians and their Italian allies, scoring decisive victories and becoming a national hero. Two years later, he led a military expedition to Egypt that served as a springboard to political power. He engineered a coup in November 1799 and became First Consul of the Republic. Differences with the British meant that the French faced the War of the Third Coalition by 1805. Napoleon shattered this coalition with victories in the Ulm Campaign, and at the Battle of Austerlitz, which led to the dissolving of the Holy Roman Empire. In 1806, the Fourth Coalition took up arms against him because Prussia became worried about growing French influence on the continent. Napoleon knocked out Prussia at the battles of Jena and Auerstedt, marched the Grande Armée into Eastern Europe, annihilating the Russians in June 1807 at Friedland, and forcing the defeated nations of the Fourth Coalition to accept the Treaties of Tilsit. Two years later, the Austrians challenged the French again during the War of the Fifth Coalition, but Napoleon solidified his grip over Europe after triumphing at the Battle of Wagram. Hoping to extend the Continental System, his embargo against Britain, Napoleon invaded the Iberian Peninsula and declared his brother Joseph King of Spain in 1808. The Spanish and the Portuguese revolted in the Peninsular War, culminating in defeat for Napoleon's marshals. Napoleon launched an invasion of Russia in the summer of 1812. The resulting campaign witnessed the catastrophic retreat of Napoleon's Grande Armée. In 1813, Prussia and Austria joined Russian forces in a Sixth Coalition against France. A chaotic military campaign resulted in a large coalition army defeating Napoleon at the Battle of Leipzig in October 1813. The coalition invaded France and captured Paris, forcing Napoleon to abdicate in April 1814. He was exiled to the island of Elba, between Corsica and Italy. In France, the Bourbons were restored to power. However, Napoleon escaped Elba in February 1815 and took control of France.[6][7] The Allies responded by forming a Seventh Coalition, which defeated Napoleon at the Battle of Waterloo in June 1815. The British exiled him to the remote island of Saint Helena in the Atlantic, where he died in 1821 at the age of 51. Napoleon had an extensive impact on the modern world, bringing liberal reforms to the many countries he conquered, especially the Low Countries, Switzerland, and parts of modern Italy and Germany. He implemented liberal policies in France and Western Europe.\n",
    "\"\"\"\n",
    "\n",
    "kb = from_text_to_kb(text, verbose=True)\n",
    "kb.print()"
   ]
  },
  {
   "cell_type": "code",
   "execution_count": 46,
   "id": "a549e9c3-1cc6-440b-86a1-8376483fc7b0",
   "metadata": {},
   "outputs": [
    {
     "name": "stdout",
     "output_type": "stream",
     "text": [
      "Input has 109 tokens\n",
      "Input has 1 spans\n",
      "Span boundaries are [[0, 128]]\n",
      "Relations:\n",
      "  {'head': 'pain', 'type': 'has cause', 'tail': 'inflammation', 'meta': {'spans': [[0, 128]]}}\n",
      "  {'head': 'inflammation', 'type': 'has effect', 'tail': 'pain', 'meta': {'spans': [[0, 128]]}}\n",
      "  {'head': 'periodontal ligament', 'type': 'subclass of', 'tail': 'fibers', 'meta': {'spans': [[0, 128]]}}\n"
     ]
    }
   ],
   "source": [
    "text = \"\"\"\n",
    "Let's think step by step like a medical expert. First, what is the periodontal ligament? It's a group of fibers that attach the tooth to the bone. Next, what is a heavy force? A force that is greater than the average force. Now, what would happen to the periodontal ligament if there was a heavy force applied to it? The fibers would be stretched or torn. Lastly, what are the consequences of the fibers being stretched or torn? This would cause inflammation and pain.\n",
    "\"\"\"\n",
    "\n",
    "kb = from_text_to_kb(text, verbose=True)\n",
    "kb.print()"
   ]
  },
  {
   "cell_type": "code",
   "execution_count": 48,
   "id": "351ab87f-5db9-4025-8060-6900af1e4224",
   "metadata": {},
   "outputs": [
    {
     "name": "stdout",
     "output_type": "stream",
     "text": [
      "Input has 269 tokens\n",
      "Input has 3 spans\n",
      "Span boundaries are [[0, 128], [70, 198], [140, 268]]\n",
      "Relations:\n",
      "  {'head': 'collagen', 'type': 'subclass of', 'tail': 'protein', 'meta': {'spans': [[0, 128]]}}\n",
      "  {'head': 'collagen', 'type': 'subclass of', 'tail': 'proteins', 'meta': {'spans': [[0, 128]]}}\n",
      "  {'head': 'collagen', 'type': 'instance of', 'tail': 'protein', 'meta': {'spans': [[0, 128]]}}\n",
      "  {'head': 'fracture', 'type': 'has cause', 'tail': 'Osteoclastic activity', 'meta': {'spans': [[70, 198]]}}\n",
      "  {'head': 'fracture', 'type': 'has cause', 'tail': 'Osteoclastic activity around tooth', 'meta': {'spans': [[70, 198]]}}\n",
      "  {'head': 'Crest bone resorption', 'type': 'subclass of', 'tail': 'resorption', 'meta': {'spans': [[140, 268]]}}\n",
      "  {'head': 'fracture', 'type': 'has cause', 'tail': 'Osteoblastic activity', 'meta': {'spans': [[140, 268]]}}\n",
      "  {'head': 'Crest bone resorption', 'type': 'instance of', 'tail': 'resorption', 'meta': {'spans': [[140, 268]]}}\n"
     ]
    }
   ],
   "source": [
    "text = \"\"\"\n",
    "Let's derive the differential diagnosis step by step: 1. Heavy forces on periodontal ligament causes: A) Hyalinization The hyalinization of the periodontal ligament is a process that occurs in response to heavy forces on the ligament. This results in the deposition of collagen and other proteins in the ligament, which leads to the formation of a tough, fibrous tissue. This tissue is less able to absorb forces, and as a result, the tooth becomes less stable. B) Osteoclastic activity around tooth Osteoclastic activity is a process that occurs in response to heavy forces on the bone. This results in the resorption of bone tissue, which leads to the formation of a cavity around the tooth. This cavity can weaken the tooth and make it more susceptible to fracture. C) Osteoblastic activity around tooth Osteoblastic activity is a process that occurs in response to heavy forces on the bone. This results in the formation of new bone tissue, which can help to stabilize the tooth. D) Crest bone resorption Crest bone resorption is a process that occurs in response to heavy forces on the bone. This results in the resorption of bone tissue at the crest of the tooth, which can lead to the tooth becoming less stable.\n",
    "\"\"\"\n",
    "\n",
    "from_text_to_kb(text, verbose=True).print()"
   ]
  },
  {
   "cell_type": "code",
   "execution_count": 55,
   "id": "9f2d05b0-23cb-481c-840d-15225f5e1dec",
   "metadata": {},
   "outputs": [
    {
     "name": "stdout",
     "output_type": "stream",
     "text": [
      "Input has 98 tokens\n",
      "Input has 1 spans\n",
      "Span boundaries are [[0, 128]]\n",
      "['<s><triplet> physician <subj> medical <obj> field of this occupation <triplet> medical <subj> physician <obj> practiced by</s>', '<s><triplet> physician <subj> medical <obj> field of this occupation</s><pad><pad><pad><pad><pad><pad><pad><pad><pad><pad>', '<s><triplet> neurosurgeon <subj> medical <obj> subclass of</s><pad><pad><pad><pad><pad><pad><pad><pad><pad><pad>']\n",
      "Relations:\n",
      "  {'head': 'physician', 'type': 'field of this occupation', 'tail': 'medical', 'meta': {'spans': [[0, 128]]}}\n",
      "  {'head': 'medical', 'type': 'practiced by', 'tail': 'physician', 'meta': {'spans': [[0, 128]]}}\n",
      "  {'head': 'neurosurgeon', 'type': 'subclass of', 'tail': 'medical', 'meta': {'spans': [[0, 128]]}}\n"
     ]
    }
   ],
   "source": [
    "text = \"\"\"\n",
    "\"Let's think step by step like a medical expert. \\n\\nThe first thing the resident should do is to tell the attending that he cannot fail to disclose this mistake. This is the most important thing to do in order to protect the patient's safety. \\n\\nThe second thing the resident should do is to report the physician to the ethics committee. This is the best way to make sure that the attending does not make this mistake again in the future.\"\n",
    "\"\"\"\n",
    "from_text_to_kb(text, verbose=True).print()"
   ]
  },
  {
   "cell_type": "markdown",
   "id": "f74c0191-7c1a-427a-ac72-e4b4545eeb3c",
   "metadata": {},
   "source": [
    "### NER"
   ]
  },
  {
   "cell_type": "markdown",
   "id": "90c81089-31ba-4aa6-8e53-7427f7a868b4",
   "metadata": {},
   "source": [
    "## NER"
   ]
  },
  {
   "cell_type": "code",
   "execution_count": 18,
   "id": "3f83bdbb-4595-4e65-8576-2c3ff301c679",
   "metadata": {},
   "outputs": [
    {
     "name": "stderr",
     "output_type": "stream",
     "text": [
      "No model was supplied, defaulted to dbmdz/bert-large-cased-finetuned-conll03-english and revision f2482bf (https://huggingface.co/dbmdz/bert-large-cased-finetuned-conll03-english).\n",
      "Using a pipeline without specifying a model name and revision in production is not recommended.\n",
      "config.json: 100%|██████████| 998/998 [00:00<00:00, 70.2kB/s]\n",
      "model.safetensors: 100%|██████████| 1.33G/1.33G [00:12<00:00, 104MB/s] \n",
      "Some weights of the model checkpoint at dbmdz/bert-large-cased-finetuned-conll03-english were not used when initializing BertForTokenClassification: ['bert.pooler.dense.bias', 'bert.pooler.dense.weight']\n",
      "- This IS expected if you are initializing BertForTokenClassification from the checkpoint of a model trained on another task or with another architecture (e.g. initializing a BertForSequenceClassification model from a BertForPreTraining model).\n",
      "- This IS NOT expected if you are initializing BertForTokenClassification from the checkpoint of a model that you expect to be exactly identical (initializing a BertForSequenceClassification model from a BertForSequenceClassification model).\n",
      "tokenizer_config.json: 100%|██████████| 60.0/60.0 [00:00<00:00, 14.3kB/s]\n",
      "vocab.txt: 100%|██████████| 213k/213k [00:00<00:00, 19.1MB/s]\n"
     ]
    }
   ],
   "source": [
    "from transformers import pipeline\n",
    "\n",
    "# create pipeline for NER\n",
    "ner = pipeline('ner', aggregation_strategy = 'simple')"
   ]
  },
  {
   "cell_type": "code",
   "execution_count": 43,
   "id": "a00f8335-3c06-4e89-8448-4c2ea6aba8c0",
   "metadata": {},
   "outputs": [
    {
     "data": {
      "text/plain": [
       "[]"
      ]
     },
     "execution_count": 43,
     "metadata": {},
     "output_type": "execute_result"
    }
   ],
   "source": [
    "ner(\"Let's use step by step inductive reasoning, given the medical nature of the question. First, the study found that there was a 53% prevalence of self-reported problems with sleep and energy. This suggests that there is a significant portion of the population that is affected by sleep disorders. Second, the study found that without correction of cut-point shifts, age, sex, and the number of comorbidities were significantly associated with a greater severity of sleep-related problems. This suggests that these factors may be contributing to the severity of sleep disorders. Third, the study found that after correction, age, the number of comorbidities, and regular exercise were significantly associated with a greater severity of sleep-related problems; sex was no longer a significant factor. This suggests that adjustment for reporting heterogeneity may be necessary in order to accurately identify the factors associated with sleep disorders. Therefore, it is most likely that adjustment for reporting heterogeneity is necessary in sleep disorders.\")"
   ]
  },
  {
   "cell_type": "code",
   "execution_count": 42,
   "id": "c6c01b00-d01d-414c-a5f5-c1bf353e1069",
   "metadata": {},
   "outputs": [
    {
     "data": {
      "text/plain": [
       "[{'entity_group': 'Lab_value',\n",
       "  'score': 0.78727543,\n",
       "  'word': '%',\n",
       "  'start': 128,\n",
       "  'end': 129},\n",
       " {'entity_group': 'Activity',\n",
       "  'score': 0.49062246,\n",
       "  'word': 'regular',\n",
       "  'start': 660,\n",
       "  'end': 667},\n",
       " {'entity_group': 'Activity',\n",
       "  'score': 0.6642873,\n",
       "  'word': 'exercise',\n",
       "  'start': 668,\n",
       "  'end': 676},\n",
       " {'entity_group': 'Disease_disorder',\n",
       "  'score': 0.36377394,\n",
       "  'word': 'sex',\n",
       "  'start': 758,\n",
       "  'end': 761},\n",
       " {'entity_group': 'Coreference',\n",
       "  'score': 0.9036154,\n",
       "  'word': 'het',\n",
       "  'start': 842,\n",
       "  'end': 845},\n",
       " {'entity_group': 'Coreference',\n",
       "  'score': 0.46483764,\n",
       "  'word': '##y',\n",
       "  'start': 854,\n",
       "  'end': 855},\n",
       " {'entity_group': 'Coreference',\n",
       "  'score': 0.92608947,\n",
       "  'word': 'het',\n",
       "  'start': 1009,\n",
       "  'end': 1012},\n",
       " {'entity_group': 'Coreference',\n",
       "  'score': 0.561567,\n",
       "  'word': '##y',\n",
       "  'start': 1021,\n",
       "  'end': 1022}]"
      ]
     },
     "execution_count": 42,
     "metadata": {},
     "output_type": "execute_result"
    }
   ],
   "source": [
    "# not good!!!\n",
    "from transformers import pipeline\n",
    "from transformers import AutoTokenizer, AutoModelForTokenClassification\n",
    "\n",
    "tokenizer = AutoTokenizer.from_pretrained(\"d4data/biomedical-ner-all\")\n",
    "model = AutoModelForTokenClassification.from_pretrained(\"d4data/biomedical-ner-all\")\n",
    "\n",
    "pipe = pipeline(\"ner\", model=model, tokenizer=tokenizer, aggregation_strategy=\"simple\") # pass device=0 if using gpu\n",
    "pipe(\"\"\"Let's use step by step inductive reasoning, given the medical nature of the question. First, the study found that there was a 53% prevalence of self-reported problems with sleep and energy. This suggests that there is a significant portion of the population that is affected by sleep disorders. Second, the study found that without correction of cut-point shifts, age, sex, and the number of comorbidities were significantly associated with a greater severity of sleep-related problems. This suggests that these factors may be contributing to the severity of sleep disorders. Third, the study found that after correction, age, the number of comorbidities, and regular exercise were significantly associated with a greater severity of sleep-related problems; sex was no longer a significant factor. This suggests that adjustment for reporting heterogeneity may be necessary in order to accurately identify the factors associated with sleep disorders. Therefore, it is most likely that adjustment for reporting heterogeneity is necessary in sleep disorders.\"\"\")\n"
   ]
  },
  {
   "cell_type": "code",
   "execution_count": 56,
   "id": "47405cfd-ac44-4131-bcbe-5841f1e00c05",
   "metadata": {},
   "outputs": [
    {
     "name": "stderr",
     "output_type": "stream",
     "text": [
      "modules.json: 100%|██████████| 349/349 [00:00<00:00, 22.9kB/s]\n",
      "config_sentence_transformers.json: 100%|██████████| 116/116 [00:00<00:00, 34.5kB/s]\n",
      "README.md: 100%|██████████| 10.7k/10.7k [00:00<00:00, 2.33MB/s]\n",
      "sentence_bert_config.json: 100%|██████████| 53.0/53.0 [00:00<00:00, 15.2kB/s]\n",
      "config.json: 100%|██████████| 612/612 [00:00<00:00, 182kB/s]\n",
      "pytorch_model.bin: 100%|██████████| 90.9M/90.9M [00:01<00:00, 84.6MB/s]\n",
      "tokenizer_config.json: 100%|██████████| 350/350 [00:00<00:00, 104kB/s]\n",
      "vocab.txt: 100%|██████████| 232k/232k [00:00<00:00, 22.1MB/s]\n",
      "tokenizer.json: 100%|██████████| 466k/466k [00:00<00:00, 1.88MB/s]\n",
      "special_tokens_map.json: 100%|██████████| 112/112 [00:00<00:00, 33.7kB/s]\n",
      "1_Pooling/config.json: 100%|██████████| 190/190 [00:00<00:00, 11.8kB/s]\n",
      "/home/ajayago/anaconda3/envs/huggingface/lib/python3.8/site-packages/torch/cuda/__init__.py:141: UserWarning: CUDA initialization: The NVIDIA driver on your system is too old (found version 11010). Please update your GPU driver by downloading and installing a new version from the URL: http://www.nvidia.com/Download/index.aspx Alternatively, go to: https://pytorch.org to install a PyTorch version that has been compiled with your version of the CUDA driver. (Triggered internally at ../c10/cuda/CUDAFunctions.cpp:108.)\n",
      "  return torch._C._cuda_getDeviceCount() > 0\n"
     ]
    }
   ],
   "source": [
    "# Sentence BERT to create embeddings for the sentences\n",
    "from sentence_transformers import SentenceTransformer\n",
    "\n",
    "model = SentenceTransformer(\"all-MiniLM-L6-v2\")"
   ]
  },
  {
   "cell_type": "code",
   "execution_count": 60,
   "id": "7c43fb75-f3d5-4559-94c7-bb8336a227c3",
   "metadata": {},
   "outputs": [],
   "source": [
    "sentences = [\n",
    "    \"Let's derive the differential diagnosis step by step: 1. Heavy forces on periodontal ligament causes: A) Hyalinization The hyalinization of the periodontal ligament is a process that occurs in response to heavy forces on the ligament. This results in the deposition of collagen and other proteins in the ligament, which leads to the formation of a tough, fibrous tissue. This tissue is less able to absorb forces, and as a result, the tooth becomes less stable. B) Osteoclastic activity around tooth Osteoclastic activity is a process that occurs in response to heavy forces on the bone. This results in the resorption of bone tissue, which leads to the formation of a cavity around the tooth. This cavity can weaken the tooth and make it more susceptible to fracture. C) Osteoblastic activity around tooth Osteoblastic activity is a process that occurs in response to heavy forces on the bone. This results in the formation of new bone tissue, which can help to stabilize the tooth. D) Crest bone resorption Crest bone resorption is a process that occurs in response to heavy forces on the bone. This results in the resorption of bone tissue at the crest of the tooth, which can lead to the tooth becoming less stable.\",\n",
    "]\n",
    "sentence_embeddings = model.encode(sentences)"
   ]
  },
  {
   "cell_type": "code",
   "execution_count": 61,
   "id": "2a5f0aa2-6282-4452-ba2a-6d67d0e46301",
   "metadata": {},
   "outputs": [
    {
     "data": {
      "text/plain": [
       "(1, 384)"
      ]
     },
     "execution_count": 61,
     "metadata": {},
     "output_type": "execute_result"
    }
   ],
   "source": [
    "sentence_embeddings.shape"
   ]
  },
  {
   "cell_type": "code",
   "execution_count": 63,
   "id": "f53d10b6-b31a-4ce0-8a8c-3e88c9821f7d",
   "metadata": {},
   "outputs": [],
   "source": [
    "# Actual CoT in Med_MC_QA and generated CoT (from ThoughtSource)\n",
    "sentences = [\n",
    "    \"Answer- A. Glycogen synthesisLow insulin to glucagon ratio implies a catabolic state, i.e. usage of body stores to form energy, typically seen in fasting state ancl diabetes mellitus. Hence, this state will promote glycogen breakdown, gluconeogenesis as well as ketone body formation, while at the same time inhibiting glycogen synthesis and storage.\",\n",
    "    \"Let's think step by step like a medical expert. \\n\\nFirst, we know that the low insulin to glucagon ratio is seen in diabetes. So, we can eliminate A and B because glycogen synthesis and glycogen breakdown are regulated by insulin.\\n\\nNext, we know that gluconeogenesis is the process of making glucose from non-carbohydrate sources. So, we can eliminate D because ketogenesis is the process of making ketone bodies from fatty acids. \\n\\nTherefore, the answer is C) Gluconeogenesis.\"\n",
    "]\n",
    "sentence_embeddings = model.encode(sentences)"
   ]
  },
  {
   "cell_type": "code",
   "execution_count": 64,
   "id": "4baaf265-3459-4266-9682-c7dfbd716503",
   "metadata": {},
   "outputs": [
    {
     "data": {
      "text/plain": [
       "(2, 384)"
      ]
     },
     "execution_count": 64,
     "metadata": {},
     "output_type": "execute_result"
    }
   ],
   "source": [
    "sentence_embeddings.shape"
   ]
  },
  {
   "cell_type": "code",
   "execution_count": 67,
   "id": "9dcbc77b-15f4-4f94-89c4-ee22a8994f06",
   "metadata": {},
   "outputs": [
    {
     "data": {
      "text/plain": [
       "array([[0.6474214]], dtype=float32)"
      ]
     },
     "execution_count": 67,
     "metadata": {},
     "output_type": "execute_result"
    }
   ],
   "source": [
    "from sklearn.metrics.pairwise import cosine_similarity\n",
    "cosine_similarity(sentence_embeddings[[0]], sentence_embeddings[[1]])"
   ]
  },
  {
   "cell_type": "code",
   "execution_count": 74,
   "id": "59076a18-b0b1-47f2-b9ee-6b03f74a202c",
   "metadata": {},
   "outputs": [],
   "source": [
    "# For each step convert to embeddings\n",
    "# For gpt-3.5-turbo-0613 from https://chat.lmsys.org/\n",
    "question = \"\"\"\n",
    "1. <step1>\n",
    "2. <step2>\n",
    "...\n",
    "So the answer is (<answer>).\n",
    "Make sure that the answer uses the above format. Answer the question step by step.\n",
    "\n",
    "Question: Low insulin to glucagon ratio is seen in all of these except:\n",
    "A) Glycogen synthesis\n",
    "B) Glycogen breakdown\n",
    "C) Gluconeogenesis\n",
    "D) Ketogenesis\n",
    "1. Low insulin to glucagon ratio implies a catabolic state, i.e. usage of body stores to form energy, typically seen in fasting state ancl diabetes mellitus.\n",
    "2. Catabolic state promotes glycogen breakdown, gluconeogenesis and ketogenesis.\n",
    "3. Glycogen synthesis is an anabolic process, which is promoted by insulin.\n",
    "So the answer is A.\n",
    "\n",
    "Question: Axonal transport is:\n",
    "A) Antegrade\n",
    "B) Retrograde\n",
    "C) Antegrade and retrograde\n",
    "D) None\n",
    "\"\"\"\n",
    "result = \"\"\"1. Axonal transport refers to the movement of materials along the axon of a neuron.\n",
    "2. Antegrade axonal transport refers to the movement of materials from the cell body towards the axon terminal.\n",
    "3. Retrograde axonal transport refers to the movement of materials from the axon terminal towards the cell body.\n",
    "4. Antegrade and retrograde axonal transport are two directions of transport that occur simultaneously in neurons.\n",
    "So the answer is C.\"\"\"\n",
    "\n",
    "result_emb = model.encode(result.split(\"\\n\")[:-1])\n",
    "    "
   ]
  },
  {
   "cell_type": "code",
   "execution_count": 73,
   "id": "a015e1f8-625c-4199-8010-30a35d78310a",
   "metadata": {},
   "outputs": [
    {
     "data": {
      "text/plain": [
       "(4, 384)"
      ]
     },
     "execution_count": 73,
     "metadata": {},
     "output_type": "execute_result"
    }
   ],
   "source": [
    "result_emb.shape"
   ]
  },
  {
   "cell_type": "code",
   "execution_count": 75,
   "id": "1b17f2cd-ed78-4b3f-b956-7db0eaf9820e",
   "metadata": {},
   "outputs": [],
   "source": [
    "# graph extraction\n",
    "graph_query = \"\"\"\n",
    "Convert each of the following sentences into (subject, predicate, object) form. Predicates can be \"administered to\", \"affects\", \"associated with\", \"augments\", \"causes\", \"coexists with\", \"converts to\", \"complicates\", \"diagnoses\",  \"disrupts\", \"inhibits\", \"interacts with\", \"is a\", \"location of\", \"manifestation of\", \"method of\", \"occurs in\", \"part of\", \"precedes\", \"predisposes\", \"prevents\", \"process of\", \"produces\", \"stimulates\", \"treats\", \"uses\", \"compared with\",\"higher than\", \"lower than\", \"same as\".\n",
    "Example:  Given: Axonal transport refers to the movement of materials along the axon of a neuron.\n",
    "Answer: (axonal transport, process of, movement of materials along the axon of a neuron)\n",
    "Given: Antegrade axonal transport refers to the movement of materials from the cell body towards the axon terminal.\n",
    "Answer: (Antegrade axonal transport , process of, movement of materials from the cell body towards the axon terminal)\n",
    "Given: Retrograde axonal transport refers to the movement of materials from the axon terminal towards the cell body.\n",
    "Given: Antegrade and retrograde axonal transport are two directions of transport that occur simultaneously in neurons.\n",
    "\"\"\"\n",
    "graph_generated = \"\"\"\n",
    "Given: Retrograde axonal transport refers to the movement of materials from the axon terminal towards the cell body.\n",
    "Answer: (Retrograde axonal transport, process of, movement of materials from the axon terminal towards the cell body)\n",
    "\n",
    "Given: Antegrade and retrograde axonal transport are two directions of transport that occur simultaneously in neurons.\n",
    "Answer: (Antegrade and retrograde axonal transport, coexist and occur simultaneously, two directions of transport)\n",
    "\"\"\"\n",
    "    "
   ]
  },
  {
   "cell_type": "code",
   "execution_count": 76,
   "id": "e8a58eb3-1b1c-478c-9f71-645cbe9defda",
   "metadata": {},
   "outputs": [
    {
     "data": {
      "text/html": [
       "<div>\n",
       "<style scoped>\n",
       "    .dataframe tbody tr th:only-of-type {\n",
       "        vertical-align: middle;\n",
       "    }\n",
       "\n",
       "    .dataframe tbody tr th {\n",
       "        vertical-align: top;\n",
       "    }\n",
       "\n",
       "    .dataframe thead th {\n",
       "        text-align: right;\n",
       "    }\n",
       "</style>\n",
       "<table border=\"1\" class=\"dataframe\">\n",
       "  <thead>\n",
       "    <tr style=\"text-align: right;\">\n",
       "      <th></th>\n",
       "      <th>PREDICATE</th>\n",
       "      <th>SUBJECT_CUI</th>\n",
       "      <th>SUBJECT_NAME</th>\n",
       "      <th>SUBJECT_SEMTYPE</th>\n",
       "      <th>SUBJECT_NOVELTY</th>\n",
       "      <th>SUBJECT_SCORE</th>\n",
       "      <th>OBJECT_CUI</th>\n",
       "      <th>OBJECT_NAME</th>\n",
       "      <th>OBJECT_SEMTYPE</th>\n",
       "      <th>OBJECT_NOVELTY</th>\n",
       "      <th>OBJECT_SCORE</th>\n",
       "      <th>OCCURS</th>\n",
       "    </tr>\n",
       "  </thead>\n",
       "  <tbody>\n",
       "    <tr>\n",
       "      <th>0</th>\n",
       "      <td>ADMINISTERED_TO</td>\n",
       "      <td>C0000248</td>\n",
       "      <td>2-Acetylaminofluorene</td>\n",
       "      <td>hops</td>\n",
       "      <td>1.0</td>\n",
       "      <td>1000</td>\n",
       "      <td>C0018561</td>\n",
       "      <td>Mesocricetus auratus</td>\n",
       "      <td>mamm</td>\n",
       "      <td>1.0</td>\n",
       "      <td>1000</td>\n",
       "      <td>2</td>\n",
       "    </tr>\n",
       "    <tr>\n",
       "      <th>1</th>\n",
       "      <td>ADMINISTERED_TO</td>\n",
       "      <td>C0000248</td>\n",
       "      <td>2-Acetylaminofluorene</td>\n",
       "      <td>hops</td>\n",
       "      <td>1.0</td>\n",
       "      <td>1000</td>\n",
       "      <td>C0034693</td>\n",
       "      <td>Rattus norvegicus</td>\n",
       "      <td>mamm</td>\n",
       "      <td>1.0</td>\n",
       "      <td>861</td>\n",
       "      <td>31</td>\n",
       "    </tr>\n",
       "    <tr>\n",
       "      <th>2</th>\n",
       "      <td>ADMINISTERED_TO</td>\n",
       "      <td>C0000248</td>\n",
       "      <td>2-Acetylaminofluorene</td>\n",
       "      <td>hops</td>\n",
       "      <td>1.0</td>\n",
       "      <td>1000</td>\n",
       "      <td>C0034693</td>\n",
       "      <td>Rattus norvegicus</td>\n",
       "      <td>mamm</td>\n",
       "      <td>1.0</td>\n",
       "      <td>1000</td>\n",
       "      <td>31</td>\n",
       "    </tr>\n",
       "    <tr>\n",
       "      <th>3</th>\n",
       "      <td>ADMINISTERED_TO</td>\n",
       "      <td>C0000275</td>\n",
       "      <td>2-Chloroadenosine</td>\n",
       "      <td>phsu</td>\n",
       "      <td>1.0</td>\n",
       "      <td>1000</td>\n",
       "      <td>C0034693</td>\n",
       "      <td>Rattus norvegicus</td>\n",
       "      <td>mamm</td>\n",
       "      <td>1.0</td>\n",
       "      <td>1000</td>\n",
       "      <td>2</td>\n",
       "    </tr>\n",
       "    <tr>\n",
       "      <th>4</th>\n",
       "      <td>ADMINISTERED_TO</td>\n",
       "      <td>C0000407</td>\n",
       "      <td>3-Hydroxyanthranilic Acid</td>\n",
       "      <td>bacs</td>\n",
       "      <td>1.0</td>\n",
       "      <td>1000</td>\n",
       "      <td>C0029974</td>\n",
       "      <td>Ovum</td>\n",
       "      <td>cell</td>\n",
       "      <td>1.0</td>\n",
       "      <td>888</td>\n",
       "      <td>1</td>\n",
       "    </tr>\n",
       "  </tbody>\n",
       "</table>\n",
       "</div>"
      ],
      "text/plain": [
       "         PREDICATE SUBJECT_CUI               SUBJECT_NAME SUBJECT_SEMTYPE  \\\n",
       "0  ADMINISTERED_TO    C0000248      2-Acetylaminofluorene            hops   \n",
       "1  ADMINISTERED_TO    C0000248      2-Acetylaminofluorene            hops   \n",
       "2  ADMINISTERED_TO    C0000248      2-Acetylaminofluorene            hops   \n",
       "3  ADMINISTERED_TO    C0000275          2-Chloroadenosine            phsu   \n",
       "4  ADMINISTERED_TO    C0000407  3-Hydroxyanthranilic Acid            bacs   \n",
       "\n",
       "   SUBJECT_NOVELTY  SUBJECT_SCORE OBJECT_CUI           OBJECT_NAME  \\\n",
       "0              1.0           1000   C0018561  Mesocricetus auratus   \n",
       "1              1.0           1000   C0034693     Rattus norvegicus   \n",
       "2              1.0           1000   C0034693     Rattus norvegicus   \n",
       "3              1.0           1000   C0034693     Rattus norvegicus   \n",
       "4              1.0           1000   C0029974                  Ovum   \n",
       "\n",
       "  OBJECT_SEMTYPE  OBJECT_NOVELTY  OBJECT_SCORE  OCCURS  \n",
       "0           mamm             1.0          1000       2  \n",
       "1           mamm             1.0           861      31  \n",
       "2           mamm             1.0          1000      31  \n",
       "3           mamm             1.0          1000       2  \n",
       "4           cell             1.0           888       1  "
      ]
     },
     "execution_count": 76,
     "metadata": {},
     "output_type": "execute_result"
    }
   ],
   "source": [
    "import pandas as pd\n",
    "semmed_db = pd.read_csv(\"/data/ajayago/KB_embeddings/dataset/polypharmacy/PREDICATIONS_OCCURS.csv\")\n",
    "semmed_db.head()"
   ]
  },
  {
   "cell_type": "code",
   "execution_count": 120,
   "id": "f477c796-7952-402e-ac19-ac5e3bb83092",
   "metadata": {},
   "outputs": [
    {
     "data": {
      "text/html": [
       "<div>\n",
       "<style scoped>\n",
       "    .dataframe tbody tr th:only-of-type {\n",
       "        vertical-align: middle;\n",
       "    }\n",
       "\n",
       "    .dataframe tbody tr th {\n",
       "        vertical-align: top;\n",
       "    }\n",
       "\n",
       "    .dataframe thead th {\n",
       "        text-align: right;\n",
       "    }\n",
       "</style>\n",
       "<table border=\"1\" class=\"dataframe\">\n",
       "  <thead>\n",
       "    <tr style=\"text-align: right;\">\n",
       "      <th></th>\n",
       "      <th>PREDICATE</th>\n",
       "      <th>SUBJECT_CUI</th>\n",
       "      <th>SUBJECT_NAME</th>\n",
       "      <th>SUBJECT_SEMTYPE</th>\n",
       "      <th>SUBJECT_NOVELTY</th>\n",
       "      <th>SUBJECT_SCORE</th>\n",
       "      <th>OBJECT_CUI</th>\n",
       "      <th>OBJECT_NAME</th>\n",
       "      <th>OBJECT_SEMTYPE</th>\n",
       "      <th>OBJECT_NOVELTY</th>\n",
       "      <th>OBJECT_SCORE</th>\n",
       "      <th>OCCURS</th>\n",
       "    </tr>\n",
       "  </thead>\n",
       "  <tbody>\n",
       "  </tbody>\n",
       "</table>\n",
       "</div>"
      ],
      "text/plain": [
       "Empty DataFrame\n",
       "Columns: [PREDICATE, SUBJECT_CUI, SUBJECT_NAME, SUBJECT_SEMTYPE, SUBJECT_NOVELTY, SUBJECT_SCORE, OBJECT_CUI, OBJECT_NAME, OBJECT_SEMTYPE, OBJECT_NOVELTY, OBJECT_SCORE, OCCURS]\n",
       "Index: []"
      ]
     },
     "execution_count": 120,
     "metadata": {},
     "output_type": "execute_result"
    }
   ],
   "source": [
    "semmed_db[semmed_db[\"OBJECT_NAME\"].str.contains(\"antegrade\")]"
   ]
  },
  {
   "cell_type": "code",
   "execution_count": 82,
   "id": "f4f22b98-8fe3-4538-82e6-aafe7d166b5c",
   "metadata": {},
   "outputs": [],
   "source": [
    "import networkx as nx"
   ]
  },
  {
   "cell_type": "code",
   "execution_count": 83,
   "id": "47d6f903-5046-43f1-b461-5b1f16c34e1d",
   "metadata": {},
   "outputs": [],
   "source": [
    "# load Semmed DB into memory\n",
    "G = nx.from_pandas_edgelist(semmed_db, source=\"SUBJECT_NAME\", target=\"OBJECT_NAME\", edge_attr=\"OCCURS\", edge_key=\"PREDICATE\")"
   ]
  },
  {
   "cell_type": "code",
   "execution_count": 96,
   "id": "e6bccb4a-a955-464a-8d48-c221cda85dd4",
   "metadata": {},
   "outputs": [
    {
     "data": {
      "text/plain": [
       "296623"
      ]
     },
     "execution_count": 96,
     "metadata": {},
     "output_type": "execute_result"
    }
   ],
   "source": [
    "nx.number_of_nodes(G)"
   ]
  },
  {
   "cell_type": "code",
   "execution_count": 97,
   "id": "7e5f67b2-d0fd-48cd-b67f-02337a257a7f",
   "metadata": {},
   "outputs": [
    {
     "data": {
      "text/plain": [
       "14087608"
      ]
     },
     "execution_count": 97,
     "metadata": {},
     "output_type": "execute_result"
    }
   ],
   "source": [
    "nx.number_of_edges(G)"
   ]
  },
  {
   "cell_type": "code",
   "execution_count": 100,
   "id": "560793cd-fb1f-455a-a69d-9e1a59acabed",
   "metadata": {},
   "outputs": [
    {
     "name": "stdout",
     "output_type": "stream",
     "text": [
      "Nerve Regeneration\n",
      "Axoplasmic Flow\n",
      "Deuterium Oxide\n",
      "Antimitotic Agents\n",
      "Microtubules\n",
      "Ca(2+)-Transporting ATPase|DNAH8\n",
      "Dimethyl Sulfoxide\n",
      "Actins\n",
      "Rattus norvegicus\n",
      "Oryctolagus cuniculus\n",
      "Lipids\n",
      "Ions\n",
      "6-Aminonicotinamide\n",
      "Batrachotoxins\n",
      "Tetrodotoxin\n",
      "cooling\n",
      "Ouabain\n",
      "Amitriptyline\n",
      "Calcium\n",
      "Chlorprothixene\n",
      "Clomipramine\n",
      "Desipramine\n",
      "Haloperidol\n",
      "Imipramine\n",
      "Penfluridol\n",
      "Peripheral Neuropathy\n",
      "Pyruvate\n",
      "Recovery\n",
      "Amides\n",
      "Dibenzazepines\n",
      "Proteins\n",
      "Aplysia\n",
      "Endopeptidases\n",
      "Degenerative abnormality\n",
      "Chromosome Pairing\n",
      "Intercellular Communication\n",
      "Membrane Potentials\n",
      "Physiologic Function\n",
      "Carbon Dioxide\n",
      "Cobalt\n",
      "Cell physiology\n",
      "Loligo pealei\n",
      "ATP phosphohydrolase|DNAH8\n",
      "Gossypol\n",
      "Therapeutic procedure\n",
      "POMC gene|POMC\n",
      "Tetracaine\n",
      "Estramustine phosphate\n",
      "Chlorpromazine\n",
      "Lofepramine\n",
      "Thioridazine\n",
      "Trifluoperazine\n",
      "Hypertrophy\n",
      "Deoxyribonuclease I|DNASE1\n",
      "Lidocaine\n",
      "Procaine\n",
      "Adenine\n",
      "Lobster\n",
      "Ethanol\n",
      "Motility\n",
      "Local Anesthetics\n",
      "Antibodies\n",
      "Bupivacaine\n",
      "Mepivacaine\n",
      "Prilocaine\n",
      "Gelsolin|GSN\n",
      "Coated vesicle\n",
      "Cytoskeletal Proteins\n",
      "Cycloheximide\n",
      "Synapsins\n",
      "Human\n",
      "Water consumption\n",
      "ATP phosphohydrolase\n",
      "Cytoskeleton\n",
      "Organelles\n",
      "Membrane Glycoproteins\n",
      "Dibucaine\n",
      "Diabetes\n",
      "Glycoproteins\n",
      "sabeluzole\n",
      "cholinephospholipids\n",
      "Cyclic AMP\n",
      "Cisplatin\n",
      "Colchicine\n",
      "Triiodothyronine\n",
      "Metamorphosis, Biological\n",
      "Electromagnetic Fields\n",
      "Axotomy\n",
      "Aging\n",
      "giant axon\n",
      "Rats, Inbred F344\n",
      "Acrylamide\n",
      "Schwann Cells\n",
      "Dissociation\n",
      "Patients\n",
      "Action Potentials\n",
      "Neurotoxins\n",
      "Synaptic Vesicles\n",
      "Amputation Stumps\n",
      "Animals\n",
      "Tubulin\n",
      "Calmodulin\n",
      "Constriction injury\n",
      "Mus\n",
      "Molecular Motors\n",
      "Movement\n",
      "Kinesin\n",
      "Adult\n",
      "CA2\n",
      "release of sequestered calcium ion into cytoplasm\n",
      "Manipulation procedure\n",
      "Brefeldin A\n",
      "aluminum maltolate\n",
      "Superoxide Dismutase\n",
      "toxicant\n",
      "Mice, Transgenic\n",
      "Myosin Type V\n",
      "Axonal Transport\n",
      "Glycogen Synthase Kinase 3\n",
      "Tyrosine 3-Monooxygenase|TH\n",
      "Phosphotransferases\n",
      "Microfilaments\n",
      "Taxol\n",
      "DNA, Complementary\n",
      "Cyclin-Dependent Kinases\n",
      "Amyloid beta-Protein Precursor\n",
      "Disease\n",
      "Ion Channel\n",
      "superoxide dismutase 1\n",
      "HTT\n",
      "Androgen Receptor|AR\n",
      "polyglutamine\n",
      "Endothelin-1\n",
      "Spastic Paraplegia, Hereditary\n",
      "Oligodendroglia\n",
      "Functional disorder\n",
      "mitochondrial transport\n",
      "1-Methyl-4-phenylpyridinium\n",
      "caspase\n",
      "Protein Kinase C|SPANXC\n",
      "Injection procedure\n",
      "MAPT\n",
      "Nerve Degeneration\n",
      "MOTOR DEFICIT\n",
      "Amyloid beta-Protein\n",
      "Glutamate\n",
      "presenilin-1\n",
      "MYO5A protein, human|MYO5A\n",
      "Primates\n",
      "Rodent\n",
      "Long-Term Potentiation\n",
      "Multiple Sclerosis\n",
      "APP gene|APP\n",
      "Filament\n",
      "Toxic effect\n",
      "Amyotrophic Lateral Sclerosis\n",
      "Mutation\n",
      "Epitopes\n",
      "Sphingolipids\n",
      "PIK3C3\n",
      "dynactin\n",
      "Psychosine\n",
      "Calcineurin\n",
      "Vincristine\n",
      "Paclitaxel\n",
      "ixabepilone\n",
      "Pharmaceutical Preparations\n",
      "KIF21A gene|KIF21A\n",
      "podophyllotoxin\n",
      "GAPDH\n",
      "Cerebrovascular accident\n",
      "CRK protein, human|CRK\n",
      "Polypeptides\n",
      "Dystrophy\n",
      "Neurodegenerative Disorders\n",
      "membrane-bound organelle\n",
      "Herpesvirus 1, Suid\n",
      "SCG10 protein\n",
      "ITIH4\n",
      "MAPK8 gene|MAPK8\n",
      "Prions\n"
     ]
    }
   ],
   "source": [
    "for i in nx.neighbors(G, \"fast axonal transport\"):\n",
    "    print(i)"
   ]
  },
  {
   "cell_type": "code",
   "execution_count": 84,
   "id": "dc140b40-ba6e-4e12-9fd4-c14f71c95a21",
   "metadata": {},
   "outputs": [],
   "source": [
    "cot = nx.DiGraph()\n",
    "cot.add_edges_from([(\"axonal transport\", \"movement of materials along the axon of a neuron\"),\n",
    "                    (\"antegrade axonal transport\", \"movement of materials from the cell body towards the axon terminal\"),\n",
    "                    (\"retrograde axonal transport\", \"movement of materials from the axon terminal towards the cell body\"),\n",
    "                    (\"antegrade and retrograde axonal transport\", \"two directions of transport\")\n",
    "                   ])"
   ]
  },
  {
   "cell_type": "code",
   "execution_count": 90,
   "id": "daa58e93-6822-4d9c-b59a-03e5a13141be",
   "metadata": {},
   "outputs": [
    {
     "data": {
      "image/png": "[encoded data removed]",
      "text/plain": [
       "<Figure size 432x288 with 1 Axes>"
      ]
     },
     "metadata": {},
     "output_type": "display_data"
    }
   ],
   "source": [
    "import matplotlib.pyplot as plt\n",
    "nx.draw_networkx(cot)"
   ]
  },
  {
   "cell_type": "code",
   "execution_count": 91,
   "id": "c600ad17-88f7-4e0d-9661-9677c46f31b7",
   "metadata": {},
   "outputs": [],
   "source": [
    "# check all possible isomorphism between subgraph and graph\n",
    "for i in nx.vf2pp_all_isomorphisms(G, cot, node_label=None, default_label=None):\n",
    "    print(i)"
   ]
  },
  {
   "cell_type": "code",
   "execution_count": 121,
   "id": "b5921702-6c47-4ad6-9cca-fb8676036a5c",
   "metadata": {},
   "outputs": [
    {
     "data": {
      "image/png": "[encoded data removed]",
      "text/plain": [
       "<Figure size 432x288 with 1 Axes>"
      ]
     },
     "metadata": {},
     "output_type": "display_data"
    }
   ],
   "source": [
    "subG = G.subgraph([\"fast axonal transport\", \"retrograde transport\", \"slow axonal transport\"])\n",
    "nx.draw_networkx(subG, arrows=True,)"
   ]
  },
  {
   "cell_type": "code",
   "execution_count": 122,
   "id": "443e6405-ec61-4684-9a3f-6d9e7a71334e",
   "metadata": {},
   "outputs": [
    {
     "data": {
      "text/plain": [
       "[]"
      ]
     },
     "execution_count": 122,
     "metadata": {},
     "output_type": "execute_result"
    }
   ],
   "source": [
    "list(subG.edges)"
   ]
  },
  {
   "cell_type": "code",
   "execution_count": 113,
   "id": "43b3812d-0776-45f9-9bc5-8c87bbeb5e83",
   "metadata": {},
   "outputs": [
    {
     "name": "stdout",
     "output_type": "stream",
     "text": [
      "['slow axonal transport', 'Nerve Regeneration', 'retrograde transport']\n",
      "['slow axonal transport', 'Neurons', 'retrograde transport']\n",
      "['slow axonal transport', 'Injury', 'retrograde transport']\n",
      "['slow axonal transport', 'Mus', 'retrograde transport']\n",
      "['slow axonal transport', 'Rattus norvegicus', 'retrograde transport']\n",
      "['slow axonal transport', 'Physiologic Organization', 'retrograde transport']\n",
      "['slow axonal transport', 'Pathogenesis', 'retrograde transport']\n",
      "['slow axonal transport', 'Oryctolagus cuniculus', 'retrograde transport']\n",
      "['slow axonal transport', 'Animalia', 'retrograde transport']\n",
      "['slow axonal transport', 'Animals', 'retrograde transport']\n",
      "['slow axonal transport', 'Intraocular pressure disorder', 'retrograde transport']\n",
      "['slow axonal transport', 'Neural Development', 'retrograde transport']\n",
      "['slow axonal transport', 'axonal guidance', 'retrograde transport']\n",
      "['slow axonal transport', 'Cytoplasmic dynein', 'retrograde transport']\n",
      "['slow axonal transport', 'Motor protein', 'retrograde transport']\n",
      "['slow axonal transport', 'Movement', 'retrograde transport']\n",
      "['slow axonal transport', 'Optic Nerve Injuries', 'retrograde transport']\n",
      "['slow axonal transport', 'House mice', 'retrograde transport']\n",
      "['slow axonal transport', 'Microtubules', 'retrograde transport']\n",
      "['slow axonal transport', 'Axonal Transport', 'retrograde transport']\n",
      "['slow axonal transport', 'Organelles', 'retrograde transport']\n",
      "['slow axonal transport', 'Kinesin', 'retrograde transport']\n",
      "['slow axonal transport', 'Nerve Degeneration', 'retrograde transport']\n",
      "['slow axonal transport', 'Degenerative abnormality', 'retrograde transport']\n",
      "['slow axonal transport', 'Neurodegenerative Disorders', 'retrograde transport']\n",
      "['slow axonal transport', 'Diabetes', 'retrograde transport']\n",
      "['slow axonal transport', 'anterograde transport', 'retrograde transport']\n",
      "['slow axonal transport', 'Vesicle', 'retrograde transport']\n",
      "['slow axonal transport', 'Acrylamide', 'retrograde transport']\n"
     ]
    }
   ],
   "source": [
    "for i in nx.all_shortest_paths(G, source=\"slow axonal transport\", target=\"retrograde transport\"):\n",
    "    print(i)"
   ]
  },
  {
   "cell_type": "code",
   "execution_count": 123,
   "id": "954033f3-3133-459d-b804-be485963af5c",
   "metadata": {},
   "outputs": [
    {
     "name": "stdout",
     "output_type": "stream",
     "text": [
      "['fast axonal transport', 'Nerve Regeneration', 'retrograde transport']\n",
      "['fast axonal transport', 'Microtubules', 'retrograde transport']\n",
      "['fast axonal transport', 'Actins', 'retrograde transport']\n",
      "['fast axonal transport', 'Rattus norvegicus', 'retrograde transport']\n",
      "['fast axonal transport', 'Oryctolagus cuniculus', 'retrograde transport']\n",
      "['fast axonal transport', 'Tetrodotoxin', 'retrograde transport']\n",
      "['fast axonal transport', 'Calcium', 'retrograde transport']\n",
      "['fast axonal transport', 'Clomipramine', 'retrograde transport']\n",
      "['fast axonal transport', 'Haloperidol', 'retrograde transport']\n",
      "['fast axonal transport', 'Proteins', 'retrograde transport']\n",
      "['fast axonal transport', 'Endopeptidases', 'retrograde transport']\n",
      "['fast axonal transport', 'Degenerative abnormality', 'retrograde transport']\n",
      "['fast axonal transport', 'Cell physiology', 'retrograde transport']\n",
      "['fast axonal transport', 'Therapeutic procedure', 'retrograde transport']\n",
      "['fast axonal transport', 'Chlorpromazine', 'retrograde transport']\n",
      "['fast axonal transport', 'Adenine', 'retrograde transport']\n",
      "['fast axonal transport', 'Motility', 'retrograde transport']\n",
      "['fast axonal transport', 'Antibodies', 'retrograde transport']\n",
      "['fast axonal transport', 'Human', 'retrograde transport']\n",
      "['fast axonal transport', 'Organelles', 'retrograde transport']\n",
      "['fast axonal transport', 'Diabetes', 'retrograde transport']\n",
      "['fast axonal transport', 'Glycoproteins', 'retrograde transport']\n",
      "['fast axonal transport', 'Colchicine', 'retrograde transport']\n",
      "['fast axonal transport', 'Metamorphosis, Biological', 'retrograde transport']\n",
      "['fast axonal transport', 'Acrylamide', 'retrograde transport']\n",
      "['fast axonal transport', 'Patients', 'retrograde transport']\n",
      "['fast axonal transport', 'Animals', 'retrograde transport']\n",
      "['fast axonal transport', 'Mus', 'retrograde transport']\n",
      "['fast axonal transport', 'Molecular Motors', 'retrograde transport']\n",
      "['fast axonal transport', 'Movement', 'retrograde transport']\n",
      "['fast axonal transport', 'Kinesin', 'retrograde transport']\n",
      "['fast axonal transport', 'Adult', 'retrograde transport']\n",
      "['fast axonal transport', 'Brefeldin A', 'retrograde transport']\n",
      "['fast axonal transport', 'Mice, Transgenic', 'retrograde transport']\n",
      "['fast axonal transport', 'Axonal Transport', 'retrograde transport']\n",
      "['fast axonal transport', 'Phosphotransferases', 'retrograde transport']\n",
      "['fast axonal transport', 'Microfilaments', 'retrograde transport']\n",
      "['fast axonal transport', 'Amyloid beta-Protein Precursor', 'retrograde transport']\n",
      "['fast axonal transport', 'Functional disorder', 'retrograde transport']\n",
      "['fast axonal transport', 'Protein Kinase C|SPANXC', 'retrograde transport']\n",
      "['fast axonal transport', 'Injection procedure', 'retrograde transport']\n",
      "['fast axonal transport', 'Nerve Degeneration', 'retrograde transport']\n",
      "['fast axonal transport', 'Glutamate', 'retrograde transport']\n",
      "['fast axonal transport', 'Primates', 'retrograde transport']\n",
      "['fast axonal transport', 'Rodent', 'retrograde transport']\n",
      "['fast axonal transport', 'Amyotrophic Lateral Sclerosis', 'retrograde transport']\n",
      "['fast axonal transport', 'Mutation', 'retrograde transport']\n",
      "['fast axonal transport', 'Epitopes', 'retrograde transport']\n",
      "['fast axonal transport', 'PIK3C3', 'retrograde transport']\n",
      "['fast axonal transport', 'Pharmaceutical Preparations', 'retrograde transport']\n",
      "['fast axonal transport', 'Neurodegenerative Disorders', 'retrograde transport']\n",
      "['fast axonal transport', 'Herpesvirus 1, Suid', 'retrograde transport']\n"
     ]
    }
   ],
   "source": [
    "for i in nx.all_shortest_paths(G, source=\"fast axonal transport\", target=\"retrograde transport\"):\n",
    "    print(i)"
   ]
  },
  {
   "cell_type": "code",
   "execution_count": null,
   "id": "7a76167a-8804-414e-8ac1-812fe7faedf1",
   "metadata": {},
   "outputs": [],
   "source": []
  }
 ],
 "metadata": {
  "kernelspec": {
   "display_name": "Python [conda env:huggingface] *",
   "language": "python",
   "name": "conda-env-huggingface-py"
  },
  "language_info": {
   "codemirror_mode": {
    "name": "ipython",
    "version": 3
   },
   "file_extension": ".py",
   "mimetype": "text/x-python",
   "name": "python",
   "nbconvert_exporter": "python",
   "pygments_lexer": "ipython3",
   "version": "3.8.18"
  }
 },
 "nbformat": 4,
 "nbformat_minor": 5
}
