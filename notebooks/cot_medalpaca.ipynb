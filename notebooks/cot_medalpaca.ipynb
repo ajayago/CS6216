{
 "cells": [
  {
   "cell_type": "code",
   "execution_count": 2,
   "id": "b0687f78-302d-4135-b0bf-54c1f356fcd1",
   "metadata": {},
   "outputs": [
    {
     "name": "stderr",
     "output_type": "stream",
     "text": [
      "/home/ajayago/anaconda3/envs/huggingface/lib/python3.8/site-packages/tqdm/auto.py:21: TqdmWarning: IProgress not found. Please update jupyter and ipywidgets. See https://ipywidgets.readthedocs.io/en/stable/user_install.html\n",
      "  from .autonotebook import tqdm as notebook_tqdm\n"
     ]
    }
   ],
   "source": [
    "from transformers import pipeline\n",
    "from datasets import load_dataset"
   ]
  },
  {
   "cell_type": "code",
   "execution_count": 3,
   "id": "85d2ee9a",
   "metadata": {},
   "outputs": [],
   "source": [
    "medmcqa_data = load_dataset(\"medmcqa\", split=\"validation\")"
   ]
  },
  {
   "cell_type": "markdown",
   "id": "a9b073e8",
   "metadata": {},
   "source": [
    "Using pipelines"
   ]
  },
  {
   "cell_type": "code",
   "execution_count": 8,
   "id": "dc0e89ee",
   "metadata": {},
   "outputs": [
    {
     "name": "stderr",
     "output_type": "stream",
     "text": [
      "Loading checkpoint shards: 100%|██████████| 3/3 [00:03<00:00,  1.20s/it]\n"
     ]
    }
   ],
   "source": [
    "pl = pipeline(\"text-generation\", model=\"medalpaca/medalpaca-7b\", tokenizer=\"medalpaca/medalpaca-7b\")"
   ]
  },
  {
   "cell_type": "code",
   "execution_count": null,
   "id": "42f98027",
   "metadata": {},
   "outputs": [
    {
     "name": "stderr",
     "output_type": "stream",
     "text": [
      "Truncation was not explicitly activated but `max_length` is provided a specific value, please use `truncation=True` to explicitly truncate examples to max length. Defaulting to 'longest_first' truncation strategy. If you encode pairs of sequences (GLUE-style) with the tokenizer you can select this strategy more precisely by providing a specific strategy to `truncation`.\n"
     ]
    },
    {
     "data": {
      "text/plain": [
       "[{'generated_text': 'Context: Suppose you are an expert doctor.\\nInstructions: Answer the multiple choice question, which has only one correct answer. Provide the chosen answer after the prefix `Answer:`. Provide a reason for choosing this answer.\\nDemonstration:\\nQuestion: Which of the following is not true about glomerular capillaries\\') A)The oncotic pressure of the fluid leaving the capillaries is less than that of fluid entering it B)Glucose concentration in the capillaries is the same as that in glomerular filtrate C)Constriction of afferent aeriole decreases the blood flow to the glomerulas D)Hematocrit of the fluid leaving the capillaries is less than that of the fluid entering it. Answer: A. Reasoning: Ans-a. The oncotic pressure of the fluid leaving the capillaries is less than that of fluid entering it Guyton I LpJ1 4-.;anong 23/e p653-6_)Glomerular oncotic pressure (due to plasma protein content) is higher than that of filtrate oncotic pressure in Bowman\\'s capsule\"Since glucose is freely filtered and the fluid in the Bowman\\'s capsule is isotonic with plasma, the concentration of glucose in the filtrate is the same as in the capillaries. \\nQuestion: Axonal transport is: A)Antegrade B)Retrograde C)Antegrade and retrograde D)None. Answer: C. Reasoning: Fast anterograde (400 mm/day) transport occurs by kinesin molecular motor and retrograde transport (200 mm/day) occurs by dynein molecular motor..\\nQuestion: Low insulin to glucagon ratio is seen in all of these except: A)Glycogen synthesis B)Glycogen breakdown C)Gluconeogenesis D)Ketogenesis. Answer: 0. Answer: B. Reasoning: Insulin stimulates glycogen breakdown and inhibits glycogen synthesis. Glucagon stimulates glycogen synthesis and inhibits glycogen breakdown.'}]"
      ]
     },
     "execution_count": 6,
     "metadata": {},
     "output_type": "execute_result"
    }
   ],
   "source": [
    "# pl(f\"Context: Suppose you are an expert doctor.\\nInstructions: Answer the multiple choice question, which has only one correct answer. Provide the chosen answer after the prefix `Answer:`. Provide a reason for choosing this answer.\\nDemonstration:\\nQuestion: {medmcqa_data['question'][1]} A){medmcqa_data['opa'][1]} B){medmcqa_data['opb'][1]} C){medmcqa_data['opc'][1]} D){medmcqa_data['opd'][1]}. Answer: {['A', 'B', 'C', 'D'][medmcqa_data['cop'][1]]}. Reasoning: {medmcqa_data['exp'][1]}. \\nQuestion: {medmcqa_data['question'][3]} A){medmcqa_data['opa'][3]} B){medmcqa_data['opb'][3]} C){medmcqa_data['opc'][3]} D){medmcqa_data['opd'][3]}. Answer: {['A', 'B', 'C', 'D'][medmcqa_data['cop'][3]]}. Reasoning: {medmcqa_data['exp'][3]}.\\nQuestion: {medmcqa_data['question'][4]} A){medmcqa_data['opa'][4]} B){medmcqa_data['opb'][4]} C){medmcqa_data['opc'][4]} D){medmcqa_data['opd'][4]}. Answer: \", max_length=2048)"
   ]
  },
  {
   "cell_type": "code",
   "execution_count": 5,
   "id": "3a5b2009",
   "metadata": {},
   "outputs": [
    {
     "data": {
      "text/plain": [
       "[{'generated_text': \"Q: Which of the following is not true about glomerular capillaries')\\nA) The oncotic pressure of the fluid leaving the capillaries is less than that of fluid entering it\\nB) Glucose concentration in the capillaries is the same as that in glomerular filtrate\\nC) Constriction of afferent aeriole decreases the blood flow to the glomerulas\\nD) Hematocrit of the fluid leaving the capillaries is less than that of the fluid entering it\\nA: Let’s use step by step inductive reasoning, given the medical nature of the question.\\nB: This is true because glucose is not completely absorbed in the intestines and hence remains in the blood.\\nC: This is true because constriction of afferent arteriole decreases the blood flow to the glomerulus.\\nD: This is true because hematocrit is the percentage of red blood cells in the blood.\\nQ: Which of the following is not true about glomerular capillaries')\\nA) The oncotic pressure of the fluid leaving the capillaries is less than that of fluid entering it\\nB) Glucose concentration\"}]"
      ]
     },
     "execution_count": 5,
     "metadata": {},
     "output_type": "execute_result"
    }
   ],
   "source": [
    "pl(\n",
    "f\"\"\"Q: {medmcqa_data['question'][1]}\n",
    "A) {medmcqa_data['opa'][1]}\n",
    "B) {medmcqa_data['opb'][1]}\n",
    "C) {medmcqa_data['opc'][1]}\n",
    "D) {medmcqa_data['opd'][1]}\n",
    "A: Let’s use step by step inductive reasoning, given the medical nature of the question\"\"\", max_new_tokens=128\n",
    ")"
   ]
  },
  {
   "cell_type": "code",
   "execution_count": 19,
   "id": "fc4f2828",
   "metadata": {},
   "outputs": [
    {
     "data": {
      "text/plain": [
       "[{'generated_text': \"\\n1. <step1>\\n2. <step2>\\n...\\nSo the answer is (<answer>).\\nMake sure that the answer uses the above format. Answer the question step by step.\\nQuestion: Which of the following is not true about glomerular capillaries')\\nA) The oncotic pressure of the fluid leaving the capillaries is less than that of fluid entering it\\nB) Glucose concentration in the capillaries is the same as that in glomerular filtrate\\nC) Constriction of afferent aeriole decreases the blood flow to the glomerulas\\nD) Hematocrit of the fluid leaving the capillaries is less than that of the fluid entering it\\nE) The fluid leaving the capillaries is iso-osmotic\"}]"
      ]
     },
     "execution_count": 19,
     "metadata": {},
     "output_type": "execute_result"
    }
   ],
   "source": [
    "pl(\n",
    "f\"\"\"\n",
    "1. <step1>\n",
    "2. <step2>\n",
    "...\n",
    "So the answer is (<answer>).\n",
    "Make sure that the answer uses the above format. Answer the question step by step.\n",
    "Question: {medmcqa_data['question'][1]}\n",
    "A) {medmcqa_data['opa'][1]}\n",
    "B) {medmcqa_data['opb'][1]}\n",
    "C) {medmcqa_data['opc'][1]}\n",
    "D) {medmcqa_data['opd'][1]}\n",
    "\"\"\", max_new_tokens=256\n",
    ")"
   ]
  },
  {
   "cell_type": "code",
   "execution_count": 42,
   "id": "2f078f84",
   "metadata": {},
   "outputs": [
    {
     "data": {
      "text/plain": [
       "'About N. gonorrhoea, all are true except'"
      ]
     },
     "execution_count": 42,
     "metadata": {},
     "output_type": "execute_result"
    }
   ],
   "source": [
    "medmcqa_data[\"question\"][10]"
   ]
  },
  {
   "cell_type": "code",
   "execution_count": 44,
   "id": "e798806f",
   "metadata": {},
   "outputs": [],
   "source": [
    "medmcqa_data['exp'][10]"
   ]
  },
  {
   "cell_type": "code",
   "execution_count": 38,
   "id": "3b090235",
   "metadata": {},
   "outputs": [
    {
     "data": {
      "text/plain": [
       "[{'generated_text': \"\\n1. <step1>\\n2. <step2>\\n...\\nSo the answer is (<answer>).\\nMake sure that the answer uses the above format. Answer the question step by step.\\n\\nQuestion: Low insulin to glucagon ratio is seen in all of these except:\\nA) Glycogen synthesis\\nB) Glycogen breakdown\\nC) Gluconeogenesis\\nD) Ketogenesis\\n1. Low insulin to glucagon ratio implies a catabolic state, i.e. usage of body stores to form energy, typically seen in fasting state ancl diabetes mellitus.\\n2. Catabolic state promotes glycogen breakdown, gluconeogenesis and ketogenesis.\\n3. Glycogen synthesis is an anabolic process, which is promoted by insulin.\\nSo the answer is A.\\n\\nQuestion: Which of the following is not true about glomerular capillaries')\\nA) The oncotic pressure of the fluid leaving the capillaries is less than that of fluid entering it\\nB) Glucose concentration in the capillaries is the same as that in glomerular filtrate\\nC) Constriction of afferent aeriole decreases the blood flow to the glomerulas\\nD) Hematocrit of the fluid leaving the capillaries is less than that of the fluid entering it\\n1. B\\n2. A\\n3. C\\n4. D\\n\\nQuestion: Which of the following is not true about glomerular capillaries\\nA) The oncotic pressure of the fluid leaving the capillaries is less than that of fluid entering it\\nB) Glucose concentration in the capillaries is the same as that in glomerular filtrate\\nC) Constriction of afferent aeriole decreases the blood flow to the glomerulas\\nD) Hematocrit of the fluid leaving the capillaries is less than that of the fluid entering it\\n1. B\\n2. A\\n3. C\\n4. D\"}]"
      ]
     },
     "execution_count": 38,
     "metadata": {},
     "output_type": "execute_result"
    }
   ],
   "source": [
    "# With in context learning\n",
    "pl(\n",
    "f\"\"\"\n",
    "1. <step1>\n",
    "2. <step2>\n",
    "...\n",
    "So the answer is (<answer>).\n",
    "Make sure that the answer uses the above format. Answer the question step by step.\n",
    "\n",
    "Question: Low insulin to glucagon ratio is seen in all of these except:\n",
    "A) Glycogen synthesis\n",
    "B) Glycogen breakdown\n",
    "C) Gluconeogenesis\n",
    "D) Ketogenesis\n",
    "1. Low insulin to glucagon ratio implies a catabolic state, i.e. usage of body stores to form energy, typically seen in fasting state ancl diabetes mellitus.\n",
    "2. Catabolic state promotes glycogen breakdown, gluconeogenesis and ketogenesis.\n",
    "3. Glycogen synthesis is an anabolic process, which is promoted by insulin.\n",
    "So the answer is A.\n",
    "\n",
    "Question: {medmcqa_data['question'][1]}\n",
    "A) {medmcqa_data['opa'][1]}\n",
    "B) {medmcqa_data['opb'][1]}\n",
    "C) {medmcqa_data['opc'][1]}\n",
    "D) {medmcqa_data['opd'][1]}\n",
    "\"\"\", max_new_tokens=256\n",
    ")"
   ]
  },
  {
   "cell_type": "markdown",
   "id": "f283dc3d",
   "metadata": {},
   "source": [
    "Without pipeline\n",
    "\n",
    "https://medium.com/@kevaldekivadiya2415/fine-tuning-llama-2-your-path-to-chemistry-text-perfection-aa4c54ff5790"
   ]
  },
  {
   "cell_type": "code",
   "execution_count": 6,
   "id": "11f716cb",
   "metadata": {},
   "outputs": [
    {
     "name": "stderr",
     "output_type": "stream",
     "text": [
      "Loading checkpoint shards: 100%|██████████| 3/3 [00:03<00:00,  1.16s/it]\n",
      "You are using the default legacy behaviour of the <class 'transformers.models.llama.tokenization_llama.LlamaTokenizer'>. This is expected, and simply means that the `legacy` (previous) behavior will be used so nothing changes for you. If you want to use the new behaviour, set `legacy=False`. This should only be set if you understand what it means, and thoroughly read the reason why this was added as explained in https://github.com/huggingface/transformers/pull/24565\n"
     ]
    }
   ],
   "source": [
    "from transformers import AutoTokenizer, AutoModelForCausalLM, BitsAndBytesConfig\n",
    "import torch\n",
    "model_name = \"medalpaca/medalpaca-7b\"\n",
    "model = AutoModelForCausalLM.from_pretrained(\n",
    "    model_name,\n",
    ")\n",
    "tokenizer = AutoTokenizer.from_pretrained(model_name)"
   ]
  },
  {
   "cell_type": "code",
   "execution_count": 4,
   "id": "62cceddc",
   "metadata": {},
   "outputs": [],
   "source": [
    "# prompt = f\"\"\"\n",
    "# Suppose you are an expert doctor.\n",
    "\n",
    "# ### Instruction:\n",
    "# Answer the multiple choice question, which has only one correct answer. Provide the chosen answer after the prefix Answer:\n",
    "\n",
    "# ### Question:\n",
    "# {medmcqa_data['question'][1]}\n",
    "\n",
    "# ### Options:\n",
    "# A){medmcqa_data['opa'][1]} B){medmcqa_data['opb'][1]} C){medmcqa_data['opc'][1]} D){medmcqa_data['opd'][1]}.\n",
    "\n",
    "# ### Explanation:\n",
    "# {medmcqa_data['exp'][1]}\n",
    "\n",
    "# ### Answer:\n",
    "# {medmcqa_data['cop'][1]}\n",
    "\n",
    "# ### Question:\n",
    "# {medmcqa_data['question'][3]}\n",
    "\n",
    "# ### Options:\n",
    "# A){medmcqa_data['opa'][3]} B){medmcqa_data['opb'][3]} C){medmcqa_data['opc'][3]} D){medmcqa_data['opd'][3]}.\n",
    "\n",
    "# ### Explanation:\n",
    "# {medmcqa_data['exp'][3]}\n",
    "\n",
    "# ### Answer:\n",
    "# {medmcqa_data['cop'][3]}\n",
    "\n",
    "# ### Question:\n",
    "# {medmcqa_data['question'][4]}\n",
    "\n",
    "# ### Options:\n",
    "# A){medmcqa_data['opa'][4]} B){medmcqa_data['opb'][4]} C){medmcqa_data['opc'][4]} D){medmcqa_data['opd'][4]}.\n",
    "\n",
    "# \"\"\""
   ]
  },
  {
   "cell_type": "code",
   "execution_count": 18,
   "id": "16c6af90",
   "metadata": {},
   "outputs": [],
   "source": [
    "prompt = f\"\"\"\n",
    "Q: {medmcqa_data['question'][1]}\n",
    "A) {medmcqa_data['opa'][1]}\n",
    "B) {medmcqa_data['opb'][1]}\n",
    "C) {medmcqa_data['opc'][1]}\n",
    "D) {medmcqa_data['opd'][1]}\n",
    "Let's think step by step like a medical expert.\n",
    "\"\"\""
   ]
  },
  {
   "cell_type": "code",
   "execution_count": 19,
   "id": "cbf39f84",
   "metadata": {},
   "outputs": [
    {
     "data": {
      "text/plain": [
       "\"\\nQ: Which of the following is not true about glomerular capillaries')\\nA) The oncotic pressure of the fluid leaving the capillaries is less than that of fluid entering it\\nB) Glucose concentration in the capillaries is the same as that in glomerular filtrate\\nC) Constriction of afferent aeriole decreases the blood flow to the glomerulas\\nD) Hematocrit of the fluid leaving the capillaries is less than that of the fluid entering it\\nLet's think step by step like a medical expert.\\n\""
      ]
     },
     "execution_count": 19,
     "metadata": {},
     "output_type": "execute_result"
    }
   ],
   "source": [
    "prompt"
   ]
  },
  {
   "cell_type": "code",
   "execution_count": 20,
   "id": "39b0e069",
   "metadata": {},
   "outputs": [
    {
     "name": "stderr",
     "output_type": "stream",
     "text": [
      "/home/ajayago/anaconda3/envs/huggingface/lib/python3.8/site-packages/transformers/generation/configuration_utils.py:410: UserWarning: `do_sample` is set to `False`. However, `temperature` is set to `0.1` -- this flag is only used in sample-based generation modes. You should set `do_sample=True` or unset `temperature`.\n",
      "  warnings.warn(\n",
      "/home/ajayago/anaconda3/envs/huggingface/lib/python3.8/site-packages/transformers/generation/configuration_utils.py:415: UserWarning: `do_sample` is set to `False`. However, `top_p` is set to `0.6` -- this flag is only used in sample-based generation modes. You should set `do_sample=True` or unset `top_p`.\n",
      "  warnings.warn(\n"
     ]
    }
   ],
   "source": [
    "input_ids = tokenizer(prompt, return_tensors=\"pt\", truncation=True).input_ids#.cuda(device=\"cuda:1\")\n",
    "outputs = model.generate(input_ids=input_ids, max_new_tokens=128, do_sample=False, top_p=0.6,temperature=0.1)"
   ]
  },
  {
   "cell_type": "code",
   "execution_count": 21,
   "id": "bd1e2c12",
   "metadata": {},
   "outputs": [
    {
     "data": {
      "text/plain": [
       "129"
      ]
     },
     "execution_count": 21,
     "metadata": {},
     "output_type": "execute_result"
    }
   ],
   "source": [
    "len(input_ids[0])"
   ]
  },
  {
   "cell_type": "code",
   "execution_count": 22,
   "id": "917993ff",
   "metadata": {},
   "outputs": [
    {
     "data": {
      "text/plain": [
       "\"\\nQ: Which of the following is not true about glomerular capillaries')\\nA) The oncotic pressure of the fluid leaving the capillaries is less than that of fluid entering it\\nB) Glucose concentration in the capillaries is the same as that in glomerular filtrate\\nC) Constriction of afferent aeriole decreases the blood flow to the glomerulas\\nD) Hematocrit of the fluid leaving the capillaries is less than that of the fluid entering it\\nLet's think step by step like a medical expert.\\nA) The oncotic pressure of the fluid leaving the capillaries is less than that of fluid entering it\\nThis is true\\nB) Glucose concentration in the capillaries is the same as that in glomerular filtrate\\nThis is false\\nC) Constriction of afferent arteriole decreases the blood flow to the glomerulas\\nThis is true\\nD) Hematocrit of the fluid leaving the capillaries is less than that of the fluid entering it\\nThis is false\\nSo the answer is B\""
      ]
     },
     "execution_count": 22,
     "metadata": {},
     "output_type": "execute_result"
    }
   ],
   "source": [
    "tokenizer.decode(outputs[0], skip_special_tokens=True)"
   ]
  },
  {
   "cell_type": "code",
   "execution_count": null,
   "id": "f07bf1c4",
   "metadata": {},
   "outputs": [],
   "source": []
  }
 ],
 "metadata": {
  "kernelspec": {
   "display_name": "huggingface",
   "language": "python",
   "name": "python3"
  },
  "language_info": {
   "codemirror_mode": {
    "name": "ipython",
    "version": 3
   },
   "file_extension": ".py",
   "mimetype": "text/x-python",
   "name": "python",
   "nbconvert_exporter": "python",
   "pygments_lexer": "ipython3",
   "version": "3.8.18"
  }
 },
 "nbformat": 4,
 "nbformat_minor": 5
}
