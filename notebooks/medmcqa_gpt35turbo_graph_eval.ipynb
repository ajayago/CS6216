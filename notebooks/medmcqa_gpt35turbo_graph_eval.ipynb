{
 "cells": [
  {
   "cell_type": "markdown",
   "id": "b24a0cf8",
   "metadata": {},
   "source": [
    "This notebook evaluates the results on first 20 rows, with explanations available, of the MEDMCQA validation dataset (https://huggingface.co/datasets/medmcqa/viewer/default/validation) as follows\n",
    "\n",
    "* Model: GPT-3.5-Turbo-0613 (using https://chat.lmsys.org/ for generating answers)\n",
    "* CoT strategies: Zero and few shot prompts\n",
    "* Evaluation: sentence BERT comparison, GPT-4 comparison, KG based, ROUGE/BLEU"
   ]
  },
  {
   "cell_type": "markdown",
   "id": "4163c497",
   "metadata": {},
   "source": [
    "### Common imports"
   ]
  },
  {
   "cell_type": "code",
   "execution_count": 80,
   "id": "bcaadd6c",
   "metadata": {},
   "outputs": [],
   "source": [
    "import itertools\n",
    "import torch"
   ]
  },
  {
   "cell_type": "code",
   "execution_count": 2,
   "id": "8b60b6c6-c597-4616-942c-d18eea5e8cb8",
   "metadata": {},
   "outputs": [
    {
     "name": "stderr",
     "output_type": "stream",
     "text": [
      "/home/ajayago/anaconda3/envs/huggingface/lib/python3.8/site-packages/tqdm/auto.py:21: TqdmWarning: IProgress not found. Please update jupyter and ipywidgets. See https://ipywidgets.readthedocs.io/en/stable/user_install.html\n",
      "  from .autonotebook import tqdm as notebook_tqdm\n",
      "/home/ajayago/anaconda3/envs/huggingface/lib/python3.8/site-packages/torch/cuda/__init__.py:141: UserWarning: CUDA initialization: The NVIDIA driver on your system is too old (found version 11010). Please update your GPU driver by downloading and installing a new version from the URL: http://www.nvidia.com/Download/index.aspx Alternatively, go to: https://pytorch.org to install a PyTorch version that has been compiled with your version of the CUDA driver. (Triggered internally at /opt/conda/conda-bld/pytorch_1708025845899/work/c10/cuda/CUDAFunctions.cpp:108.)\n",
      "  return torch._C._cuda_getDeviceCount() > 0\n"
     ]
    }
   ],
   "source": [
    "from sentence_transformers import SentenceTransformer\n",
    "\n",
    "model = SentenceTransformer(\"all-MiniLM-L6-v2\")"
   ]
  },
  {
   "cell_type": "code",
   "execution_count": 3,
   "id": "724f95b7",
   "metadata": {},
   "outputs": [],
   "source": [
    "import evaluate\n",
    "bleu_score = evaluate.load(\"bleu\")\n",
    "rouge_score = evaluate.load('rouge')"
   ]
  },
  {
   "cell_type": "code",
   "execution_count": 4,
   "id": "dafcde6a",
   "metadata": {},
   "outputs": [
    {
     "data": {
      "text/html": [
       "<div>\n",
       "<style scoped>\n",
       "    .dataframe tbody tr th:only-of-type {\n",
       "        vertical-align: middle;\n",
       "    }\n",
       "\n",
       "    .dataframe tbody tr th {\n",
       "        vertical-align: top;\n",
       "    }\n",
       "\n",
       "    .dataframe thead th {\n",
       "        text-align: right;\n",
       "    }\n",
       "</style>\n",
       "<table border=\"1\" class=\"dataframe\">\n",
       "  <thead>\n",
       "    <tr style=\"text-align: right;\">\n",
       "      <th></th>\n",
       "      <th>PREDICATE</th>\n",
       "      <th>SUBJECT_CUI</th>\n",
       "      <th>SUBJECT_NAME</th>\n",
       "      <th>SUBJECT_SEMTYPE</th>\n",
       "      <th>SUBJECT_NOVELTY</th>\n",
       "      <th>SUBJECT_SCORE</th>\n",
       "      <th>OBJECT_CUI</th>\n",
       "      <th>OBJECT_NAME</th>\n",
       "      <th>OBJECT_SEMTYPE</th>\n",
       "      <th>OBJECT_NOVELTY</th>\n",
       "      <th>OBJECT_SCORE</th>\n",
       "      <th>OCCURS</th>\n",
       "    </tr>\n",
       "  </thead>\n",
       "  <tbody>\n",
       "    <tr>\n",
       "      <th>0</th>\n",
       "      <td>ADMINISTERED_TO</td>\n",
       "      <td>C0000248</td>\n",
       "      <td>2-Acetylaminofluorene</td>\n",
       "      <td>hops</td>\n",
       "      <td>1.0</td>\n",
       "      <td>1000</td>\n",
       "      <td>C0018561</td>\n",
       "      <td>Mesocricetus auratus</td>\n",
       "      <td>mamm</td>\n",
       "      <td>1.0</td>\n",
       "      <td>1000</td>\n",
       "      <td>2</td>\n",
       "    </tr>\n",
       "    <tr>\n",
       "      <th>1</th>\n",
       "      <td>ADMINISTERED_TO</td>\n",
       "      <td>C0000248</td>\n",
       "      <td>2-Acetylaminofluorene</td>\n",
       "      <td>hops</td>\n",
       "      <td>1.0</td>\n",
       "      <td>1000</td>\n",
       "      <td>C0034693</td>\n",
       "      <td>Rattus norvegicus</td>\n",
       "      <td>mamm</td>\n",
       "      <td>1.0</td>\n",
       "      <td>861</td>\n",
       "      <td>31</td>\n",
       "    </tr>\n",
       "    <tr>\n",
       "      <th>2</th>\n",
       "      <td>ADMINISTERED_TO</td>\n",
       "      <td>C0000248</td>\n",
       "      <td>2-Acetylaminofluorene</td>\n",
       "      <td>hops</td>\n",
       "      <td>1.0</td>\n",
       "      <td>1000</td>\n",
       "      <td>C0034693</td>\n",
       "      <td>Rattus norvegicus</td>\n",
       "      <td>mamm</td>\n",
       "      <td>1.0</td>\n",
       "      <td>1000</td>\n",
       "      <td>31</td>\n",
       "    </tr>\n",
       "    <tr>\n",
       "      <th>3</th>\n",
       "      <td>ADMINISTERED_TO</td>\n",
       "      <td>C0000275</td>\n",
       "      <td>2-Chloroadenosine</td>\n",
       "      <td>phsu</td>\n",
       "      <td>1.0</td>\n",
       "      <td>1000</td>\n",
       "      <td>C0034693</td>\n",
       "      <td>Rattus norvegicus</td>\n",
       "      <td>mamm</td>\n",
       "      <td>1.0</td>\n",
       "      <td>1000</td>\n",
       "      <td>2</td>\n",
       "    </tr>\n",
       "    <tr>\n",
       "      <th>4</th>\n",
       "      <td>ADMINISTERED_TO</td>\n",
       "      <td>C0000407</td>\n",
       "      <td>3-Hydroxyanthranilic Acid</td>\n",
       "      <td>bacs</td>\n",
       "      <td>1.0</td>\n",
       "      <td>1000</td>\n",
       "      <td>C0029974</td>\n",
       "      <td>Ovum</td>\n",
       "      <td>cell</td>\n",
       "      <td>1.0</td>\n",
       "      <td>888</td>\n",
       "      <td>1</td>\n",
       "    </tr>\n",
       "  </tbody>\n",
       "</table>\n",
       "</div>"
      ],
      "text/plain": [
       "         PREDICATE SUBJECT_CUI               SUBJECT_NAME SUBJECT_SEMTYPE  \\\n",
       "0  ADMINISTERED_TO    C0000248      2-Acetylaminofluorene            hops   \n",
       "1  ADMINISTERED_TO    C0000248      2-Acetylaminofluorene            hops   \n",
       "2  ADMINISTERED_TO    C0000248      2-Acetylaminofluorene            hops   \n",
       "3  ADMINISTERED_TO    C0000275          2-Chloroadenosine            phsu   \n",
       "4  ADMINISTERED_TO    C0000407  3-Hydroxyanthranilic Acid            bacs   \n",
       "\n",
       "   SUBJECT_NOVELTY  SUBJECT_SCORE OBJECT_CUI           OBJECT_NAME  \\\n",
       "0              1.0           1000   C0018561  Mesocricetus auratus   \n",
       "1              1.0           1000   C0034693     Rattus norvegicus   \n",
       "2              1.0           1000   C0034693     Rattus norvegicus   \n",
       "3              1.0           1000   C0034693     Rattus norvegicus   \n",
       "4              1.0           1000   C0029974                  Ovum   \n",
       "\n",
       "  OBJECT_SEMTYPE  OBJECT_NOVELTY  OBJECT_SCORE  OCCURS  \n",
       "0           mamm             1.0          1000       2  \n",
       "1           mamm             1.0           861      31  \n",
       "2           mamm             1.0          1000      31  \n",
       "3           mamm             1.0          1000       2  \n",
       "4           cell             1.0           888       1  "
      ]
     },
     "execution_count": 4,
     "metadata": {},
     "output_type": "execute_result"
    }
   ],
   "source": [
    "import pandas as pd\n",
    "semmed_db = pd.read_csv(\"/data/ajayago/KB_embeddings/dataset/polypharmacy/PREDICATIONS_OCCURS.csv\")\n",
    "semmed_db.head()"
   ]
  },
  {
   "cell_type": "code",
   "execution_count": 5,
   "id": "10d03c46",
   "metadata": {},
   "outputs": [],
   "source": [
    "semmed_db[\"SUBJECT_NAME\"] = semmed_db[\"SUBJECT_NAME\"].apply(lambda x: x.upper())\n",
    "semmed_db[\"OBJECT_NAME\"] = semmed_db[\"OBJECT_NAME\"].apply(lambda x: x.upper())"
   ]
  },
  {
   "cell_type": "code",
   "execution_count": 6,
   "id": "871b5240",
   "metadata": {},
   "outputs": [
    {
     "data": {
      "text/html": [
       "<div>\n",
       "<style scoped>\n",
       "    .dataframe tbody tr th:only-of-type {\n",
       "        vertical-align: middle;\n",
       "    }\n",
       "\n",
       "    .dataframe tbody tr th {\n",
       "        vertical-align: top;\n",
       "    }\n",
       "\n",
       "    .dataframe thead th {\n",
       "        text-align: right;\n",
       "    }\n",
       "</style>\n",
       "<table border=\"1\" class=\"dataframe\">\n",
       "  <thead>\n",
       "    <tr style=\"text-align: right;\">\n",
       "      <th></th>\n",
       "      <th>PREDICATE</th>\n",
       "      <th>SUBJECT_CUI</th>\n",
       "      <th>SUBJECT_NAME</th>\n",
       "      <th>SUBJECT_SEMTYPE</th>\n",
       "      <th>SUBJECT_NOVELTY</th>\n",
       "      <th>SUBJECT_SCORE</th>\n",
       "      <th>OBJECT_CUI</th>\n",
       "      <th>OBJECT_NAME</th>\n",
       "      <th>OBJECT_SEMTYPE</th>\n",
       "      <th>OBJECT_NOVELTY</th>\n",
       "      <th>OBJECT_SCORE</th>\n",
       "      <th>OCCURS</th>\n",
       "    </tr>\n",
       "  </thead>\n",
       "  <tbody>\n",
       "    <tr>\n",
       "      <th>0</th>\n",
       "      <td>ADMINISTERED_TO</td>\n",
       "      <td>C0000248</td>\n",
       "      <td>2-ACETYLAMINOFLUORENE</td>\n",
       "      <td>hops</td>\n",
       "      <td>1.0</td>\n",
       "      <td>1000</td>\n",
       "      <td>C0018561</td>\n",
       "      <td>MESOCRICETUS AURATUS</td>\n",
       "      <td>mamm</td>\n",
       "      <td>1.0</td>\n",
       "      <td>1000</td>\n",
       "      <td>2</td>\n",
       "    </tr>\n",
       "    <tr>\n",
       "      <th>1</th>\n",
       "      <td>ADMINISTERED_TO</td>\n",
       "      <td>C0000248</td>\n",
       "      <td>2-ACETYLAMINOFLUORENE</td>\n",
       "      <td>hops</td>\n",
       "      <td>1.0</td>\n",
       "      <td>1000</td>\n",
       "      <td>C0034693</td>\n",
       "      <td>RATTUS NORVEGICUS</td>\n",
       "      <td>mamm</td>\n",
       "      <td>1.0</td>\n",
       "      <td>861</td>\n",
       "      <td>31</td>\n",
       "    </tr>\n",
       "    <tr>\n",
       "      <th>2</th>\n",
       "      <td>ADMINISTERED_TO</td>\n",
       "      <td>C0000248</td>\n",
       "      <td>2-ACETYLAMINOFLUORENE</td>\n",
       "      <td>hops</td>\n",
       "      <td>1.0</td>\n",
       "      <td>1000</td>\n",
       "      <td>C0034693</td>\n",
       "      <td>RATTUS NORVEGICUS</td>\n",
       "      <td>mamm</td>\n",
       "      <td>1.0</td>\n",
       "      <td>1000</td>\n",
       "      <td>31</td>\n",
       "    </tr>\n",
       "    <tr>\n",
       "      <th>3</th>\n",
       "      <td>ADMINISTERED_TO</td>\n",
       "      <td>C0000275</td>\n",
       "      <td>2-CHLOROADENOSINE</td>\n",
       "      <td>phsu</td>\n",
       "      <td>1.0</td>\n",
       "      <td>1000</td>\n",
       "      <td>C0034693</td>\n",
       "      <td>RATTUS NORVEGICUS</td>\n",
       "      <td>mamm</td>\n",
       "      <td>1.0</td>\n",
       "      <td>1000</td>\n",
       "      <td>2</td>\n",
       "    </tr>\n",
       "    <tr>\n",
       "      <th>4</th>\n",
       "      <td>ADMINISTERED_TO</td>\n",
       "      <td>C0000407</td>\n",
       "      <td>3-HYDROXYANTHRANILIC ACID</td>\n",
       "      <td>bacs</td>\n",
       "      <td>1.0</td>\n",
       "      <td>1000</td>\n",
       "      <td>C0029974</td>\n",
       "      <td>OVUM</td>\n",
       "      <td>cell</td>\n",
       "      <td>1.0</td>\n",
       "      <td>888</td>\n",
       "      <td>1</td>\n",
       "    </tr>\n",
       "  </tbody>\n",
       "</table>\n",
       "</div>"
      ],
      "text/plain": [
       "         PREDICATE SUBJECT_CUI               SUBJECT_NAME SUBJECT_SEMTYPE  \\\n",
       "0  ADMINISTERED_TO    C0000248      2-ACETYLAMINOFLUORENE            hops   \n",
       "1  ADMINISTERED_TO    C0000248      2-ACETYLAMINOFLUORENE            hops   \n",
       "2  ADMINISTERED_TO    C0000248      2-ACETYLAMINOFLUORENE            hops   \n",
       "3  ADMINISTERED_TO    C0000275          2-CHLOROADENOSINE            phsu   \n",
       "4  ADMINISTERED_TO    C0000407  3-HYDROXYANTHRANILIC ACID            bacs   \n",
       "\n",
       "   SUBJECT_NOVELTY  SUBJECT_SCORE OBJECT_CUI           OBJECT_NAME  \\\n",
       "0              1.0           1000   C0018561  MESOCRICETUS AURATUS   \n",
       "1              1.0           1000   C0034693     RATTUS NORVEGICUS   \n",
       "2              1.0           1000   C0034693     RATTUS NORVEGICUS   \n",
       "3              1.0           1000   C0034693     RATTUS NORVEGICUS   \n",
       "4              1.0           1000   C0029974                  OVUM   \n",
       "\n",
       "  OBJECT_SEMTYPE  OBJECT_NOVELTY  OBJECT_SCORE  OCCURS  \n",
       "0           mamm             1.0          1000       2  \n",
       "1           mamm             1.0           861      31  \n",
       "2           mamm             1.0          1000      31  \n",
       "3           mamm             1.0          1000       2  \n",
       "4           cell             1.0           888       1  "
      ]
     },
     "execution_count": 6,
     "metadata": {},
     "output_type": "execute_result"
    }
   ],
   "source": [
    "semmed_db.head()"
   ]
  },
  {
   "cell_type": "code",
   "execution_count": 7,
   "id": "9729f02e",
   "metadata": {},
   "outputs": [],
   "source": [
    "import networkx as nx\n",
    "# load Semmed DB into memory\n",
    "G = nx.from_pandas_edgelist(semmed_db, source=\"SUBJECT_NAME\", target=\"OBJECT_NAME\", edge_attr=\"OCCURS\", edge_key=\"PREDICATE\")"
   ]
  },
  {
   "cell_type": "code",
   "execution_count": 8,
   "id": "3b52eaea",
   "metadata": {},
   "outputs": [
    {
     "name": "stdout",
     "output_type": "stream",
     "text": [
      "296597 14087555\n"
     ]
    }
   ],
   "source": [
    "print(nx.number_of_nodes(G), nx.number_of_edges(G))"
   ]
  },
  {
   "cell_type": "code",
   "execution_count": 9,
   "id": "bb3b1b06",
   "metadata": {},
   "outputs": [
    {
     "data": {
      "text/plain": [
       "296597"
      ]
     },
     "execution_count": 9,
     "metadata": {},
     "output_type": "execute_result"
    }
   ],
   "source": [
    "concepts = set(nx.nodes(G))\n",
    "len(concepts)"
   ]
  },
  {
   "cell_type": "code",
   "execution_count": 15,
   "id": "a6cd9778",
   "metadata": {},
   "outputs": [],
   "source": [
    "from datasets import load_dataset\n",
    "medmcqa_data = load_dataset(\"medmcqa\", split=\"validation\")"
   ]
  },
  {
   "cell_type": "markdown",
   "id": "29d27eb2",
   "metadata": {},
   "source": [
    "### Question 1\n",
    "\n",
    "```\n",
    "Question: Which of the following is not true about glomerular capillaries?\n",
    "Option A: The oncotic pressure of the fluid leaving the capillaries is less than that of fluid entering it\n",
    "Option B: Glucose concentration in the capillaries is the same as that in glomerular filtrate\n",
    "Option C: Constriction of afferent aeriole decreases the blood flow to the glomerulas\n",
    "Option D: Hematocrit of the fluid leaving the capillaries is less than that of the fluid entering it\n",
    "Answer: A\n",
    "Exp: Ans-a. The oncotic pressure of the fluid leaving the capillaries is less than that of fluid entering it Guyton I LpJ1 4-.;anong 23/e p653-6_)Glomerular oncotic pressure (due to plasma protein content) is higher than that of filtrate oncotic pressure in Bowman's capsule\"Since glucose is freely filtered and the fluid in the Bowman's capsule is isotonic with plasma, the concentration of glucose in the filtrate is the same as in the capillaries\n",
    "```"
   ]
  },
  {
   "cell_type": "code",
   "execution_count": 91,
   "id": "32d613a2",
   "metadata": {},
   "outputs": [
    {
     "name": "stdout",
     "output_type": "stream",
     "text": [
      "Question: Which of the following is not true about glomerular capillaries')\n",
      "Option A: The oncotic pressure of the fluid leaving the capillaries is less than that of fluid entering it\n",
      "Option B: Glucose concentration in the capillaries is the same as that in glomerular filtrate\n",
      "Option C: Constriction of afferent aeriole decreases the blood flow to the glomerulas\n",
      "Option D: Hematocrit of the fluid leaving the capillaries is less than that of the fluid entering it\n",
      "Answer: A\n"
     ]
    }
   ],
   "source": [
    "print(f\"Question: {medmcqa_data['question'][1]}\")\n",
    "print(f\"Option A: {medmcqa_data['opa'][1]}\")\n",
    "print(f\"Option B: {medmcqa_data['opb'][1]}\")\n",
    "print(f\"Option C: {medmcqa_data['opc'][1]}\")\n",
    "print(f\"Option D: {medmcqa_data['opd'][1]}\")\n",
    "print(f\"Answer: {['A', 'B', 'C', 'D'][medmcqa_data['cop'][1]]}\")"
   ]
  },
  {
   "cell_type": "markdown",
   "id": "eb1c869b",
   "metadata": {},
   "source": [
    "#### Zero Shot Prompt \n",
    "\n",
    "Prompt:\n",
    "```\n",
    "Question: Which of the following is not true about glomerular capillaries?\n",
    "Option A: The oncotic pressure of the fluid leaving the capillaries is less than that of fluid entering it\n",
    "Option B: Glucose concentration in the capillaries is the same as that in glomerular filtrate\n",
    "Option C: Constriction of afferent aeriole decreases the blood flow to the glomerulas\n",
    "Option D: Hematocrit of the fluid leaving the capillaries is less than that of the fluid entering it\n",
    "Answer: \n",
    "```\n",
    "\n",
    "Answer:\n",
    "```\n",
    "The answer is option B: Glucose concentration in the capillaries is the same as that in glomerular filtrate.\n",
    "```\n"
   ]
  },
  {
   "cell_type": "markdown",
   "id": "7b00dc85",
   "metadata": {},
   "source": [
    "**Sentence BERT comparison**"
   ]
  },
  {
   "cell_type": "code",
   "execution_count": 92,
   "id": "6dee4e68",
   "metadata": {},
   "outputs": [],
   "source": [
    "generated_cot = \"The answer is option B: Glucose concentration in the capillaries is the same as that in glomerular filtrate.\"\n",
    "cot_gt = \"\"\"Ans-a. The oncotic pressure of the fluid leaving the capillaries is less than that of fluid entering it Guyton I LpJ1 4-.;anong 23/e p653-6_)Glomerular oncotic pressure (due to plasma protein content) is higher than that of filtrate oncotic pressure in Bowman's capsule\"Since glucose is freely filtered and the fluid in the Bowman's capsule is isotonic with plasma, the concentration of glucose in the filtrate is the same as in the capillaries\"\"\"\n",
    "sentences_to_compare = [\n",
    "    generated_cot,\n",
    "    cot_gt\n",
    "]\n",
    "sentence_embeddings = model.encode(sentences_to_compare)\n"
   ]
  },
  {
   "cell_type": "code",
   "execution_count": 93,
   "id": "ae3f0375",
   "metadata": {},
   "outputs": [
    {
     "data": {
      "text/plain": [
       "array([[0.7343774]], dtype=float32)"
      ]
     },
     "execution_count": 93,
     "metadata": {},
     "output_type": "execute_result"
    }
   ],
   "source": [
    "from sklearn.metrics.pairwise import cosine_similarity\n",
    "cosine_similarity(sentence_embeddings[[0]], sentence_embeddings[[1]])"
   ]
  },
  {
   "cell_type": "markdown",
   "id": "f552b1ee",
   "metadata": {},
   "source": [
    "**GPT-4 comparison** (based on https://chat.lmsys.org/ `gpt-4-1106-preview`)\n",
    "\n",
    "Prompt:\n",
    "```\n",
    "How similar are the following sentences? Rate the similarity using a score between 0 and 1 with a reasoning for the same.\n",
    "Sentence A: The answer is option B: Glucose concentration in the capillaries is the same as that in glomerular filtrate.\n",
    "Sentence B: Ans-a. The oncotic pressure of the fluid leaving the capillaries is less than that of fluid entering it Guyton I LpJ1 4-.;anong 23/e p653-6_)Glomerular oncotic pressure (due to plasma protein content) is higher than that of filtrate oncotic pressure in Bowman's capsule\"Since glucose is freely filtered and the fluid in the Bowman's capsule is isotonic with plasma, the concentration of glucose in the filtrate is the same as in the capillaries\n",
    "```\n",
    "Response:\n",
    "```\n",
    "The similarity between Sentence A and Sentence B is relatively low, and I would rate it around 0.3.\n",
    "\n",
    "Both sentences are discussing physiological aspects related to the capillaries and glomerular filtrate, which suggests a thematic similarity. They mention properties of substances in the blood and glomerular filtrate, but they focus on different concepts:\n",
    "\n",
    "- Sentence A states that the glucose concentration is the same in the capillaries and the glomerular filtrate.\n",
    "- Sentence B discusses oncotic pressure differences and mentions that the glomerular oncotic pressure is higher than that of the filtrate in Bowman's capsule. It also notes that glucose is freely filtered and that the filtrate is isotonic with plasma, which implies a similarity in glucose concentrations between the capillaries and Bowman's capsule filtrate, but this is not the main focus of the sentence.\n",
    "\n",
    "The reasoning for the similarity score is as follows:\n",
    "\n",
    "- Both sentences talk about the properties of substances within the capillaries and filtrate, which provides a basic thematic similarity.\n",
    "- Sentence A explicitly states the similarity in glucose concentration between two points, while Sentence B implies this information in a more complex explanation about oncotic pressure.\n",
    "- The main topic of Sentence A is glucose concentration, while Sentence B focuses on oncotic pressure, although it includes a statement that indirectly supports the idea in Sentence A.\n",
    "\n",
    "Thus, while there is some overlap in the content, the primary focuses of the sentences are different, and Sentence B includes additional information and context not present in Sentence A. This justifies the score being closer to 0 than to 1.\n",
    "```"
   ]
  },
  {
   "cell_type": "markdown",
   "id": "f0a0cb68",
   "metadata": {},
   "source": [
    "**Knowledge Graph based comparison**\n",
    "\n",
    "This needs a few key phrases in the text to be highlighted by user - this can be offloaded to a biomedical NER system later. These phrases must also be present in the knowledge graph used."
   ]
  },
  {
   "cell_type": "markdown",
   "id": "ab4c516d",
   "metadata": {},
   "source": [
    "Currently, key phrases are being extracted using GPT-4 from chat.lmsys.org or are manually created. The manual ones have a higher chance of being found in SemmedDB."
   ]
  },
  {
   "cell_type": "markdown",
   "id": "1f46f460",
   "metadata": {},
   "source": [
    "After identifying the key terms in the Q and all options, shortest paths are found for these concepts in the KG. For the terms found, the overlap with each option is found. The option with most overlap in terms is the chosen answer from the KG."
   ]
  },
  {
   "cell_type": "code",
   "execution_count": 94,
   "id": "09249a36",
   "metadata": {},
   "outputs": [],
   "source": [
    "optionA_phrases = [w.upper() for w in medmcqa_data[\"opa\"][1].split(\" \")]\n",
    "optionB_phrases = [w.upper() for w in medmcqa_data[\"opb\"][1].split(\" \")]\n",
    "optionC_phrases = [w.upper() for w in medmcqa_data[\"opc\"][1].split(\" \")]\n",
    "optionD_phrases = [w.upper() for w in medmcqa_data[\"opd\"][1].split(\" \")]"
   ]
  },
  {
   "cell_type": "code",
   "execution_count": 95,
   "id": "1f4d7149",
   "metadata": {},
   "outputs": [
    {
     "name": "stdout",
     "output_type": "stream",
     "text": [
      "['glucose', 'glucose concentration', 'capillary', 'capillaries', 'glomerular', 'filterate', 'oncotic pressure', 'aeriole', 'hematocrit']\n",
      "['GLUCOSE', 'ONCOTIC PRESSURE']\n"
     ]
    }
   ],
   "source": [
    "# phrases from generated cot that could be connected in the KG\n",
    "candidate_key_phrases = [\"glucose\", \"glucose concentration\", \"capillary\", \"capillaries\", \"glomerular\", \"filterate\", \"oncotic pressure\", \"aeriole\", \"hematocrit\"] # manually generated\n",
    "# candidate_key_phrases = list(set(optionA_phrases) | set(optionB_phrases) | set(optionC_phrases) | set(optionD_phrases))\n",
    "print(candidate_key_phrases)\n",
    "# candidate_key_phrases = [\"glomerular capillaries\", # from GPT-4\n",
    "# \"oncotic pressure\",\n",
    "# \"glucose concentration\",\n",
    "# \"glomerular filtrate\",\n",
    "# \"constriction of afferent arteriole\",\n",
    "# \"blood flow to the glomerulus\",\n",
    "# \"hematocrit\"]\n",
    "key_phrases = []\n",
    "for candidate in candidate_key_phrases:\n",
    "    if candidate.upper() in concepts:\n",
    "        key_phrases.append(candidate.upper())\n",
    "print(key_phrases)\n"
   ]
  },
  {
   "cell_type": "code",
   "execution_count": 96,
   "id": "ca4d53cc",
   "metadata": {},
   "outputs": [
    {
     "name": "stdout",
     "output_type": "stream",
     "text": [
      "Paths exist between the concepts\n",
      "[['GLUCOSE', 'CONTRACTION', 'ONCOTIC PRESSURE'], ['GLUCOSE', 'LIPOGENESIS', 'ONCOTIC PRESSURE'], ['GLUCOSE', 'EXCRETORY FUNCTION', 'ONCOTIC PRESSURE'], ['GLUCOSE', 'NEOPLASM', 'ONCOTIC PRESSURE'], ['GLUCOSE', 'KIDNEY FAILURE, ACUTE', 'ONCOTIC PRESSURE'], ['GLUCOSE', 'LYMPH FLOW', 'ONCOTIC PRESSURE'], ['GLUCOSE', 'ALBUMINS', 'ONCOTIC PRESSURE'], ['GLUCOSE', 'PHARMACEUTICAL PREPARATIONS', 'ONCOTIC PRESSURE'], ['GLUCOSE', 'WATER', 'ONCOTIC PRESSURE'], ['GLUCOSE', 'CHLORIDES', 'ONCOTIC PRESSURE'], ['GLUCOSE', 'FATTY ACIDS, NONESTERIFIED', 'ONCOTIC PRESSURE'], ['GLUCOSE', 'SODIUM CHLORIDE', 'ONCOTIC PRESSURE'], ['GLUCOSE', 'POTASSIUM', 'ONCOTIC PRESSURE'], ['GLUCOSE', 'STARCH', 'ONCOTIC PRESSURE'], ['GLUCOSE', 'PROTEINS', 'ONCOTIC PRESSURE'], ['GLUCOSE', 'ENDOTOXINS', 'ONCOTIC PRESSURE'], ['GLUCOSE', 'ELECTROLYTES', 'ONCOTIC PRESSURE'], ['GLUCOSE', 'ANGIOTENSINS', 'ONCOTIC PRESSURE'], ['GLUCOSE', 'IONS', 'ONCOTIC PRESSURE'], ['GLUCOSE', 'THYROXINE', 'ONCOTIC PRESSURE'], ['GLUCOSE', 'PLASMA EXPANDER', 'ONCOTIC PRESSURE'], ['GLUCOSE', 'SODIUM', 'ONCOTIC PRESSURE'], ['GLUCOSE', 'EPHRIN RECEPTOR EPHB1', 'ONCOTIC PRESSURE'], ['GLUCOSE', 'MITOCHONDRIA', 'ONCOTIC PRESSURE'], ['GLUCOSE', 'MEMBRANE', 'ONCOTIC PRESSURE'], ['GLUCOSE', 'PROTOPLASM', 'ONCOTIC PRESSURE'], ['GLUCOSE', 'LIVER CIRRHOSIS', 'ONCOTIC PRESSURE'], ['GLUCOSE', 'PERMEABILITY', 'ONCOTIC PRESSURE'], ['GLUCOSE', 'ALBUMINS|ALB', 'ONCOTIC PRESSURE'], ['GLUCOSE', 'CATECHOLAMINES', 'ONCOTIC PRESSURE'], ['GLUCOSE', 'BILIRUBIN', 'ONCOTIC PRESSURE'], ['GLUCOSE', 'CYTOPLASM', 'ONCOTIC PRESSURE'], ['GLUCOSE', 'EPHRIN RECEPTOR EPHB1|ELK3|EPHB1|SLC6A2', 'ONCOTIC PRESSURE'], ['GLUCOSE', 'GLOMERULAR FILTRATION RATE', 'ONCOTIC PRESSURE'], ['GLUCOSE', 'MOVEMENT', 'ONCOTIC PRESSURE'], ['GLUCOSE', 'TUBULAR REABSORPTION', 'ONCOTIC PRESSURE'], ['GLUCOSE', 'GLOBULINS', 'ONCOTIC PRESSURE'], ['GLUCOSE', 'SERUM ALBUMIN', 'ONCOTIC PRESSURE'], ['GLUCOSE', 'CRYSTALLOID', 'ONCOTIC PRESSURE'], ['GLUCOSE', 'STEADY STATE', 'ONCOTIC PRESSURE'], ['GLUCOSE', 'GLYCOSAMINOGLYCANS', 'ONCOTIC PRESSURE'], ['GLUCOSE', 'SMALL MOLECULE', 'ONCOTIC PRESSURE'], ['GLUCOSE', 'EDEMA', 'ONCOTIC PRESSURE'], ['GLUCOSE', 'NATRIURESIS', 'ONCOTIC PRESSURE'], ['GLUCOSE', 'HYPERCHOLESTEROLEMIA', 'ONCOTIC PRESSURE'], ['GLUCOSE', 'PATHOGENESIS', 'ONCOTIC PRESSURE'], ['GLUCOSE', 'HEMODYNAMICS', 'ONCOTIC PRESSURE'], ['GLUCOSE', 'FUNCTIONAL DISORDER', 'ONCOTIC PRESSURE'], ['GLUCOSE', 'CYTOSOL', 'ONCOTIC PRESSURE'], ['GLUCOSE', 'VASCULAR RESISTANCE', 'ONCOTIC PRESSURE'], ['GLUCOSE', 'METHEMOGLOBIN', 'ONCOTIC PRESSURE'], ['GLUCOSE', 'RENAL FUNCTION', 'ONCOTIC PRESSURE'], ['GLUCOSE', 'SOLUTE', 'ONCOTIC PRESSURE'], ['GLUCOSE', 'PLASMA OSMOLALITY', 'ONCOTIC PRESSURE'], ['GLUCOSE', 'TRANSCRIPTION, GENETIC', 'ONCOTIC PRESSURE'], ['GLUCOSE', 'HYPOS', 'ONCOTIC PRESSURE'], ['GLUCOSE', 'ELECTRICAL RESISTANCE', 'ONCOTIC PRESSURE'], ['GLUCOSE', 'PULMONARY EDEMA', 'ONCOTIC PRESSURE'], ['GLUCOSE', 'HUMAN SERUM ALBUMIN', 'ONCOTIC PRESSURE'], ['GLUCOSE', 'EQUILIBRIUM', 'ONCOTIC PRESSURE'], ['GLUCOSE', 'BARESTHESIA', 'ONCOTIC PRESSURE'], ['GLUCOSE', 'PLASMA PROTEINS', 'ONCOTIC PRESSURE'], ['GLUCOSE', 'MEMBRANE TRANSPORT PROTEINS', 'ONCOTIC PRESSURE'], ['GLUCOSE', 'FLUID OVERLOAD', 'ONCOTIC PRESSURE'], ['GLUCOSE', 'OSMOTIC PRESSURE', 'ONCOTIC PRESSURE'], ['GLUCOSE', 'DIASTOLIC DYSFUNCTION', 'ONCOTIC PRESSURE'], ['GLUCOSE', 'SOLID TUMOR', 'ONCOTIC PRESSURE'], ['GLUCOSE', 'NEPHROTIC SYNDROME', 'ONCOTIC PRESSURE'], ['GLUCOSE', 'PLASMIN', 'ONCOTIC PRESSURE'], ['GLUCOSE', 'ENDOPEPTIDASES|ERVK-10', 'ONCOTIC PRESSURE'], ['GLUCOSE', 'ARTERIAL PULSE PRESSURE', 'ONCOTIC PRESSURE'], ['GLUCOSE', 'GLYCOCALYX', 'ONCOTIC PRESSURE'], ['GLUCOSE', 'ENDOTHELIN-1', 'ONCOTIC PRESSURE'], ['GLUCOSE', 'ALBUMIN SOLUTION', 'ONCOTIC PRESSURE'], ['GLUCOSE', 'BLOOD VISCOSITY', 'ONCOTIC PRESSURE'], ['GLUCOSE', 'MICROCIRCULATION', 'ONCOTIC PRESSURE'], ['GLUCOSE', 'POSTOPERATIVE ILEUS', 'ONCOTIC PRESSURE'], ['GLUCOSE', 'HETASTARCH', 'ONCOTIC PRESSURE'], ['GLUCOSE', 'DENSITY', 'ONCOTIC PRESSURE'], ['GLUCOSE', 'DEXTRANS', 'ONCOTIC PRESSURE'], ['GLUCOSE', 'ELECTROLYTE IMBALANCE NOS', 'ONCOTIC PRESSURE'], ['GLUCOSE', 'INTRACRANIAL PRESSURE', 'ONCOTIC PRESSURE']]\n"
     ]
    }
   ],
   "source": [
    "# only if more than 2 concepts are present in the KG\n",
    "if len(key_phrases) < 2:\n",
    "    print(\"Cannot perform this analysis without atleast 2 concepts present in the KG\")\n",
    "else:\n",
    "    # find shortest paths that exist between the concepts\n",
    "    combinations_of_concepts = itertools.combinations(key_phrases, 2)\n",
    "    paths = []\n",
    "    for combination in combinations_of_concepts:\n",
    "        shortest_paths = list(nx.all_shortest_paths(G, source=combination[0], target=combination[1]))\n",
    "        paths.extend(shortest_paths)\n",
    "    if len(paths) == 0:\n",
    "        print(\"No paths exist between the concepts\")\n",
    "    else:\n",
    "        print(\"Paths exist between the concepts\")\n",
    "        print(paths)"
   ]
  },
  {
   "cell_type": "code",
   "execution_count": 97,
   "id": "2b1f4b1e",
   "metadata": {},
   "outputs": [
    {
     "name": "stdout",
     "output_type": "stream",
     "text": [
      "{'A': 82, 'B': 82, 'C': 0, 'D': 0}\n"
     ]
    }
   ],
   "source": [
    "counts_dict_per_option = {\n",
    "    \"A\": 0, \"B\": 0, \"C\": 0, \"D\": 0\n",
    "}\n",
    "optionA = \" \".join([w.upper() for w in medmcqa_data[\"opa\"][1].split(\" \")])\n",
    "optionB = \" \".join([w.upper() for w in medmcqa_data[\"opb\"][1].split(\" \")])\n",
    "optionC = \" \".join([w.upper() for w in medmcqa_data[\"opc\"][1].split(\" \")])\n",
    "optionD = \" \".join([w.upper() for w in medmcqa_data[\"opd\"][1].split(\" \")])\n",
    "for path in paths:\n",
    "    for term in path:\n",
    "        if term in optionA:\n",
    "            counts_dict_per_option[\"A\"] += 1\n",
    "        if term in optionB:\n",
    "            counts_dict_per_option[\"B\"] += 1\n",
    "        if term in optionC:\n",
    "            counts_dict_per_option[\"C\"] += 1\n",
    "        if term in optionD:\n",
    "            counts_dict_per_option[\"D\"] += 1\n",
    "print(counts_dict_per_option)"
   ]
  },
  {
   "cell_type": "code",
   "execution_count": 98,
   "id": "e2b18831",
   "metadata": {},
   "outputs": [
    {
     "data": {
      "text/plain": [
       "'A'"
      ]
     },
     "execution_count": 98,
     "metadata": {},
     "output_type": "execute_result"
    }
   ],
   "source": [
    "max(counts_dict_per_option, key=counts_dict_per_option.get) # answer from KG - B also has same number of terms as A"
   ]
  },
  {
   "cell_type": "markdown",
   "id": "e7966240",
   "metadata": {},
   "source": [
    "**Graph Edit distance**"
   ]
  },
  {
   "cell_type": "code",
   "execution_count": 99,
   "id": "52d30830",
   "metadata": {},
   "outputs": [
    {
     "name": "stdout",
     "output_type": "stream",
     "text": [
      "RESPIRATORY ORGAN\n",
      "AVIAN ENCEPHALOMYELITIS VIRUS ANTIBODY\n",
      "CLEAVAGE AND POLYADENYLATION SPECIFICITY FACTOR, 30-KDA SUBUNIT\n",
      "APICAL RAMUS OF TRUNK OF APICAL SEGMENTAL ARTERY\n",
      "MECHANICAL FRAGMENTATION OF CATARACT WITH EXTRACTION BY POSTERIOR ROUTE\n",
      "OXIDOREDUCTASE ACTIVITY, ACTING ON SINGLE DONORS WITH INCORPORATION OF MOLECULAR OXYGEN\n",
      "DIPTHERIA + TETANUS + PERTUSSIS + POLIOMYELITIS + HAEMOPHILUS INFLUENZAE B VACCINE\n",
      "INSULIN, ISOPHANE, HUMAN 70 UNT/ML / INSULIN, REGULAR, HUMAN 30 UNT/ML INJECTABLE SUSPENSION [HUMAN MIXTARD PENFILL]\n",
      "OXIDOREDUCTASE ACTIVITY, ACTING ON SINGLE DONORS WITH INCORPORATION OF MOLECULAR OXYGEN, INCORPORATION OF TWO ATOMS OF OXYGEN\n",
      "REPAIR OF DOUBLE OUTLET RIGHT VENTRICLE WITH ANASTOMOSIS OF LEFT VENTRICLE TO AORTA VIA VENTRICULAR SEPTAL DEFECT AND DIRECT ANASTOMOSIS OF RIGHT VENTRICLE TO PULMONARY TRUNK\n",
      "26\n"
     ]
    }
   ],
   "source": [
    "# number of terms in each node of G\n",
    "max_words = 1\n",
    "for w in concepts:\n",
    "    if len(w.split(\" \")) > max_words:\n",
    "        max_words = len(w.split(\" \"))\n",
    "        print(w)\n",
    "print(max_words)"
   ]
  },
  {
   "cell_type": "code",
   "execution_count": 100,
   "id": "bdd35fdf",
   "metadata": {},
   "outputs": [
    {
     "name": "stdout",
     "output_type": "stream",
     "text": [
      "['GLUCOSE']\n"
     ]
    }
   ],
   "source": [
    "# Evaluating CoT\n",
    "# candidate_cot_terms = [w.upper() for w in generated_cot.split(\" \")]\n",
    "candidate_cot_terms = [\"glucose\", \"concentration\", \"capillaries\", \"glomerular\", \"filtrate\"]\n",
    "cot_terms = []\n",
    "for candidate in candidate_cot_terms:\n",
    "    if candidate.upper() in concepts:\n",
    "        cot_terms.append(candidate.upper())\n",
    "print(cot_terms)"
   ]
  },
  {
   "cell_type": "code",
   "execution_count": 101,
   "id": "68654661",
   "metadata": {},
   "outputs": [
    {
     "name": "stdout",
     "output_type": "stream",
     "text": [
      "['GLUCOSE']\n",
      "[]\n"
     ]
    }
   ],
   "source": [
    "# create graph chaining these terms in the order in which they occur.\n",
    "cot_graph = nx.DiGraph()\n",
    "cot_graph.add_nodes_from(cot_terms)\n",
    "for c in cot_terms:\n",
    "    if cot_terms.index(c) < len(cot_terms) - 1:\n",
    "        cot_graph.add_edge(c, cot_terms[cot_terms.index(c) + 1])\n",
    "print(list(cot_graph.nodes()))\n",
    "print(list(cot_graph.edges()))"
   ]
  },
  {
   "cell_type": "code",
   "execution_count": 102,
   "id": "836fac47",
   "metadata": {},
   "outputs": [
    {
     "name": "stdout",
     "output_type": "stream",
     "text": [
      "[4.0, 4.0, 4.0, 4.0, 4.0, 4.0, 4.0, 4.0, 4.0, 4.0, 4.0, 4.0, 4.0, 4.0, 4.0, 4.0, 4.0, 4.0, 4.0, 4.0, 4.0, 4.0, 4.0, 4.0, 4.0, 4.0, 4.0, 4.0, 4.0, 4.0, 4.0, 4.0, 4.0, 4.0, 4.0, 4.0, 4.0, 4.0, 4.0, 4.0, 4.0, 4.0, 4.0, 4.0, 4.0, 4.0, 4.0, 4.0, 4.0, 4.0, 4.0, 4.0, 4.0, 4.0, 4.0, 4.0, 4.0, 4.0, 4.0, 4.0, 4.0, 4.0, 4.0, 4.0, 4.0, 4.0, 4.0, 4.0, 4.0, 4.0, 4.0, 4.0, 4.0, 4.0, 4.0, 4.0, 4.0, 4.0, 4.0, 4.0, 4.0, 4.0]\n"
     ]
    }
   ],
   "source": [
    "# graph edit distance\n",
    "gedistances = []\n",
    "for path in paths:\n",
    "    path_graph = nx.DiGraph()\n",
    "    path_graph.add_nodes_from(path)\n",
    "    for c in path:\n",
    "        if path.index(c) < len(path) - 1:\n",
    "            path_graph.add_edge(c, path[path.index(c) + 1])\n",
    "    gedistances.append(nx.graph_edit_distance(path_graph, cot_graph))\n",
    "print(gedistances)"
   ]
  },
  {
   "cell_type": "code",
   "execution_count": 103,
   "id": "5eeb4f53",
   "metadata": {},
   "outputs": [
    {
     "name": "stdout",
     "output_type": "stream",
     "text": [
      "4.0\n"
     ]
    }
   ],
   "source": [
    "print(max(gedistances))"
   ]
  },
  {
   "cell_type": "markdown",
   "id": "af907df4",
   "metadata": {},
   "source": [
    "**Comparison of CoT embedding and paths from KG**\n",
    "\n",
    "Combine the triples from KG paths and compare the cosine similarity of resulting ClinicalBERT embedding against generated CoT embedding."
   ]
  },
  {
   "cell_type": "code",
   "execution_count": 104,
   "id": "fa977a89",
   "metadata": {},
   "outputs": [],
   "source": [
    "from transformers import AutoTokenizer, AutoModel\n",
    "clinicalBert_tokenizer = AutoTokenizer.from_pretrained(\"medicalai/ClinicalBERT\")\n",
    "clinicalBert_model = AutoModel.from_pretrained(\"medicalai/ClinicalBERT\")"
   ]
  },
  {
   "cell_type": "code",
   "execution_count": 105,
   "id": "7dfefcaa",
   "metadata": {},
   "outputs": [
    {
     "name": "stdout",
     "output_type": "stream",
     "text": [
      "torch.Size([82, 768])\n",
      "82\n"
     ]
    }
   ],
   "source": [
    "clinicalbert_path_embeddings = []\n",
    "for path in paths:\n",
    "    # print(path)\n",
    "    inputs = clinicalBert_tokenizer(\" \".join(path), return_tensors=\"pt\")\n",
    "    outputs = clinicalBert_model(**inputs)\n",
    "    clinicalbert_path_embeddings.append(outputs.last_hidden_state.mean(dim=1))\n",
    "print(torch.cat(clinicalbert_path_embeddings, dim=0).shape)\n",
    "print(len(paths))\n"
   ]
  },
  {
   "cell_type": "code",
   "execution_count": 106,
   "id": "b3cf4e58",
   "metadata": {},
   "outputs": [
    {
     "data": {
      "text/plain": [
       "torch.Size([1, 768])"
      ]
     },
     "execution_count": 106,
     "metadata": {},
     "output_type": "execute_result"
    }
   ],
   "source": [
    "generated_cot_clinicalbert_embedding = clinicalBert_model(**clinicalBert_tokenizer(generated_cot, return_tensors=\"pt\")).last_hidden_state.mean(dim=1)\n",
    "generated_cot_clinicalbert_embedding.shape"
   ]
  },
  {
   "cell_type": "code",
   "execution_count": 107,
   "id": "38cc2979",
   "metadata": {},
   "outputs": [
    {
     "name": "stdout",
     "output_type": "stream",
     "text": [
      "0.7254173755645752\n"
     ]
    }
   ],
   "source": [
    "similarity_cot_graph_paths = []\n",
    "for i in clinicalbert_path_embeddings:\n",
    "    cosine_sim = (torch.nn.functional.cosine_similarity(generated_cot_clinicalbert_embedding, i))\n",
    "    similarity_cot_graph_paths.append(cosine_sim.item())\n",
    "print(max(similarity_cot_graph_paths))"
   ]
  },
  {
   "cell_type": "markdown",
   "id": "3cba0bed",
   "metadata": {},
   "source": [
    "**BLEU/Rouge**"
   ]
  },
  {
   "cell_type": "code",
   "execution_count": 108,
   "id": "500fb7ac",
   "metadata": {},
   "outputs": [
    {
     "name": "stdout",
     "output_type": "stream",
     "text": [
      "{'bleu': 0.007737618711910635, 'precisions': [0.7, 0.3157894736842105, 0.2222222222222222, 0.058823529411764705], 'brevity_penalty': 0.033373269960326066, 'length_ratio': 0.22727272727272727, 'translation_length': 20, 'reference_length': 88}\n",
      "{'rouge1': 0.30927835051546393, 'rouge2': 0.12631578947368421, 'rougeL': 0.2268041237113402, 'rougeLsum': 0.2268041237113402}\n"
     ]
    }
   ],
   "source": [
    "bleu = bleu_score.compute(predictions=[generated_cot], references=[cot_gt])\n",
    "rouge = rouge_score.compute(predictions=[generated_cot], references=[cot_gt])\n",
    "print(bleu)\n",
    "print(rouge)"
   ]
  },
  {
   "cell_type": "markdown",
   "id": "64cfcb1a",
   "metadata": {},
   "source": [
    "#### Zero Shot Prompt with CoT prompt\n",
    "Prompt:\n",
    "```\n",
    "Question: Which of the following is not true about glomerular capillaries?\n",
    "Option A: The oncotic pressure of the fluid leaving the capillaries is less than that of fluid entering it\n",
    "Option B: Glucose concentration in the capillaries is the same as that in glomerular filtrate\n",
    "Option C: Constriction of afferent aeriole decreases the blood flow to the glomerulas\n",
    "Option D: Hematocrit of the fluid leaving the capillaries is less than that of the fluid entering it\n",
    "Answer: Let's think step by step\n",
    "```\n",
    "\n",
    "Answer:\n",
    "```\n",
    "Let's analyze each option:\n",
    "\n",
    "Option A: The oncotic pressure of the fluid leaving the capillaries is less than that of fluid entering it.\n",
    "This statement is true. The oncotic pressure in the glomerular capillaries is higher than in the Bowman's capsule, which causes fluid to be filtered out of the capillaries.\n",
    "\n",
    "Option B: Glucose concentration in the capillaries is the same as that in glomerular filtrate.\n",
    "This statement is not true. Glucose is actively reabsorbed in the proximal tubule, so the concentration of glucose in the capillaries is lower than in the glomerular filtrate.\n",
    "\n",
    "Option C: Constriction of afferent arteriole decreases the blood flow to the glomerulus.\n",
    "This statement is true. Constriction of the afferent arteriole reduces the blood flow entering the glomerulus, decreasing the glomerular filtration rate.\n",
    "\n",
    "Option D: Hematocrit of the fluid leaving the capillaries is less than that of the fluid entering it.\n",
    "This statement is true. The glomerular capillaries filter out smaller molecules and fluid, while leaving behind larger molecules and formed elements, such as red blood cells. This results in a lower hematocrit in the fluid leaving the capillaries compared to the entering fluid.\n",
    "\n",
    "Therefore, the answer is Option B: Glucose concentration in the capillaries is the same as that in glomerular filtrate.\n",
    "```"
   ]
  },
  {
   "cell_type": "markdown",
   "id": "40adcf2a",
   "metadata": {},
   "source": [
    "**Sentence BERT comparison**"
   ]
  },
  {
   "cell_type": "code",
   "execution_count": 109,
   "id": "460c2bb5",
   "metadata": {},
   "outputs": [],
   "source": [
    "generated_cot = \"\"\"\n",
    "Let's analyze each option:\n",
    "\n",
    "Option A: The oncotic pressure of the fluid leaving the capillaries is less than that of fluid entering it.\n",
    "This statement is true. The oncotic pressure in the glomerular capillaries is higher than in the Bowman's capsule, which causes fluid to be filtered out of the capillaries.\n",
    "\n",
    "Option B: Glucose concentration in the capillaries is the same as that in glomerular filtrate.\n",
    "This statement is not true. Glucose is actively reabsorbed in the proximal tubule, so the concentration of glucose in the capillaries is lower than in the glomerular filtrate.\n",
    "\n",
    "Option C: Constriction of afferent arteriole decreases the blood flow to the glomerulus.\n",
    "This statement is true. Constriction of the afferent arteriole reduces the blood flow entering the glomerulus, decreasing the glomerular filtration rate.\n",
    "\n",
    "Option D: Hematocrit of the fluid leaving the capillaries is less than that of the fluid entering it.\n",
    "This statement is true. The glomerular capillaries filter out smaller molecules and fluid, while leaving behind larger molecules and formed elements, such as red blood cells. This results in a lower hematocrit in the fluid leaving the capillaries compared to the entering fluid.\n",
    "\n",
    "Therefore, the answer is Option B: Glucose concentration in the capillaries is the same as that in glomerular filtrate.\n",
    "\"\"\"\n",
    "cot_gt = \"\"\"Ans-a. The oncotic pressure of the fluid leaving the capillaries is less than that of fluid entering it Guyton I LpJ1 4-.;anong 23/e p653-6_)Glomerular oncotic pressure (due to plasma protein content) is higher than that of filtrate oncotic pressure in Bowman's capsule\"Since glucose is freely filtered and the fluid in the Bowman's capsule is isotonic with plasma, the concentration of glucose in the filtrate is the same as in the capillaries\"\"\"\n",
    "sentences_to_compare = [\n",
    "    generated_cot,\n",
    "    cot_gt\n",
    "]\n",
    "sentence_embeddings = model.encode(sentences_to_compare)\n"
   ]
  },
  {
   "cell_type": "code",
   "execution_count": 110,
   "id": "2dbedf3a",
   "metadata": {},
   "outputs": [
    {
     "data": {
      "text/plain": [
       "array([[0.80747664]], dtype=float32)"
      ]
     },
     "execution_count": 110,
     "metadata": {},
     "output_type": "execute_result"
    }
   ],
   "source": [
    "from sklearn.metrics.pairwise import cosine_similarity\n",
    "cosine_similarity(sentence_embeddings[[0]], sentence_embeddings[[1]])"
   ]
  },
  {
   "cell_type": "markdown",
   "id": "de151ac3",
   "metadata": {},
   "source": [
    "**GPT-4 comparison**\n",
    "Prompt:\n",
    "```\n",
    "How similar are the following sentences? Rate the similarity using a score between 0 and 1 with a reasoning for the same.\n",
    "Sentence A: Let's analyze each option:Option A: The oncotic pressure of the fluid leaving the capillaries is less than that of fluid entering it.This statement is true. The oncotic pressure in the glomerular capillaries is higher than in the Bowman's capsule, which causes fluid to be filtered out of the capillaries.Option B: Glucose concentration in the capillaries is the same as that in glomerular filtrate.This statement is not true. Glucose is actively reabsorbed in the proximal tubule, so the concentration of glucose in the capillaries is lower than in the glomerular filtrate.Option C: Constriction of afferent arteriole decreases the blood flow to the glomerulus.This statement is true. Constriction of the afferent arteriole reduces the blood flow entering the glomerulus, decreasing the glomerular filtration rate.Option D: Hematocrit of the fluid leaving the capillaries is less than that of the fluid entering it.This statement is true. The glomerular capillaries filter out smaller molecules and fluid, while leaving behind larger molecules and formed elements, such as red blood cells. This results in a lower hematocrit in the fluid leaving the capillaries compared to the entering fluid.Therefore, the answer is Option B: Glucose concentration in the capillaries is the same as that in glomerular filtrate.\n",
    "Sentence B: Ans-a. The oncotic pressure of the fluid leaving the capillaries is less than that of fluid entering it Guyton I LpJ1 4-.;anong 23/e p653-6_)Glomerular oncotic pressure (due to plasma protein content) is higher than that of filtrate oncotic pressure in Bowman's capsule\"Since glucose is freely filtered and the fluid in the Bowman's capsule is isotonic with plasma, the concentration of glucose in the filtrate is the same as in the capillaries\n",
    "```\n",
    "Response\n",
    "```\n",
    "The similarity between Sentence A and Sentence B can be considered moderate to high, and I would rate it around 0.7 to 0.8.\n",
    "\n",
    "Both sentences are discussing physiological concepts related to the capillaries and glomerular filtrate, and there is significant overlap in the content. Here's the reasoning for the similarity score:\n",
    "\n",
    "1. Both sentences address the concept of oncotic pressure in the capillaries and its comparison with the fluid in Bowman's capsule, agreeing that the oncotic pressure is higher in the glomerular capillaries.\n",
    "\n",
    "2. Both sentences reference the concentration of glucose in the capillaries and the glomerular filtrate. Sentence A states that the glucose concentration in the capillaries is lower than in the glomerular filtrate due to reabsorption in the proximal tubule, while Sentence B asserts that the concentration is the same because glucose is freely filtered and the filtrate is isotonic. This is a contradiction, but it appears that Sentence A contains an error in the conclusion, as the supporting explanation acknowledges the isotonic nature of the filtrate with plasma, which implies equality in glucose concentration.\n",
    "\n",
    "3. Sentence A provides additional information and an error in its conclusion, which is not present in Sentence B. Sentence A also includes information about the effects of afferent arteriole constriction and hematocrit changes, which are not mentioned in Sentence B.\n",
    "\n",
    "The main reason the score is not closer to 1 is due to the contradiction in Sentence A's conclusion about glucose concentration, which seems to be an error as it contradicts the explanation provided in the same sentence. If we consider the explanatory parts of Sentence A that align with Sentence B, the similarity is quite high. However, the additional information and the erroneous conclusion in Sentence A affect the overall similarity score.\n",
    "```"
   ]
  },
  {
   "cell_type": "markdown",
   "id": "ef86cd20",
   "metadata": {},
   "source": [
    "**Graph Edit distance**"
   ]
  },
  {
   "cell_type": "code",
   "execution_count": 111,
   "id": "ed82010e",
   "metadata": {},
   "outputs": [
    {
     "name": "stdout",
     "output_type": "stream",
     "text": [
      "['GLUCOSE', 'ONCOTIC PRESSURE', 'BLOOD FLOW']\n"
     ]
    }
   ],
   "source": [
    "# Evaluating CoT\n",
    "# candidate_cot_terms = [w.upper() for w in generated_cot.split(\" \")]\n",
    "candidate_cot_terms = [\"glucose\", \"concentration\", \"capillaries\", \"glomerular\", \"filtrate\", \"oncotic pressure\", \"afferent arteriole\", \"blood flow\", \"glomerulus\", \"hematocrit\", \"fluid\", \"Bowman's capsule\", \"proximal tubule\"]\n",
    "cot_terms = []\n",
    "for candidate in candidate_cot_terms:\n",
    "    if candidate.upper() in concepts:\n",
    "        cot_terms.append(candidate.upper())\n",
    "print(cot_terms)"
   ]
  },
  {
   "cell_type": "code",
   "execution_count": 112,
   "id": "6c86530c",
   "metadata": {},
   "outputs": [
    {
     "name": "stdout",
     "output_type": "stream",
     "text": [
      "['GLUCOSE', 'ONCOTIC PRESSURE', 'BLOOD FLOW']\n",
      "[('GLUCOSE', 'ONCOTIC PRESSURE'), ('ONCOTIC PRESSURE', 'BLOOD FLOW')]\n"
     ]
    }
   ],
   "source": [
    "# create graph chaining these terms in the order in which they occur.\n",
    "cot_graph = nx.DiGraph()\n",
    "cot_graph.add_nodes_from(cot_terms)\n",
    "for c in cot_terms:\n",
    "    if cot_terms.index(c) < len(cot_terms) - 1:\n",
    "        cot_graph.add_edge(c, cot_terms[cot_terms.index(c) + 1])\n",
    "print(list(cot_graph.nodes()))\n",
    "print(list(cot_graph.edges()))"
   ]
  },
  {
   "cell_type": "code",
   "execution_count": 113,
   "id": "0bd57c72",
   "metadata": {},
   "outputs": [
    {
     "name": "stdout",
     "output_type": "stream",
     "text": [
      "[0.0, 0.0, 0.0, 0.0, 0.0, 0.0, 0.0, 0.0, 0.0, 0.0, 0.0, 0.0, 0.0, 0.0, 0.0, 0.0, 0.0, 0.0, 0.0, 0.0, 0.0, 0.0, 0.0, 0.0, 0.0, 0.0, 0.0, 0.0, 0.0, 0.0, 0.0, 0.0, 0.0, 0.0, 0.0, 0.0, 0.0, 0.0, 0.0, 0.0, 0.0, 0.0, 0.0, 0.0, 0.0, 0.0, 0.0, 0.0, 0.0, 0.0, 0.0, 0.0, 0.0, 0.0, 0.0, 0.0, 0.0, 0.0, 0.0, 0.0, 0.0, 0.0, 0.0, 0.0, 0.0, 0.0, 0.0, 0.0, 0.0, 0.0, 0.0, 0.0, 0.0, 0.0, 0.0, 0.0, 0.0, 0.0, 0.0, 0.0, 0.0, 0.0]\n"
     ]
    }
   ],
   "source": [
    "# graph edit distance\n",
    "gedistances = []\n",
    "for path in paths:\n",
    "    path_graph = nx.DiGraph()\n",
    "    path_graph.add_nodes_from(path)\n",
    "    for c in path:\n",
    "        if path.index(c) < len(path) - 1:\n",
    "            path_graph.add_edge(c, path[path.index(c) + 1])\n",
    "    gedistances.append(nx.graph_edit_distance(path_graph, cot_graph))\n",
    "print(gedistances)"
   ]
  },
  {
   "cell_type": "code",
   "execution_count": 114,
   "id": "c98fe57f",
   "metadata": {},
   "outputs": [
    {
     "name": "stdout",
     "output_type": "stream",
     "text": [
      "0.0\n"
     ]
    }
   ],
   "source": [
    "print(max(gedistances))"
   ]
  },
  {
   "cell_type": "markdown",
   "id": "140ae3e7",
   "metadata": {},
   "source": [
    "**Comparison of CoT embedding and paths from KG**\n",
    "\n",
    "Combine the triples from KG paths and compare the cosine similarity of resulting ClinicalBERT embedding against generated CoT embedding."
   ]
  },
  {
   "cell_type": "code",
   "execution_count": 115,
   "id": "17ec3db2",
   "metadata": {},
   "outputs": [],
   "source": [
    "from transformers import AutoTokenizer, AutoModel\n",
    "clinicalBert_tokenizer = AutoTokenizer.from_pretrained(\"medicalai/ClinicalBERT\")\n",
    "clinicalBert_model = AutoModel.from_pretrained(\"medicalai/ClinicalBERT\")"
   ]
  },
  {
   "cell_type": "code",
   "execution_count": 116,
   "id": "3e2e1fec",
   "metadata": {},
   "outputs": [
    {
     "name": "stdout",
     "output_type": "stream",
     "text": [
      "torch.Size([82, 768])\n",
      "82\n"
     ]
    }
   ],
   "source": [
    "clinicalbert_path_embeddings = []\n",
    "for path in paths:\n",
    "    # print(path)\n",
    "    inputs = clinicalBert_tokenizer(\" \".join(path), return_tensors=\"pt\")\n",
    "    outputs = clinicalBert_model(**inputs)\n",
    "    clinicalbert_path_embeddings.append(outputs.last_hidden_state.mean(dim=1))\n",
    "print(torch.cat(clinicalbert_path_embeddings, dim=0).shape)\n",
    "print(len(paths))\n"
   ]
  },
  {
   "cell_type": "code",
   "execution_count": 117,
   "id": "22971a4a",
   "metadata": {},
   "outputs": [
    {
     "data": {
      "text/plain": [
       "torch.Size([1, 768])"
      ]
     },
     "execution_count": 117,
     "metadata": {},
     "output_type": "execute_result"
    }
   ],
   "source": [
    "generated_cot_clinicalbert_embedding = clinicalBert_model(**clinicalBert_tokenizer(generated_cot, return_tensors=\"pt\")).last_hidden_state.mean(dim=1)\n",
    "generated_cot_clinicalbert_embedding.shape"
   ]
  },
  {
   "cell_type": "code",
   "execution_count": 118,
   "id": "26ad82b9",
   "metadata": {},
   "outputs": [
    {
     "name": "stdout",
     "output_type": "stream",
     "text": [
      "0.615809977054596\n"
     ]
    }
   ],
   "source": [
    "similarity_cot_graph_paths = []\n",
    "for i in clinicalbert_path_embeddings:\n",
    "    cosine_sim = (torch.nn.functional.cosine_similarity(generated_cot_clinicalbert_embedding, i))\n",
    "    similarity_cot_graph_paths.append(cosine_sim.item())\n",
    "print(max(similarity_cot_graph_paths))"
   ]
  },
  {
   "cell_type": "markdown",
   "id": "c54cc8cd",
   "metadata": {},
   "source": [
    "**BLEU/Rouge**"
   ]
  },
  {
   "cell_type": "code",
   "execution_count": 119,
   "id": "3657237e",
   "metadata": {},
   "outputs": [
    {
     "name": "stdout",
     "output_type": "stream",
     "text": [
      "{'bleu': 0.14082294100265094, 'precisions': [0.23076923076923078, 0.1630901287553648, 0.1206896551724138, 0.08658008658008658], 'brevity_penalty': 1.0, 'length_ratio': 2.659090909090909, 'translation_length': 234, 'reference_length': 88}\n",
      "{'rouge1': 0.3875432525951557, 'rouge2': 0.27177700348432055, 'rougeL': 0.31141868512110726, 'rougeLsum': 0.31833910034602075}\n"
     ]
    }
   ],
   "source": [
    "bleu = bleu_score.compute(predictions=[generated_cot], references=[cot_gt])\n",
    "rouge = rouge_score.compute(predictions=[generated_cot], references=[cot_gt])\n",
    "print(bleu)\n",
    "print(rouge)"
   ]
  },
  {
   "cell_type": "markdown",
   "id": "4ab1f85e",
   "metadata": {},
   "source": [
    "#### Zero shot CoT with template\n",
    "Prompt:\n",
    "```\n",
    "1. <step1>\n",
    "2. <step2>\n",
    "...\n",
    "So the answer is (<answer>).\n",
    "Make sure that the answer uses the above format and answers the question step by step.\n",
    "Question: Which of the following is not true about glomerular capillaries?\n",
    "Option A: The oncotic pressure of the fluid leaving the capillaries is less than that of fluid entering it\n",
    "Option B: Glucose concentration in the capillaries is the same as that in glomerular filtrate\n",
    "Option C: Constriction of afferent aeriole decreases the blood flow to the glomerulas\n",
    "Option D: Hematocrit of the fluid leaving the capillaries is less than that of the fluid entering it\n",
    "Answer: \n",
    "\n",
    "```\n",
    "\n",
    "Answer:\n",
    "```\n",
    "Step 1: Evaluate Option A: The oncotic pressure of the fluid leaving the capillaries is less than that of fluid entering it.\n",
    "This statement is true. The oncotic pressure in the glomerular capillaries is higher than in the Bowman's capsule, which causes fluid to be filtered out of the capillaries.\n",
    "\n",
    "Step 2: Evaluate Option B: Glucose concentration in the capillaries is the same as that in glomerular filtrate.\n",
    "This statement is not true. Glucose is actively reabsorbed in the proximal tubule, so the concentration of glucose in the capillaries is lower than in the glomerular filtrate.\n",
    "\n",
    "Step 3: Evaluate Option C: Constriction of afferent arteriole decreases the blood flow to the glomerulus.\n",
    "This statement is true. Constriction of the afferent arteriole reduces the blood flow entering the glomerulus, decreasing the glomerular filtration rate.\n",
    "\n",
    "Step 4: Evaluate Option D: Hematocrit of the fluid leaving the capillaries is less than that of the fluid entering it.\n",
    "This statement is true. The glomerular capillaries filter out smaller molecules and fluid, while leaving behind larger molecules and formed elements, such as red blood cells. This results in a lower hematocrit in the fluid leaving the capillaries compared to the entering fluid.\n",
    "\n",
    "Therefore, the answer is Option B: Glucose concentration in the capillaries is the same as that in glomerular filtrate.\n",
    "```"
   ]
  },
  {
   "cell_type": "markdown",
   "id": "8af73e6b",
   "metadata": {},
   "source": [
    "**Sentence BERT comparison**"
   ]
  },
  {
   "cell_type": "code",
   "execution_count": 120,
   "id": "8a363ccf",
   "metadata": {},
   "outputs": [],
   "source": [
    "generated_cot = \"\"\"\n",
    "Step 1: Evaluate Option A: The oncotic pressure of the fluid leaving the capillaries is less than that of fluid entering it.\n",
    "This statement is true. The oncotic pressure in the glomerular capillaries is higher than in the Bowman's capsule, which causes fluid to be filtered out of the capillaries.\n",
    "\n",
    "Step 2: Evaluate Option B: Glucose concentration in the capillaries is the same as that in glomerular filtrate.\n",
    "This statement is not true. Glucose is actively reabsorbed in the proximal tubule, so the concentration of glucose in the capillaries is lower than in the glomerular filtrate.\n",
    "\n",
    "Step 3: Evaluate Option C: Constriction of afferent arteriole decreases the blood flow to the glomerulus.\n",
    "This statement is true. Constriction of the afferent arteriole reduces the blood flow entering the glomerulus, decreasing the glomerular filtration rate.\n",
    "\n",
    "Step 4: Evaluate Option D: Hematocrit of the fluid leaving the capillaries is less than that of the fluid entering it.\n",
    "This statement is true. The glomerular capillaries filter out smaller molecules and fluid, while leaving behind larger molecules and formed elements, such as red blood cells. This results in a lower hematocrit in the fluid leaving the capillaries compared to the entering fluid.\n",
    "\n",
    "Therefore, the answer is Option B: Glucose concentration in the capillaries is the same as that in glomerular filtrate.\n",
    "\"\"\"\n",
    "cot_gt = \"\"\"Ans-a. The oncotic pressure of the fluid leaving the capillaries is less than that of fluid entering it Guyton I LpJ1 4-.;anong 23/e p653-6_)Glomerular oncotic pressure (due to plasma protein content) is higher than that of filtrate oncotic pressure in Bowman's capsule\"Since glucose is freely filtered and the fluid in the Bowman's capsule is isotonic with plasma, the concentration of glucose in the filtrate is the same as in the capillaries\"\"\"\n",
    "sentences_to_compare = [\n",
    "    generated_cot,\n",
    "    cot_gt\n",
    "]\n",
    "sentence_embeddings = model.encode(sentences_to_compare)\n"
   ]
  },
  {
   "cell_type": "code",
   "execution_count": 121,
   "id": "a13f497c",
   "metadata": {},
   "outputs": [
    {
     "data": {
      "text/plain": [
       "array([[0.82377636]], dtype=float32)"
      ]
     },
     "execution_count": 121,
     "metadata": {},
     "output_type": "execute_result"
    }
   ],
   "source": [
    "from sklearn.metrics.pairwise import cosine_similarity\n",
    "cosine_similarity(sentence_embeddings[[0]], sentence_embeddings[[1]])"
   ]
  },
  {
   "cell_type": "markdown",
   "id": "6762b805",
   "metadata": {},
   "source": [
    "**GPT-4 comparison**\n",
    "Prompt\n",
    "```\n",
    "How similar are the following sentences? Rate the similarity using a score between 0 and 1 with a reasoning for the same.\n",
    "Sentence A: Step 1: Evaluate Option A: The oncotic pressure of the fluid leaving the capillaries is less than that of fluid entering it.This statement is true. The oncotic pressure in the glomerular capillaries is higher than in the Bowman's capsule, which causes fluid to be filtered out of the capillaries.Step 2: Evaluate Option B: Glucose concentration in the capillaries is the same as that in glomerular filtrate.This statement is not true. Glucose is actively reabsorbed in the proximal tubule, so the concentration of glucose in the capillaries is lower than in the glomerular filtrate.Step 3: Evaluate Option C: Constriction of afferent arteriole decreases the blood flow to the glomerulus.This statement is true. Constriction of the afferent arteriole reduces the blood flow entering the glomerulus, decreasing the glomerular filtration rate.Step 4: Evaluate Option D: Hematocrit of the fluid leaving the capillaries is less than that of the fluid entering it.This statement is true. The glomerular capillaries filter out smaller molecules and fluid, while leaving behind larger molecules and formed elements, such as red blood cells. This results in a lower hematocrit in the fluid leaving the capillaries compared to the entering fluid.Therefore, the answer is Option B: Glucose concentration in the capillaries is the same as that in glomerular filtrate.\n",
    "Sentence B: Ans-a. The oncotic pressure of the fluid leaving the capillaries is less than that of fluid entering it Guyton I LpJ1 4-.;anong 23/e p653-6_)Glomerular oncotic pressure (due to plasma protein content) is higher than that of filtrate oncotic pressure in Bowman's capsule\"Since glucose is freely filtered and the fluid in the Bowman's capsule is isotonic with plasma, the concentration of glucose in the filtrate is the same as in the capillaries\n",
    "```\n",
    "Response:\n",
    "```\n",
    "The similarity between Sentence A and Sentence B is moderate to high, and I would rate it around 0.7 to 0.8. Both sentences discuss various physiological factors related to the glomerular filtration process in the kidneys, and there is significant overlap in concepts being explained. However, there is a crucial contradiction between the two sentences regarding glucose concentration.\n",
    "\n",
    "Similar aspects:\n",
    "1. Both sentences agree that the oncotic pressure of the fluid leaving the capillaries is less than that of fluid entering them, and that the oncotic pressure in the glomerular capillaries is higher than in Bowman's capsule.\n",
    "\n",
    "2. Both sentences discuss the process of filtration in the kidneys, specifically mentioning how the properties of fluid change as it moves from the capillaries into Bowman's capsule.\n",
    "\n",
    "Differences:\n",
    "1. Sentence A incorrectly concludes that glucose concentration in the capillaries is lower than in the glomerular filtrate due to active reabsorption in the proximal tubule. In contrast, Sentence B correctly states that glucose is freely filtered and that the concentration is the same in the filtrate as in the capillaries due to isotonicity.\n",
    "\n",
    "2. Sentence A provides a broader evaluation, including additional options (C and D) regarding afferent arteriole constriction and hematocrit changes, which are not present in Sentence B.\n",
    "\n",
    "The contradiction in Sentence A regarding glucose concentration is likely an error, as the explanation within the sentence itself (that glucose is actively reabsorbed in the proximal tubule) does not logically support the conclusion that the concentration in the capillaries would be lower than in the glomerular filtrate initially. The rest of Sentence A aligns well with the content of Sentence B, hence the high similarity score. If not for the error in the conclusion of Sentence A, the similarity could be rated even higher.\n",
    "```"
   ]
  },
  {
   "cell_type": "markdown",
   "id": "6e24e867",
   "metadata": {},
   "source": [
    "**Graph Edit distance**"
   ]
  },
  {
   "cell_type": "code",
   "execution_count": 122,
   "id": "648056a2",
   "metadata": {},
   "outputs": [
    {
     "name": "stdout",
     "output_type": "stream",
     "text": [
      "['GLUCOSE', 'ONCOTIC PRESSURE', 'BLOOD FLOW']\n"
     ]
    }
   ],
   "source": [
    "# Evaluating CoT\n",
    "# candidate_cot_terms = [w.upper() for w in generated_cot.split(\" \")]\n",
    "candidate_cot_terms = [\"glucose\", \"concentration\", \"capillaries\", \"glomerular\", \"filtrate\", \"oncotic pressure\", \"afferent arteriole\", \"blood flow\", \"glomerulus\", \"hematocrit\", \"fluid\", \"Bowman's capsule\", \"proximal tubule\", \"red blood cells\"]\n",
    "cot_terms = []\n",
    "for candidate in candidate_cot_terms:\n",
    "    if candidate.upper() in concepts:\n",
    "        cot_terms.append(candidate.upper())\n",
    "print(cot_terms)"
   ]
  },
  {
   "cell_type": "code",
   "execution_count": 123,
   "id": "cc20c5bf",
   "metadata": {},
   "outputs": [
    {
     "name": "stdout",
     "output_type": "stream",
     "text": [
      "['GLUCOSE', 'ONCOTIC PRESSURE', 'BLOOD FLOW']\n",
      "[('GLUCOSE', 'ONCOTIC PRESSURE'), ('ONCOTIC PRESSURE', 'BLOOD FLOW')]\n"
     ]
    }
   ],
   "source": [
    "# create graph chaining these terms in the order in which they occur.\n",
    "cot_graph = nx.DiGraph()\n",
    "cot_graph.add_nodes_from(cot_terms)\n",
    "for c in cot_terms:\n",
    "    if cot_terms.index(c) < len(cot_terms) - 1:\n",
    "        cot_graph.add_edge(c, cot_terms[cot_terms.index(c) + 1])\n",
    "print(list(cot_graph.nodes()))\n",
    "print(list(cot_graph.edges()))"
   ]
  },
  {
   "cell_type": "code",
   "execution_count": 124,
   "id": "62b0bbdd",
   "metadata": {},
   "outputs": [
    {
     "name": "stdout",
     "output_type": "stream",
     "text": [
      "[0.0, 0.0, 0.0, 0.0, 0.0, 0.0, 0.0, 0.0, 0.0, 0.0, 0.0, 0.0, 0.0, 0.0, 0.0, 0.0, 0.0, 0.0, 0.0, 0.0, 0.0, 0.0, 0.0, 0.0, 0.0, 0.0, 0.0, 0.0, 0.0, 0.0, 0.0, 0.0, 0.0, 0.0, 0.0, 0.0, 0.0, 0.0, 0.0, 0.0, 0.0, 0.0, 0.0, 0.0, 0.0, 0.0, 0.0, 0.0, 0.0, 0.0, 0.0, 0.0, 0.0, 0.0, 0.0, 0.0, 0.0, 0.0, 0.0, 0.0, 0.0, 0.0, 0.0, 0.0, 0.0, 0.0, 0.0, 0.0, 0.0, 0.0, 0.0, 0.0, 0.0, 0.0, 0.0, 0.0, 0.0, 0.0, 0.0, 0.0, 0.0, 0.0]\n"
     ]
    }
   ],
   "source": [
    "# graph edit distance\n",
    "gedistances = []\n",
    "for path in paths:\n",
    "    path_graph = nx.DiGraph()\n",
    "    path_graph.add_nodes_from(path)\n",
    "    for c in path:\n",
    "        if path.index(c) < len(path) - 1:\n",
    "            path_graph.add_edge(c, path[path.index(c) + 1])\n",
    "    gedistances.append(nx.graph_edit_distance(path_graph, cot_graph))\n",
    "print(gedistances)"
   ]
  },
  {
   "cell_type": "code",
   "execution_count": 125,
   "id": "0a35d61a",
   "metadata": {},
   "outputs": [
    {
     "name": "stdout",
     "output_type": "stream",
     "text": [
      "0.0\n"
     ]
    }
   ],
   "source": [
    "print(max(gedistances))"
   ]
  },
  {
   "cell_type": "markdown",
   "id": "23d4a7ee",
   "metadata": {},
   "source": [
    "**Comparison of CoT embedding and paths from KG**\n",
    "\n",
    "Combine the triples from KG paths and compare the cosine similarity of resulting ClinicalBERT embedding against generated CoT embedding."
   ]
  },
  {
   "cell_type": "code",
   "execution_count": 126,
   "id": "8758206b",
   "metadata": {},
   "outputs": [],
   "source": [
    "from transformers import AutoTokenizer, AutoModel\n",
    "clinicalBert_tokenizer = AutoTokenizer.from_pretrained(\"medicalai/ClinicalBERT\")\n",
    "clinicalBert_model = AutoModel.from_pretrained(\"medicalai/ClinicalBERT\")"
   ]
  },
  {
   "cell_type": "code",
   "execution_count": 127,
   "id": "fc48b8b9",
   "metadata": {},
   "outputs": [
    {
     "name": "stdout",
     "output_type": "stream",
     "text": [
      "torch.Size([82, 768])\n",
      "82\n"
     ]
    }
   ],
   "source": [
    "clinicalbert_path_embeddings = []\n",
    "for path in paths:\n",
    "    # print(path)\n",
    "    inputs = clinicalBert_tokenizer(\" \".join(path), return_tensors=\"pt\")\n",
    "    outputs = clinicalBert_model(**inputs)\n",
    "    clinicalbert_path_embeddings.append(outputs.last_hidden_state.mean(dim=1))\n",
    "print(torch.cat(clinicalbert_path_embeddings, dim=0).shape)\n",
    "print(len(paths))\n"
   ]
  },
  {
   "cell_type": "code",
   "execution_count": 128,
   "id": "7d427594",
   "metadata": {},
   "outputs": [
    {
     "data": {
      "text/plain": [
       "torch.Size([1, 768])"
      ]
     },
     "execution_count": 128,
     "metadata": {},
     "output_type": "execute_result"
    }
   ],
   "source": [
    "generated_cot_clinicalbert_embedding = clinicalBert_model(**clinicalBert_tokenizer(generated_cot, return_tensors=\"pt\")).last_hidden_state.mean(dim=1)\n",
    "generated_cot_clinicalbert_embedding.shape"
   ]
  },
  {
   "cell_type": "code",
   "execution_count": 129,
   "id": "7148359b",
   "metadata": {},
   "outputs": [
    {
     "name": "stdout",
     "output_type": "stream",
     "text": [
      "0.6146697402000427\n"
     ]
    }
   ],
   "source": [
    "similarity_cot_graph_paths = []\n",
    "for i in clinicalbert_path_embeddings:\n",
    "    cosine_sim = (torch.nn.functional.cosine_similarity(generated_cot_clinicalbert_embedding, i))\n",
    "    similarity_cot_graph_paths.append(cosine_sim.item())\n",
    "print(max(similarity_cot_graph_paths))"
   ]
  },
  {
   "cell_type": "markdown",
   "id": "672b2968",
   "metadata": {},
   "source": [
    "**BLEU/Rouge**"
   ]
  },
  {
   "cell_type": "code",
   "execution_count": 130,
   "id": "f7141cd8",
   "metadata": {},
   "outputs": [
    {
     "name": "stdout",
     "output_type": "stream",
     "text": [
      "{'bleu': 0.13507942108928866, 'precisions': [0.22448979591836735, 0.1557377049180328, 0.11522633744855967, 0.08264462809917356], 'brevity_penalty': 1.0, 'length_ratio': 2.784090909090909, 'translation_length': 245, 'reference_length': 88}\n",
      "{'rouge1': 0.37837837837837834, 'rouge2': 0.26530612244897955, 'rougeL': 0.30405405405405406, 'rougeLsum': 0.3108108108108108}\n"
     ]
    }
   ],
   "source": [
    "bleu = bleu_score.compute(predictions=[generated_cot], references=[cot_gt])\n",
    "rouge = rouge_score.compute(predictions=[generated_cot], references=[cot_gt])\n",
    "print(bleu)\n",
    "print(rouge)"
   ]
  },
  {
   "cell_type": "markdown",
   "id": "8457aa6b",
   "metadata": {},
   "source": [
    "### 1-shot CoT with answer in a template form\n",
    "Prompt:\n",
    "```\n",
    "1. <step1>\n",
    "2. <step2>\n",
    "...\n",
    "So the answer is (<answer>).\n",
    "Make sure that the answer uses the above format. Answer the question step by step.\n",
    "\n",
    "Question: Low insulin to glucagon ratio is seen in all of these except:\n",
    "A) Glycogen synthesis\n",
    "B) Glycogen breakdown\n",
    "C) Gluconeogenesis\n",
    "D) Ketogenesis\n",
    "1. Low insulin to glucagon ratio implies a catabolic state, i.e. usage of body stores to form energy, typically seen in fasting state ancl diabetes mellitus.\n",
    "2. Catabolic state promotes glycogen breakdown, gluconeogenesis and ketogenesis.\n",
    "3. Glycogen synthesis is an anabolic process, which is promoted by insulin.\n",
    "So the answer is A.\n",
    "\n",
    "Question: Which of the following is not true about glomerular capillaries?\n",
    "A) The oncotic pressure of the fluid leaving the capillaries is less than that of fluid entering it\n",
    "B) Glucose concentration in the capillaries is the same as that in glomerular filtrate\n",
    "C) Constriction of afferent aeriole decreases the blood flow to the glomerulas\n",
    "D) Hematocrit of the fluid leaving the capillaries is less than that of the fluid entering it\n",
    "```\n",
    "Answer:\n",
    "```\n",
    "1. Evaluate Option A: The oncotic pressure of the fluid leaving the capillaries is less than that of fluid entering it.\n",
    "This statement is true. The oncotic pressure in the glomerular capillaries is higher than in the Bowman's capsule, causing fluid to be filtered out of the capillaries.\n",
    "\n",
    "2. Evaluate Option B: Glucose concentration in the capillaries is the same as that in glomerular filtrate.\n",
    "This statement is not true. Glucose is actively reabsorbed in the proximal tubule, so the concentration of glucose in the capillaries is lower than in the glomerular filtrate.\n",
    "\n",
    "3. Evaluate Option C: Constriction of afferent arteriole decreases the blood flow to the glomerulus.\n",
    "This statement is true. Constriction of the afferent arteriole reduces the blood flow entering the glomerulus, decreasing the glomerular filtration rate.\n",
    "\n",
    "4. Evaluate Option D: Hematocrit of the fluid leaving the capillaries is less than that of the fluid entering it.\n",
    "This statement is true. The glomerular capillaries filter out smaller molecules and fluid, while leaving behind larger molecules and formed elements, such as red blood cells. This results in a lower hematocrit in the fluid leaving the capillaries compared to the entering fluid.\n",
    "\n",
    "Therefore, the answer is Option B: Glucose concentration in the capillaries is the same as that in glomerular filtrate.\n",
    "```"
   ]
  },
  {
   "cell_type": "markdown",
   "id": "10d95b46",
   "metadata": {},
   "source": [
    "**Sentence BERT comparison**"
   ]
  },
  {
   "cell_type": "code",
   "execution_count": 131,
   "id": "7cb7e97b",
   "metadata": {},
   "outputs": [],
   "source": [
    "generated_cot = \"\"\"\n",
    "1. Evaluate Option A: The oncotic pressure of the fluid leaving the capillaries is less than that of fluid entering it.\n",
    "This statement is true. The oncotic pressure in the glomerular capillaries is higher than in the Bowman's capsule, causing fluid to be filtered out of the capillaries.\n",
    "\n",
    "2. Evaluate Option B: Glucose concentration in the capillaries is the same as that in glomerular filtrate.\n",
    "This statement is not true. Glucose is actively reabsorbed in the proximal tubule, so the concentration of glucose in the capillaries is lower than in the glomerular filtrate.\n",
    "\n",
    "3. Evaluate Option C: Constriction of afferent arteriole decreases the blood flow to the glomerulus.\n",
    "This statement is true. Constriction of the afferent arteriole reduces the blood flow entering the glomerulus, decreasing the glomerular filtration rate.\n",
    "\n",
    "4. Evaluate Option D: Hematocrit of the fluid leaving the capillaries is less than that of the fluid entering it.\n",
    "This statement is true. The glomerular capillaries filter out smaller molecules and fluid, while leaving behind larger molecules and formed elements, such as red blood cells. This results in a lower hematocrit in the fluid leaving the capillaries compared to the entering fluid.\n",
    "\n",
    "Therefore, the answer is Option B: Glucose concentration in the capillaries is the same as that in glomerular filtrate.\n",
    "\"\"\"\n",
    "cot_gt = \"\"\"Ans-a. The oncotic pressure of the fluid leaving the capillaries is less than that of fluid entering it Guyton I LpJ1 4-.;anong 23/e p653-6_)Glomerular oncotic pressure (due to plasma protein content) is higher than that of filtrate oncotic pressure in Bowman's capsule\"Since glucose is freely filtered and the fluid in the Bowman's capsule is isotonic with plasma, the concentration of glucose in the filtrate is the same as in the capillaries\"\"\"\n",
    "sentences_to_compare = [\n",
    "    generated_cot,\n",
    "    cot_gt\n",
    "]\n",
    "sentence_embeddings = model.encode(sentences_to_compare)\n"
   ]
  },
  {
   "cell_type": "code",
   "execution_count": 132,
   "id": "b53bcd0d",
   "metadata": {},
   "outputs": [
    {
     "data": {
      "text/plain": [
       "array([[0.79697204]], dtype=float32)"
      ]
     },
     "execution_count": 132,
     "metadata": {},
     "output_type": "execute_result"
    }
   ],
   "source": [
    "from sklearn.metrics.pairwise import cosine_similarity\n",
    "cosine_similarity(sentence_embeddings[[0]], sentence_embeddings[[1]])"
   ]
  },
  {
   "cell_type": "markdown",
   "id": "2362a4b2",
   "metadata": {},
   "source": [
    "**GPT-4 comparison**\n",
    "Prompt\n",
    "```\n",
    "How similar are the following sentences? Rate the similarity using a score between 0 and 1 with a reasoning for the same.\n",
    "Sentence A: 1. Evaluate Option A: The oncotic pressure of the fluid leaving the capillaries is less than that of fluid entering it.This statement is true. The oncotic pressure in the glomerular capillaries is higher than in the Bowman's capsule, causing fluid to be filtered out of the capillaries.2. Evaluate Option B: Glucose concentration in the capillaries is the same as that in glomerular filtrate.This statement is not true. Glucose is actively reabsorbed in the proximal tubule, so the concentration of glucose in the capillaries is lower than in the glomerular filtrate.3. Evaluate Option C: Constriction of afferent arteriole decreases the blood flow to the glomerulus.This statement is true. Constriction of the afferent arteriole reduces the blood flow entering the glomerulus, decreasing the glomerular filtration rate.4. Evaluate Option D: Hematocrit of the fluid leaving the capillaries is less than that of the fluid entering it.This statement is true. The glomerular capillaries filter out smaller molecules and fluid, while leaving behind larger molecules and formed elements, such as red blood cells. This results in a lower hematocrit in the fluid leaving the capillaries compared to the entering fluid.Therefore, the answer is Option B: Glucose concentration in the capillaries is the same as that in glomerular filtrate.\n",
    "Sentence B: Ans-a. The oncotic pressure of the fluid leaving the capillaries is less than that of fluid entering it Guyton I LpJ1 4-.;anong 23/e p653-6_)Glomerular oncotic pressure (due to plasma protein content) is higher than that of filtrate oncotic pressure in Bowman's capsule\"Since glucose is freely filtered and the fluid in the Bowman's capsule is isotonic with plasma, the concentration of glucose in the filtrate is the same as in the capillaries\n",
    "```\n",
    "Response\n",
    "```\n",
    "The similarity between Sentence A and Sentence B is moderate and I would rate it around 0.5 to 0.6. Here is the reasoning for the rating:\n",
    "\n",
    "Both sentences discuss the physiology of the glomerular filtration process, specifically mentioning oncotic pressure and glucose concentration. They contain several key points of overlap but also have a critical discrepancy:\n",
    "\n",
    "Similarities:\n",
    "- Both sentences state that the oncotic pressure in the glomerular capillaries is higher than that in Bowman's capsule, leading to fluid being filtered out of the capillaries.\n",
    "- The sentences address the concept of glucose concentration in relation to the capillaries and the glomerular filtrate.\n",
    "\n",
    "Differences:\n",
    "- Sentence A contains an incorrect statement regarding glucose concentration, claiming that the concentration in the capillaries is lower than in the glomerular filtrate due to reabsorption in the proximal tubule. This is a misunderstanding, as reabsorption occurs after the filtrate has been formed, and initially, the concentration of glucose is the same in the capillaries and the filtrate.\n",
    "- Sentence B correctly states that glucose concentration is the same in the filtrate and the capillaries, as the filtrate is isotonic with plasma.\n",
    "- Sentence A erroneously concludes that glucose concentration in the capillaries and glomerular filtrate is the same, which is the opposite of its earlier incorrect statement.\n",
    "- Sentence A evaluates multiple options related to kidney physiology, while Sentence B focuses solely on oncotic pressure and glucose concentration.\n",
    "\n",
    "The final scores are tempered by the contradiction in Sentence A, which affects the overall similarity. If Sentence A's conclusion about glucose concentration was consistent with its previous assertion (even though it would still be incorrect), the similarity score would be lower due to the clear discrepancy between the two sentences. The moderate similarity score reflects the mixture of aligned information about oncotic pressure and contrasting statements about glucose concentration.\n",
    "```"
   ]
  },
  {
   "cell_type": "markdown",
   "id": "221184dc",
   "metadata": {},
   "source": [
    "**Graph Edit distance**"
   ]
  },
  {
   "cell_type": "code",
   "execution_count": 133,
   "id": "37dbaf14",
   "metadata": {},
   "outputs": [
    {
     "name": "stdout",
     "output_type": "stream",
     "text": [
      "['GLUCOSE', 'ONCOTIC PRESSURE', 'BLOOD FLOW']\n"
     ]
    }
   ],
   "source": [
    "# Evaluating CoT\n",
    "# candidate_cot_terms = [w.upper() for w in generated_cot.split(\" \")]\n",
    "candidate_cot_terms = [\"glucose\", \"concentration\", \"capillaries\", \"glomerular\", \"filtrate\", \"oncotic pressure\", \"afferent arteriole\", \"blood flow\", \"glomerulus\", \"hematocrit\", \"fluid\", \"Bowman's capsule\", \"proximal tubule\", \"red blood cells\"]\n",
    "cot_terms = []\n",
    "for candidate in candidate_cot_terms:\n",
    "    if candidate.upper() in concepts:\n",
    "        cot_terms.append(candidate.upper())\n",
    "print(cot_terms)"
   ]
  },
  {
   "cell_type": "code",
   "execution_count": 134,
   "id": "719a8277",
   "metadata": {},
   "outputs": [
    {
     "name": "stdout",
     "output_type": "stream",
     "text": [
      "['GLUCOSE', 'ONCOTIC PRESSURE', 'BLOOD FLOW']\n",
      "[('GLUCOSE', 'ONCOTIC PRESSURE'), ('ONCOTIC PRESSURE', 'BLOOD FLOW')]\n"
     ]
    }
   ],
   "source": [
    "# create graph chaining these terms in the order in which they occur.\n",
    "cot_graph = nx.DiGraph()\n",
    "cot_graph.add_nodes_from(cot_terms)\n",
    "for c in cot_terms:\n",
    "    if cot_terms.index(c) < len(cot_terms) - 1:\n",
    "        cot_graph.add_edge(c, cot_terms[cot_terms.index(c) + 1])\n",
    "print(list(cot_graph.nodes()))\n",
    "print(list(cot_graph.edges()))"
   ]
  },
  {
   "cell_type": "code",
   "execution_count": 135,
   "id": "4890b243",
   "metadata": {},
   "outputs": [
    {
     "name": "stdout",
     "output_type": "stream",
     "text": [
      "[0.0, 0.0, 0.0, 0.0, 0.0, 0.0, 0.0, 0.0, 0.0, 0.0, 0.0, 0.0, 0.0, 0.0, 0.0, 0.0, 0.0, 0.0, 0.0, 0.0, 0.0, 0.0, 0.0, 0.0, 0.0, 0.0, 0.0, 0.0, 0.0, 0.0, 0.0, 0.0, 0.0, 0.0, 0.0, 0.0, 0.0, 0.0, 0.0, 0.0, 0.0, 0.0, 0.0, 0.0, 0.0, 0.0, 0.0, 0.0, 0.0, 0.0, 0.0, 0.0, 0.0, 0.0, 0.0, 0.0, 0.0, 0.0, 0.0, 0.0, 0.0, 0.0, 0.0, 0.0, 0.0, 0.0, 0.0, 0.0, 0.0, 0.0, 0.0, 0.0, 0.0, 0.0, 0.0, 0.0, 0.0, 0.0, 0.0, 0.0, 0.0, 0.0]\n"
     ]
    }
   ],
   "source": [
    "# graph edit distance\n",
    "gedistances = []\n",
    "for path in paths:\n",
    "    path_graph = nx.DiGraph()\n",
    "    path_graph.add_nodes_from(path)\n",
    "    for c in path:\n",
    "        if path.index(c) < len(path) - 1:\n",
    "            path_graph.add_edge(c, path[path.index(c) + 1])\n",
    "    gedistances.append(nx.graph_edit_distance(path_graph, cot_graph))\n",
    "print(gedistances)"
   ]
  },
  {
   "cell_type": "code",
   "execution_count": 136,
   "id": "3dc4ec98",
   "metadata": {},
   "outputs": [
    {
     "name": "stdout",
     "output_type": "stream",
     "text": [
      "0.0\n"
     ]
    }
   ],
   "source": [
    "print(max(gedistances))"
   ]
  },
  {
   "cell_type": "markdown",
   "id": "466df380",
   "metadata": {},
   "source": [
    "**Comparison of CoT embedding and paths from KG**\n",
    "\n",
    "Combine the triples from KG paths and compare the cosine similarity of resulting ClinicalBERT embedding against generated CoT embedding."
   ]
  },
  {
   "cell_type": "code",
   "execution_count": 137,
   "id": "06abe540",
   "metadata": {},
   "outputs": [],
   "source": [
    "from transformers import AutoTokenizer, AutoModel\n",
    "clinicalBert_tokenizer = AutoTokenizer.from_pretrained(\"medicalai/ClinicalBERT\")\n",
    "clinicalBert_model = AutoModel.from_pretrained(\"medicalai/ClinicalBERT\")"
   ]
  },
  {
   "cell_type": "code",
   "execution_count": 138,
   "id": "a18b25b2",
   "metadata": {},
   "outputs": [
    {
     "name": "stdout",
     "output_type": "stream",
     "text": [
      "torch.Size([82, 768])\n",
      "82\n"
     ]
    }
   ],
   "source": [
    "clinicalbert_path_embeddings = []\n",
    "for path in paths:\n",
    "    # print(path)\n",
    "    inputs = clinicalBert_tokenizer(\" \".join(path), return_tensors=\"pt\")\n",
    "    outputs = clinicalBert_model(**inputs)\n",
    "    clinicalbert_path_embeddings.append(outputs.last_hidden_state.mean(dim=1))\n",
    "print(torch.cat(clinicalbert_path_embeddings, dim=0).shape)\n",
    "print(len(paths))\n"
   ]
  },
  {
   "cell_type": "code",
   "execution_count": 139,
   "id": "c5c4b685",
   "metadata": {},
   "outputs": [
    {
     "data": {
      "text/plain": [
       "torch.Size([1, 768])"
      ]
     },
     "execution_count": 139,
     "metadata": {},
     "output_type": "execute_result"
    }
   ],
   "source": [
    "generated_cot_clinicalbert_embedding = clinicalBert_model(**clinicalBert_tokenizer(generated_cot, return_tensors=\"pt\")).last_hidden_state.mean(dim=1)\n",
    "generated_cot_clinicalbert_embedding.shape"
   ]
  },
  {
   "cell_type": "code",
   "execution_count": 140,
   "id": "26fbe9e1",
   "metadata": {},
   "outputs": [
    {
     "name": "stdout",
     "output_type": "stream",
     "text": [
      "0.6121519207954407\n"
     ]
    }
   ],
   "source": [
    "similarity_cot_graph_paths = []\n",
    "for i in clinicalbert_path_embeddings:\n",
    "    cosine_sim = (torch.nn.functional.cosine_similarity(generated_cot_clinicalbert_embedding, i))\n",
    "    similarity_cot_graph_paths.append(cosine_sim.item())\n",
    "print(max(similarity_cot_graph_paths))"
   ]
  },
  {
   "cell_type": "markdown",
   "id": "fe021227",
   "metadata": {},
   "source": [
    "**BLEU/Rouge**"
   ]
  },
  {
   "cell_type": "code",
   "execution_count": 141,
   "id": "99016223",
   "metadata": {},
   "outputs": [
    {
     "name": "stdout",
     "output_type": "stream",
     "text": [
      "{'bleu': 0.1379113363747685, 'precisions': [0.22916666666666666, 0.1589958158995816, 0.11764705882352941, 0.08438818565400844], 'brevity_penalty': 1.0, 'length_ratio': 2.727272727272727, 'translation_length': 240, 'reference_length': 88}\n",
      "{'rouge1': 0.3848797250859107, 'rouge2': 0.26989619377162627, 'rougeL': 0.30927835051546393, 'rougeLsum': 0.3161512027491408}\n"
     ]
    }
   ],
   "source": [
    "bleu = bleu_score.compute(predictions=[generated_cot], references=[cot_gt])\n",
    "rouge = rouge_score.compute(predictions=[generated_cot], references=[cot_gt])\n",
    "print(bleu)\n",
    "print(rouge)"
   ]
  },
  {
   "cell_type": "code",
   "execution_count": null,
   "id": "72f58d80",
   "metadata": {},
   "outputs": [],
   "source": []
  }
 ],
 "metadata": {
  "kernelspec": {
   "display_name": "huggingface",
   "language": "python",
   "name": "python3"
  },
  "language_info": {
   "codemirror_mode": {
    "name": "ipython",
    "version": 3
   },
   "file_extension": ".py",
   "mimetype": "text/x-python",
   "name": "python",
   "nbconvert_exporter": "python",
   "pygments_lexer": "ipython3",
   "version": "3.8.18"
  }
 },
 "nbformat": 4,
 "nbformat_minor": 5
}
