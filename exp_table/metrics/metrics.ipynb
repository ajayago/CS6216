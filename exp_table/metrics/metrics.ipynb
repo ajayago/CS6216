{
 "cells": [
  {
   "cell_type": "code",
   "execution_count": 1,
   "metadata": {},
   "outputs": [],
   "source": [
    "import os\n",
    "os.environ[\"CUDA_VISIBLE_DEVICES\"] = \"1\""
   ]
  },
  {
   "cell_type": "markdown",
   "metadata": {},
   "source": [
    "### Preprocess the .json"
   ]
  },
  {
   "cell_type": "code",
   "execution_count": 95,
   "metadata": {},
   "outputs": [
    {
     "name": "stdout",
     "output_type": "stream",
     "text": [
      "{\"Which of the following is not true about glomerular capillaries')\": {'generated_cot': 'The oncotic pressure of the fluid leaving the glomerular capillaries is greater than that of the fluid entering it because large molecules like proteins are not filtered through the glomerular capillaries.', 'cot_gt': 'Ans-a. The oncotic pressure of the fluid leaving the capillaries is less than that of fluid entering it Guyton I LpJ1 4-.;anong 23/e p653-6_)Glomerular oncotic pressure (due to plasma protein content) is higher than that of filtrate oncotic pressure in Bowman\\'s capsule\"Since glucose is freely filtered and the fluid in the Bowman\\'s capsule is isotonic with plasma, the concentration of glucose in the filtrate is the same as in the capillaries', 'opa': 'The oncotic pressure of the fluid leaving the capillaries is less than that of fluid entering it', 'opb': 'Glucose concentration in the capillaries is the same as that in glomerular filtrate', 'opc': 'Constriction of afferent aeriole decreases the blood flow to the glomerulas', 'opd': 'Hematocrit of the fluid leaving the capillaries is less than that of the fluid entering it', 'cop': 0}, 'Axonal transport is:': {'generated_cot': 'Axonal transport can be anterograde (from the cell body towards the axon terminal) or retrograde (from the axon terminal towards the cell body).', 'cot_gt': 'Fast anterograde (400 mm/day) transport occurs by kinesin molecular motor and retrograde transport (200 mm/day) occurs by dynein molecular motor.', 'opa': 'Antegrade', 'opb': 'Retrograde', 'opc': 'Antegrade and retrograde', 'opd': 'None', 'cop': 2}, 'Low insulin to glucagon ratio is seen in all of these except:': {'generated_cot': 'Low insulin to glucagon ratio favors processes that lead to increased blood glucose levels, such as glycogen breakdown, gluconeogenesis, and ketogenesis.', 'cot_gt': 'Answer- A. Glycogen synthesisLow insulin to glucagon ratio implies a catabolic state, i.e. usage of body stores to form energy, typically seen in fasting state ancl diabetes mellitus. Hence, this state will promote glycogen breakdown, gluconeogenesis as well as ketone body formation, while at the same time inhibiting glycogen synthesis and storage.', 'opa': 'Glycogen synthesis', 'opb': 'Glycogen breakdown', 'opc': 'Gluconeogenesis', 'opd': 'Ketogenesis', 'cop': 0}, 'Concentration of tropicamide:': {'generated_cot': 'Tropicamide is available in different concentrations for ophthalmic use, and the common concentration is 0.1%.', 'cot_gt': 'Answer- A. 0.01Tropicamide is the shoest acting mydriatic, concentration used is 0.5-l% drops (0.005-0.010).Tropicamide:Concentration used: 0.5-l% drops (0.005-0.010)Duration of action: Though effective for upto 3 hours, maximum effect appear 30 minutes after the last drop and lasts for only 10-15 minutesUsed in Adults.', 'opa': '0.01', 'opb': '0.02', 'opc': '0.03', 'opd': '0.04', 'cop': 0}, 'Which of the following statements is true regarding H I N1 Influenza?': {'generated_cot': 'In H1N1 Influenza, pregnant women with symptoms can be started on oseltamivir without waiting for diagnostic testing under category B recommendations.', 'cot_gt': 'Ans: A. Pregnant woman with sore throat can be staed immediately on oseltamivir without diagnostic testing under category B(Ref. http..ilviww.molifir.nic.in/WriteReadData/1892s/ 804456402Categorisation.pcifi)Pregnant woman with sore throat can be staed immediately on oseltamivir without diagnostic testing under category B.Drug of choice - Oseltamivir (given for 10 days post-exposure). Priority groups (in order) for Influenza vaccinesPregnant womenHealthy young childrenAge >6 months with chronic medical conditionsHealthy adults 49-65 years15-49 years healthy young adultsHealthy adults > 65 years', 'opa': 'Pregnant woman with sore throat can be staed immediately on oseltamivir without diagnostic testing under category B', 'opb': 'People on long-term steroids cannot receive Os-eltam ivir', 'opc': 'Category B concerns with low risk cases', 'opd': 'Category B patients have to undergo immediate testing', 'cop': 0}, \"Which of the following are not a branch of external carotid Aery in Kiesselbach's plexus.\": {'generated_cot': \"Kiesselbach's plexus, located in the anterior part of the nasal septum, is primarily supplied by branches of the internal carotid artery, not the external carotid artery.\", 'cot_gt': \"*Kiesselbach's plexus: Antero superior pa is supplied by ANTERIOR & POSTERIOR ETHMOIDAL AERIES which are branches of ophthalmic aery, branch of INTERNAL CAROTID AERY. Antero inferior pa is supplied by SUPERIOR LABIAL AERY - branch of facial aery, which is branch of EXTERNAL CAROTID AERY. Postero superior pa is supplied by SPHENO-PALATINE AERY - branch of MAXILLARY aery, which is branch of ECA. POSTERO INFERIOR pa is supplied by branches of GREATER PALATINE AERY - branch of ECA Antero inferior pa/vestibule of septum contain anastomosis b/w septal ramus of superior labial branch of facial aery & branches of sphenopalatine, greater palatine & anterior ethmoidal aeries. These form a large capillary network called KIESSELBACH'S PLEXUS If dryness persists, bleeding will occur Therefore, in given options, Anterior ethmoidal aery is a branch of ICA not ECA\", 'opa': 'Sphenopalatine aery', 'opb': 'Anterior ethmoidal aery', 'opc': 'Greater palatine aery', 'opd': 'Septal branch of superior labial aery', 'cop': 1}, 'Diagnosis of the following ECG-': {'generated_cot': 'Electrical alternans on ECG refers to alternating amplitude of QRS complexes and T waves, typically seen in pericardial effusion or tamponade.', 'cot_gt': 'Option A- Broad QRS complex with normal sinus rhythm Digoxine toxicity Option B- P wave with fluctuating QRS complexes is seen. showing ELECTRICAL ALTERANS seen in large pericardial effusion in which hea is swinging. Option C- N Height in P wave: 2.5mm But in P-pulmonale: || by 1.5mm', 'opa': 'Ventricular bigeminy', 'opb': 'Electrical alternans', 'opc': 'P pulmonale', 'opd': 'Left ventricular failure', 'cop': 1}, 'A blue new born presents with cyanosis. The X–ray chest reveal oligaemic lung field and normal sized heart. Most likely diagnosis is –': {'generated_cot': \"Ans. is '1'. Pulmonary atresia is the most likely diagnosis with a blue newborn presenting with cyanosis, oligaemic lung field, and a normal-sized heart. Reference: Nelson Textbook of Pediatrics, 21st Edition, Chapter 427, Page 1776\", 'cot_gt': 'The findings in this newborn are\\nCyanosis at birth\\nOligaemic lung .fields\\nNormal sized heart\\nLets see each option one by one\\nEbstein anomaly - It can be easily ruled out as there is marked cardiomegaly in it.\\nTransposition of great vessels- There is cardiomegaly and plethoric lung fields see in it. So ruled out.\\nNow the real confusion - between PA and TOF.\\nTOF - in TOF there is oligaemic lung fields and normal sized heart but usually cyanosis is not present at birth.\\n\\xa0\\nNelson states - \\xa0\"Often cyanosis is not present at birth. but with increasing hypertrophy of the right ventricular infimdibulum and patient growth, cyanosis occurs later in the 1st year of life. But some cases may present with cyanosis at birth.\"\\n\\na Pulmonary atresia -\\n\\nThe child is cyanotic at birth\\nThere is pulmonary oligaemia\\nBut the heart is of variable size (from small to enlarge)', 'opa': \"Ebstein's anomaly\", 'opb': 'Pulmonary atresia', 'opc': 'Transposition of great arteries', 'opd': 'Tetralogy of fallot', 'cop': 1}, 'A second-year PG resident tells you to perform an ABG of a patient. All of the following are true about performing an ABG except:': {'generated_cot': \"Ans. is '3'. Radial artery is not the preferred site for performing an ABG. Reference: Ganong's Review of Medical Physiology, 26th Edition, Chapter 25, Page 374\", 'cot_gt': 'Ans: A. Before performing the ABG, syringe should be loaded with 0.3 cc of heparin(Ref: Harrison 18/e p364; http:// emedicine.medscape.comlaiclell 902703-overview).Care should be taken when measuring blood gases to obtain the aerial blood sample without using excessive heparin.Heparin should be expelled from the syringe after loading as it may lead to false pCO2 readings.Precautions:Most syringes come pre-packaged & contain a small amount of heparin, to prevent coagulation.Other syringes may need to be heparinized, by drawing up a small amount of liquid heparin & squiing it out again to remove air bubbles.Once the sample is obtained, care is taken to eliminate visible gas bubbles, as these bubbles can dissolve into the sample & cause inaccurate results.', 'opa': 'Before performing the ABG, syringe should be loaded with 0.3 cc of heparin', 'opb': 'Normal pH, HCO. and PCO, levels may not indicate absence of an acid-base imbalance', 'opc': \"A different site should be tried i f modified Allen's test is negative\", 'opd': 'Radial aery is the preferred site', 'cop': 0}, 'Respiratory rhythm generation center is located at:': {'generated_cot': \"Ans. is '1'. The respiratory rhythm generation center is located in the Pre-Botzinger complex. Reference: Guyton and Hall Textbook of Medical Physiology, 13th Edition, Chapter 38, Page 470\", 'cot_gt': 'Ans: B. Pre-Botzinger complexRef: Ganong 25Ie p656, 24Ie p658)Rhythmic respiration is initiated by a small group of synaptically coupled pacemaker cells in the pre-Botzinger complex (pre-BOTC) on either side of the medulla between the nucleus ambiguus and the lateral reticular nucleus.The main components of the respiratory control pattern generator responsible for automatic respiration are located in the medulla. Rhythmic respiration is initiated by a small group of synaptically coupled pacemaker cells in the pre-Botzinger complex (pre-BOTC) on either side of the medulla between the nucleus ambiguus and the lateral reticular nucleus.', 'opa': 'Dorsal respiratory group', 'opb': 'Pre-Botzinger complex', 'opc': 'Ventral respiratory neurons', 'opd': 'Pneumotaxic center', 'cop': 1}, 'Gait apraxia is seen in thromboembolic episode involving:': {'generated_cot': \"Ans. is '0'. Gait apraxia is seen in a thromboembolic episode involving the ACA (Anterior Cerebral Artery). Reference: Neurology - McGraw-Hill Medical\", 'cot_gt': 'Ans. a. ACA (Ref: Harrison 19/e p163, 18/e p193)Gait apraxia is seen in thromboembolic episode involving anterior cerebral aery.Frontal lobe is mainly supplied by anterior cerebral aery; its occlusion leads to gait apraxia', 'opa': 'ACA', 'opb': 'MCA', 'opc': 'PCA', 'opd': 'Posterior choroidal aery', 'cop': 0}, 'A patient who was on ventilator and being ventilated for past few days, suddenly pulls out the endotracheal tube. What is the next step of management?': {'generated_cot': \"Ans. is '0'. The next step of management after a patient on ventilator pulls out the endotracheal tube is to assess the patient, give bag and mask ventilation, and look for spontaneous breathing. Reference: Critical Care Medicine: Principles of Diagnosis and Management in the Adult, 4th Edition, Chapter 54, Page 841\", 'cot_gt': \"Ans. a. Assess the patient, give bag and mask ventilation and look for spontaneous breathingIn self-extubation, assess the patient, give bag and mask ventilation and look for spontaneous breathing.Unplanned ExtubationUnplanned extubation of mechanically ventilated patients is relatively commonSelf-extubation refers to the patient's action, who deliberately removes the endotracheal tube (MC type of unplanned extubation, typically occur at night)Accidental extubation is attributed either to personnel's inappropriate manipulation of the tube during patient care or to a non-purposeful patient's action, e.g. coughing (mostly occur in the morning) Risk Factors for Unplanned ExtubationPatient factorsStaff factorsMaleDeliriumLight sedationDifficulty in securing tube (e g. facial swelling, facial burns)Previous unplanned extubationJunior staffNurse-to-patient ratioInadequately secured endotracheal tubeand/or checks\", 'opa': 'Assess the patient, give bag and mask ventilation and look for spontaneous breathing', 'opb': 'Sta bag and mask ventilation and reintubate', 'opc': 'Sedate and reintubate', 'opd': 'Make him sit and do physiotherapy', 'cop': 0}, 'Characteristic of venous blood flow of lower limb in duplex Doppler is?': {'generated_cot': \"Ans. is '1'. Venous blood flow of lower limb in duplex Doppler is Biphasic. Reference: Radiopaedia.org, Venous duplex ultrasound\", 'cot_gt': '* Doppler is based on frequency shift and color coding depends on the direction of blood flow* Direction of blood flow:- Flow towards the probe- Red- Flow away from probe- Blue Intensity of color depends on velocity of flow Doppler effect: change in frequency because of relative motion between moving source of sound and observer. Direction of flow Color doppler showing CCA bifurcation Spectral doppler: Cursor is placed into the area of blood vessel we want to trace and its velocity is measured.An angle has to be maintained to obtain a proper image- Ideal angle = 0o (practically not possible)- Optimal angle = 45o-60o (never 90o) Spectral doppler of aeries Low resistance High resistance Example:* Brain aeries* ICA* CCA* VA- Renal aeries| Monophasic with pattern pulsatility Example: - Extremity aeries* ECA | Triphasic pattern Normal Peripheral Aerial Waveform Triphasic waveform Initial high velocity forward flow component Early diastolic reverse flow component Late diastolic forward flow component Narrow systolic window * Venous doppler:- It is Monophasic- during free breathing variations in amplitude due to cardiac and respiratory phasicity- In breath hold- pressure changes of . Atrium are reflected back in the major veins', 'opa': 'Monophasic', 'opb': 'Biphasic', 'opc': 'Triphasic', 'opd': 'Non phasic', 'cop': 0}, '2, 3-BPG binds to sites of haemoglobin and the affinity for oxygen': {'generated_cot': '2, 3-BPG binds to sites of haemoglobin and the affinity for oxygen decreases, which means it decreases the oxygen affinity of hemoglobin. This allows for easier unloading of oxygen to tissues. 2,3-BPG is produced in red blood cells as part of the glycolytic pathway.', 'cot_gt': 'Answer- B. 1, decreases2,3-BPG binds to 1 site of haemoglobin and decreases the affinity for oxygen.2, 3 Bisphosphoglycerate (2,3- BPG) or 2,3 Diphosphoglycerate 2,3- DPG)It is most abundant organic phosphate in RBC.', 'opa': '4, decreases', 'opb': '1, decreases', 'opc': '4, increases', 'opd': '1, increases', 'cop': 1}, 'Highest concentration of oxygen is delivered through?': {'generated_cot': 'The highest concentration of oxygen is delivered through a Mask with reservoir. A mask with a reservoir bag allows for the delivery of the highest concentration of oxygen as it collects oxygen during exhalation and delivers it during inhalation. This ensures a higher oxygen concentration for the patient.', 'cot_gt': 'Bag and mask-100% O2 Venturi mask- 60% O2 Nasal cannula - 40% O2 Mask with reservoir- 80-90% O2', 'opa': 'Nasal cannula', 'opb': 'Venturi mask', 'opc': 'Bag and mask', 'opd': 'Mask with reservoir', 'cop': 2}, 'A mother is Hbs Ag positive and anti Hbe Ag positive. Risk of transmission of Hep. B in child is:': {'generated_cot': 'A mother who is HBsAg positive and anti-HBeAg positive has a low risk of transmitting Hepatitis B to her child, approximately 0%. This is because the presence of anti-HBeAg indicates a lower viral load and lower infectivity. The combination of HBsAg positive and anti-HBeAg positive suggests a less infectious state.', 'cot_gt': 'Before answering these questions lets first discuss hepatitis in brief.\\nMaternal infection: The acute infection is manifested by flu like illness as malaise, anorexia, nausea and vomiting. In majority, it remains asymptomatic. Jaundice is rare and fever is uncommon.\\nClinical course (HBV): Nearly 90–95% of patients clear the infection and have full recovery. 1% develop fulminant hepatitis resulting massive hepatic necrosis. 10-15% become chronic and 10% of these chronic cases suffer from chronic active hepatitis, cirrhosis and hepatocellular carcinoma.\\nDiagnosis is confirmed by serological detection of HBsAg, HBeAg (denote high infectivity) and antibody to hepatitis B core antigen (HBcAg) and HBV DNA titer (107–1011).\\nScreening: All pregnant women should be screened for HBV infection at first antenatal visit and it should be repeated during the third trimester for ‘high risk’ groups (intravenous drug abusers, sexual promiscuity, hemophilics, patients on hemodialysis or having multiple sex partners).\\nHepatitis C (HCV):\\nIt is recognized as the major cause of non-A, non-B hepatitis worldwide and is the leading cause of transfusion associated hepatitis. Transmission is mainly blood borne and to a lesser extent by faecal-oral route. It is responsible for chronic active hepatitis and hepatic failure.\\nPerinatal transmission (10–40%) is high when coinfected with HIV and HBV.\\nDetection is by antibody to HCV by EIA, which develops usually late in the infection.\\nConfirmation is done by recombinant immunoblot assay (RIBA-3).\\nChronic carrier state is present. Breastfeeding is not contraindicated.\\nHepatitis D (HDV):\\nIt is seen in patients infected with HBV either as a co-infection or super infection. Perinatal transmission is known.\\nHepatitis E (HEV): Hepatitis E is the most important cause of non-A, non-B hepatitis in developing countries like India. Chronic carrier state is present. Perinatal transmission is uncommon.\\nMaternal mortality is very high (15–20%).', 'opa': '20%', 'opb': '50%', 'opc': '0%', 'opd': '90%', 'cop': 0}, 'A patient presented to emergency with overdose some drug. There were increased salivation and increased bronchial secretions. On examination, blood pressure was 88/60 mmHg. RBC esterase level is 50. What should be the treatment of this person?': {'generated_cot': 'In a case of overdose with symptoms like increased salivation, bronchial secretions, and hypotension, the treatment of choice is Atropine. Atropine is an anticholinergic agent that can counteract the effects of excess acetylcholine, which is likely causing the symptoms described.', 'cot_gt': 'Low esterase levels are suggestive of overdose of some drug which acts by inhibiting acetyl choline esterase like organophosphate poisoning. Inhibition of choline esterase results In increased amount of Ach at synapse, so poisoning or overdose results in cholinergic symptoms like salivation, lacrimation, urination, emesis, increased bronchial secretions, reduction in blood pressure.So treatment Of choice is Atropine. Atropine -It is highly effective in counter-acting the muscarinic symptoms, but higher doses are required to antagonize the central effects. It does not reverse peripheral muscular paralysis which is a nicotinic action. All cases of anti-ChE (carbamate or organophosphate) poisoning must be promptly given atropine2 mg i.v. repeated every 10 min till dryness of mouth or other signs of atropinization appear (upto 200 mg has been administered in a day). Continued treatment with maintenance doses may be required for 1-2 weeks. Neostigmine and physostigmine worsens the signs and symptoms as these also act by inhibiting choline esterase. Physostigmine and flumazenil are respectively used for Atropine and benzodiazepines poisoning.', 'opa': 'Neostigmine', 'opb': 'Atropine', 'opc': 'Flumazenil', 'opd': 'Physostigmine', 'cop': 1}, 'In a study, two groups of newborns are checked for their weights based on whether their mothers received food supplements or not. The appropriate test which can be used for comparing the data is:': {'generated_cot': \"When comparing the weights of two groups of newborns based on whether their mothers received food supplements or not, the appropriate test to use is the Student's T-test. The Student's T-test is used to compare the means of two independent groups, which is suitable for this scenario where the groups are independent (received food supplements or not).\", 'cot_gt': 'Ans: C. Student\\'s T-test(Ref Park 22/e p795; Biostatistics by Mahajan 7/e p134)Here, comparing a parametric quantitative variable (weight) in two unrelated group of people.Hence, \"Student\\'s t-test\" used.Student t-test:Used when outcome variable is normally distributed in population (for quantitative data).Ex: BP, blood glucose.', 'opa': 'Chi square test', 'opb': 'Paired T-test', 'opc': \"Student's T-test\", 'opd': 'Fischer exact test', 'cop': 2}, 'Which vitamin is required for glycogen Phosphorylase?': {'generated_cot': 'Vitamin B6 (PLP) is required for the activation of glycogen phosphorylase. PLP serves as a coenzyme in various enzymatic reactions, including the conversion of phosphorylase b to its active form phosphorylase a, which is essential for glycogen breakdown.', 'cot_gt': 'Glycogen phosphorylase is the rate limiting enzyme of glycogenolysis. And it requires PLP. The active form of vitamin B6 is the coenzyme pyridoxal phosphate (PLP) PLP can be synthesized from the three compounds pyridoxine, pyridoxal and pyridoxamine. This PLP for this enzyme Glycogen phosphorylase is not required as co-enzyme, but it act as a phosphate donor. Enzyme glycogen phosphorylase will cut glycogen a (1-4) bond apa and the glucose released are transferred in Glucose-1-phosphate and that phosphate is taken from PLP.', 'opa': 'PLP', 'opb': 'TPP', 'opc': 'Riboflavin', 'opd': 'Lipoic acid', 'cop': 0}, 'Which of the following is the only complete cailage ring in the respiratory tree?': {'generated_cot': 'The only complete cartilage ring in the respiratory tree is the Cricoid Cartilage. The cricoid cartilage forms a complete ring and is located just below the thyroid cartilage in the larynx. It provides structural support to the trachea and is crucial for maintaining airway patency.', 'cot_gt': 'Answer- A (Cricoid cailage)(Ref: BDC 5/e Vol lII/p238)Complete cailage ring is seen in Cricoid cailage.Cricoid cailage is shaped like a ring. It encircles the larynx below the thyroid cailage. It is thicker and stronger than the thyroid cailage.', 'opa': 'Cricoid cailage', 'opb': 'Thyroid cailage', 'opc': 'Cunieform cailage', 'opd': 'Epiglottis', 'cop': 0}}\n"
     ]
    }
   ],
   "source": [
    "import json\n",
    "from pprint import pprint\n",
    "\n",
    "def load_json(file_path):\n",
    "    with open(file_path, 'r') as f:\n",
    "        data = json.load(f)\n",
    "    return data\n",
    "\n",
    "def merge_json(questions_file, answers_file):\n",
    "    questions = load_json(questions_file)\n",
    "    answers = load_json(answers_file)\n",
    "    \n",
    "    merged_data = {}\n",
    "    \n",
    "    for q_id, q_info in questions.items():\n",
    "        question_text = q_info['question']\n",
    "        cot_gt = q_info['explanation (cot)'][0]\n",
    "        choices = q_info['choices']\n",
    "        generated_cot = answers[q_id]['explanation (cot)']\n",
    "        generated_cot = ' '.join(generated_cot).replace('\\n', '').strip()\n",
    "        cop = q_info['answer'][0]\n",
    "        \n",
    "        merged_data[question_text] = {\n",
    "            'generated_cot': generated_cot,\n",
    "            'cot_gt': cot_gt,\n",
    "            'opa': choices['0'],\n",
    "            'opb': choices['1'],\n",
    "            'opc': choices['2'],\n",
    "            'opd': choices['3'],\n",
    "            'cop': int(cop)\n",
    "        }\n",
    "    \n",
    "    return merged_data\n",
    "\n",
    "questions_file = '../questions_20.json'\n",
    "answers_file = '../predictions/gpt3.5/few_shot_no_cot_gpt3.5.json'\n",
    "#answers_file = '../predictions/gpt4/zero_shot_no_cot_gpt4.json'\n",
    "\n",
    "responses = merge_json(questions_file, answers_file)\n",
    "print(responses)"
   ]
  },
  {
   "cell_type": "code",
   "execution_count": 47,
   "metadata": {},
   "outputs": [],
   "source": [
    "from utils import *"
   ]
  },
  {
   "cell_type": "code",
   "execution_count": 96,
   "metadata": {},
   "outputs": [
    {
     "data": {
      "text/plain": [
       "{'bleu': 0.016510923692680632,\n",
       " 'precisions': [0.4608355091383812,\n",
       "  0.1380697050938338,\n",
       "  0.06611570247933884,\n",
       "  0.03541076487252125],\n",
       " 'brevity_penalty': 0.14945150951762787,\n",
       " 'length_ratio': 0.34473447344734476,\n",
       " 'translation_length': 766,\n",
       " 'reference_length': 2222}"
      ]
     },
     "execution_count": 96,
     "metadata": {},
     "output_type": "execute_result"
    }
   ],
   "source": [
    "# BLEU score\n",
    "bleu = evaluate_cot(responses, metric=\"bleu\")\n",
    "bleu\n",
    "\n",
    "# ROUGE score\n",
    "# rouge = evaluate_cot(responses, metric=\"rouge\")\n",
    "# rouge"
   ]
  },
  {
   "cell_type": "code",
   "execution_count": 97,
   "metadata": {},
   "outputs": [
    {
     "data": {
      "text/plain": [
       "(1.0, 0.66327727)"
      ]
     },
     "execution_count": 97,
     "metadata": {},
     "output_type": "execute_result"
    }
   ],
   "source": [
    "# SentenceBERT score\n",
    "scb_recall, scb_score = evaluate_cot(responses, metric=\"sentencebert\")\n",
    "scb_recall, scb_score"
   ]
  },
  {
   "cell_type": "code",
   "execution_count": 4,
   "metadata": {},
   "outputs": [
    {
     "name": "stdout",
     "output_type": "stream",
     "text": [
      "...initializing KG\n",
      "...start loading the KG\n"
     ]
    }
   ],
   "source": [
    "# This takes a long time\n",
    "evaluate_cot(responses, metric=\"kgbased_v2\")"
   ]
  },
  {
   "cell_type": "code",
   "execution_count": null,
   "metadata": {},
   "outputs": [],
   "source": []
  }
 ],
 "metadata": {
  "kernelspec": {
   "display_name": "huggingface",
   "language": "python",
   "name": "python3"
  },
  "language_info": {
   "codemirror_mode": {
    "name": "ipython",
    "version": 3
   },
   "file_extension": ".py",
   "mimetype": "text/x-python",
   "name": "python",
   "nbconvert_exporter": "python",
   "pygments_lexer": "ipython3",
   "version": "3.8.18"
  }
 },
 "nbformat": 4,
 "nbformat_minor": 2
}
